{
 "cells": [
  {
   "cell_type": "code",
   "execution_count": 10,
   "id": "947bdfb8-1fd9-4ea9-a4b8-0a6a5f2e0ee9",
   "metadata": {},
   "outputs": [
    {
     "name": "stderr",
     "output_type": "stream",
     "text": [
      "\n",
      "Attaching package: ‘dplyr’\n",
      "\n",
      "\n",
      "The following objects are masked from ‘package:plyr’:\n",
      "\n",
      "    arrange, count, desc, failwith, id, mutate, rename, summarise,\n",
      "    summarize\n",
      "\n",
      "\n",
      "The following objects are masked from ‘package:stats’:\n",
      "\n",
      "    filter, lag\n",
      "\n",
      "\n",
      "The following objects are masked from ‘package:base’:\n",
      "\n",
      "    intersect, setdiff, setequal, union\n",
      "\n",
      "\n",
      "Loading required package: Matrix\n",
      "\n",
      "Loading required package: lpSolve\n",
      "\n",
      "Loading required package: Rcpp\n",
      "\n",
      "Loading 'brms' package (version 2.17.0). Useful instructions\n",
      "can be found by typing help('brms'). A more detailed introduction\n",
      "to the package is available through vignette('brms_overview').\n",
      "\n",
      "\n",
      "Attaching package: ‘brms’\n",
      "\n",
      "\n",
      "The following object is masked from ‘package:lme4’:\n",
      "\n",
      "    ngrps\n",
      "\n",
      "\n",
      "The following object is masked from ‘package:stats’:\n",
      "\n",
      "    ar\n",
      "\n",
      "\n",
      "\n",
      "Attaching package: ‘ggstance’\n",
      "\n",
      "\n",
      "The following objects are masked from ‘package:ggplot2’:\n",
      "\n",
      "    geom_errorbarh, GeomErrorbarh\n",
      "\n",
      "\n"
     ]
    }
   ],
   "source": [
    "library('readr')\n",
    "library('blabr')\n",
    "library('plyr')\n",
    "library('dplyr')\n",
    "library('ggplot2')\n",
    "library('rjson')\n",
    "library('parallel')\n",
    "library(\"readxl\")\n",
    "library('dotwhisker')\n",
    "library('broom')\n",
    "library('lme4')\n",
    "library('irr')\n",
    "library('tuneR')\n",
    "library('ggExtra')\n",
    "library('brms')\n",
    "library('ggstance')\n",
    "source('PLEARN_analysis_helper.R')\n",
    "source('texvars.R')"
   ]
  },
  {
   "cell_type": "markdown",
   "id": "2538d9ca-3d9d-4cb9-bf3a-95f98f014b62",
   "metadata": {},
   "source": [
    "Because we need to run automated checks of usability of eyetracking data, the counting of usable participants comes in the final notebook"
   ]
  },
  {
   "cell_type": "markdown",
   "id": "5f8f4cfe-cb14-4804-85ea-130d06c01a16",
   "metadata": {},
   "source": [
    "# Load Data Objects"
   ]
  },
  {
   "cell_type": "code",
   "execution_count": 4,
   "id": "4962ffbc-eec9-4fca-af91-1a996da04813",
   "metadata": {},
   "outputs": [],
   "source": [
    "ed_df = readRDS(file='intermediate_data/eyetracking_fixations_df.RData')\n",
    "subject_info = readRDS(file='intermediate_data/subject_info.RData')"
   ]
  },
  {
   "cell_type": "markdown",
   "id": "d1d8c355-aa5a-4e32-bd6b-d08b6bd4c1de",
   "metadata": {},
   "source": [
    "# Counting Participants"
   ]
  },
  {
   "cell_type": "code",
   "execution_count": 2,
   "id": "95219418-cda1-4fb3-b893-501e0298dd83",
   "metadata": {},
   "outputs": [
    {
     "data": {
      "text/html": [
       "<style>\n",
       ".list-inline {list-style: none; margin:0; padding: 0}\n",
       ".list-inline>li {display: inline-block}\n",
       ".list-inline>li:not(:last-child)::after {content: \"\\00b7\"; padding: 0 .5ex}\n",
       "</style>\n",
       "<ol class=list-inline><li>'pl00_fixations.txt'</li><li>'pl01_fixations.txt'</li><li>'pl03_fixations.txt'</li><li>'pl09_fixations.txt'</li><li>'pl10_fixations.txt'</li><li>'pl100_fixations.txt'</li><li>'pl101_fixations.txt'</li><li>'pl103_fixations.txt'</li><li>'pl105_fixations.txt'</li><li>'pl106_fixations.txt'</li><li>'pl107_fixations.txt'</li><li>'pl108_fixations.txt'</li><li>'pl109_fixations.txt'</li><li>'pl11_fixations.txt'</li><li>'pl110_fixations.txt'</li><li>'pl111_fixations.txt'</li><li>'pl112_fixations.txt'</li><li>'pl113_fixations.txt'</li><li>'pl115_fixations.txt'</li><li>'pl116_fixations.txt'</li><li>'pl118_fixations.txt'</li><li>'pl119_fixations.txt'</li><li>'pl122_fixations.txt'</li><li>'pl123_fixations.txt'</li><li>'pl124_fixations.txt'</li><li>'pl126_fixations.txt'</li><li>'pl128_fixations.txt'</li><li>'pl129_fixations.txt'</li><li>'pl132_fixations.txt'</li><li>'pl133_fixations.txt'</li><li>'pl134_fixations.txt'</li><li>'pl136_fixations.txt'</li><li>'pl137_fixations.txt'</li><li>'pl138_fixations.txt'</li><li>'pl139_fixations.txt'</li><li>'pl14_fixations.xlsx'</li><li>'pl140_fixations.txt'</li><li>'pl141_fixations.txt'</li><li>'pl142_fixations.txt'</li><li>'pl143_fixations.txt'</li><li>'pl145_fixations.txt'</li><li>'pl146_fixations.txt'</li><li>'pl147_fixations.txt'</li><li>'pl148_fixations.txt'</li><li>'pl15_fixations.xlsx'</li><li>'pl150_fixations.txt'</li><li>'pl152_fixations.txt'</li><li>'pl153_fixations.txt'</li><li>'pl154_fixations.txt'</li><li>'pl155_fixations.txt'</li><li>'pl16_fixations.xlsx'</li><li>'pl18_fixations.xlsx'</li><li>'pl19_fixations.xlsx'</li><li>'pl20_fixations.xlsx'</li><li>'pl24_fixations.xlsx'</li><li>'pl25_fixations.xlsx'</li><li>'pl28_fixations.xlsx'</li><li>'pl29_fixations.xlsx'</li><li>'pl30_fixations.xlsx'</li><li>'pl31_fixations.xlsx'</li><li>'pl36_fixations.xlsx'</li><li>'pl37_fixations.xlsx'</li><li>'pl38_fixations.xlsx'</li><li>'pl39_fixations.xlsx'</li><li>'pl41_fixations.xlsx'</li><li>'pl42_fixations.xlsx'</li><li>'pl43_fixations.xlsx'</li><li>'pl45_fixations.xlsx'</li><li>'pl46_fixations.xlsx'</li><li>'pl47_fixations.xlsx'</li><li>'pl48_fixations.xlsx'</li><li>'pl49_fixations.xlsx'</li><li>'pl50_fixations.xlsx'</li><li>'pl51_fixations.xlsx'</li><li>'pl52_fixations.xlsx'</li><li>'pl55_fixations.xlsx'</li><li>'pl57_fixations.xlsx'</li><li>'pl59_fixations.xlsx'</li><li>'pl63_fixations.xlsx'</li><li>'pl64_fixations.xlsx'</li><li>'pl66_fixations.xlsx'</li><li>'pl67_fixations.xlsx'</li><li>'pl68_fixations.txt'</li><li>'pl69_fixations.txt'</li><li>'pl70_fixations.txt'</li><li>'pl71_fixations.txt'</li><li>'pl73_fixations.txt'</li><li>'pl74_fixations.txt'</li><li>'pl75_fixations.txt'</li><li>'pl76_fixations.txt'</li><li>'pl77_fixations.txt'</li><li>'pl79_fixations.txt'</li><li>'pl81_fixations.txt'</li><li>'pl82_fixations.txt'</li><li>'pl83_fixations.txt'</li><li>'pl85_fixations.txt'</li><li>'pl86_fixations.txt'</li><li>'pl87_fixations.txt'</li><li>'pl88_fixations.txt'</li><li>'pl89_fixations.txt'</li><li>'pl91_fixations.txt'</li><li>'pl94_fixations.txt'</li><li>'pl95_fixations.txt'</li><li>'pl96_fixations.txt'</li><li>'pl97_fixations.txt'</li><li>'pl99_fixations.txt'</li></ol>\n"
      ],
      "text/latex": [
       "\\begin{enumerate*}\n",
       "\\item 'pl00\\_fixations.txt'\n",
       "\\item 'pl01\\_fixations.txt'\n",
       "\\item 'pl03\\_fixations.txt'\n",
       "\\item 'pl09\\_fixations.txt'\n",
       "\\item 'pl10\\_fixations.txt'\n",
       "\\item 'pl100\\_fixations.txt'\n",
       "\\item 'pl101\\_fixations.txt'\n",
       "\\item 'pl103\\_fixations.txt'\n",
       "\\item 'pl105\\_fixations.txt'\n",
       "\\item 'pl106\\_fixations.txt'\n",
       "\\item 'pl107\\_fixations.txt'\n",
       "\\item 'pl108\\_fixations.txt'\n",
       "\\item 'pl109\\_fixations.txt'\n",
       "\\item 'pl11\\_fixations.txt'\n",
       "\\item 'pl110\\_fixations.txt'\n",
       "\\item 'pl111\\_fixations.txt'\n",
       "\\item 'pl112\\_fixations.txt'\n",
       "\\item 'pl113\\_fixations.txt'\n",
       "\\item 'pl115\\_fixations.txt'\n",
       "\\item 'pl116\\_fixations.txt'\n",
       "\\item 'pl118\\_fixations.txt'\n",
       "\\item 'pl119\\_fixations.txt'\n",
       "\\item 'pl122\\_fixations.txt'\n",
       "\\item 'pl123\\_fixations.txt'\n",
       "\\item 'pl124\\_fixations.txt'\n",
       "\\item 'pl126\\_fixations.txt'\n",
       "\\item 'pl128\\_fixations.txt'\n",
       "\\item 'pl129\\_fixations.txt'\n",
       "\\item 'pl132\\_fixations.txt'\n",
       "\\item 'pl133\\_fixations.txt'\n",
       "\\item 'pl134\\_fixations.txt'\n",
       "\\item 'pl136\\_fixations.txt'\n",
       "\\item 'pl137\\_fixations.txt'\n",
       "\\item 'pl138\\_fixations.txt'\n",
       "\\item 'pl139\\_fixations.txt'\n",
       "\\item 'pl14\\_fixations.xlsx'\n",
       "\\item 'pl140\\_fixations.txt'\n",
       "\\item 'pl141\\_fixations.txt'\n",
       "\\item 'pl142\\_fixations.txt'\n",
       "\\item 'pl143\\_fixations.txt'\n",
       "\\item 'pl145\\_fixations.txt'\n",
       "\\item 'pl146\\_fixations.txt'\n",
       "\\item 'pl147\\_fixations.txt'\n",
       "\\item 'pl148\\_fixations.txt'\n",
       "\\item 'pl15\\_fixations.xlsx'\n",
       "\\item 'pl150\\_fixations.txt'\n",
       "\\item 'pl152\\_fixations.txt'\n",
       "\\item 'pl153\\_fixations.txt'\n",
       "\\item 'pl154\\_fixations.txt'\n",
       "\\item 'pl155\\_fixations.txt'\n",
       "\\item 'pl16\\_fixations.xlsx'\n",
       "\\item 'pl18\\_fixations.xlsx'\n",
       "\\item 'pl19\\_fixations.xlsx'\n",
       "\\item 'pl20\\_fixations.xlsx'\n",
       "\\item 'pl24\\_fixations.xlsx'\n",
       "\\item 'pl25\\_fixations.xlsx'\n",
       "\\item 'pl28\\_fixations.xlsx'\n",
       "\\item 'pl29\\_fixations.xlsx'\n",
       "\\item 'pl30\\_fixations.xlsx'\n",
       "\\item 'pl31\\_fixations.xlsx'\n",
       "\\item 'pl36\\_fixations.xlsx'\n",
       "\\item 'pl37\\_fixations.xlsx'\n",
       "\\item 'pl38\\_fixations.xlsx'\n",
       "\\item 'pl39\\_fixations.xlsx'\n",
       "\\item 'pl41\\_fixations.xlsx'\n",
       "\\item 'pl42\\_fixations.xlsx'\n",
       "\\item 'pl43\\_fixations.xlsx'\n",
       "\\item 'pl45\\_fixations.xlsx'\n",
       "\\item 'pl46\\_fixations.xlsx'\n",
       "\\item 'pl47\\_fixations.xlsx'\n",
       "\\item 'pl48\\_fixations.xlsx'\n",
       "\\item 'pl49\\_fixations.xlsx'\n",
       "\\item 'pl50\\_fixations.xlsx'\n",
       "\\item 'pl51\\_fixations.xlsx'\n",
       "\\item 'pl52\\_fixations.xlsx'\n",
       "\\item 'pl55\\_fixations.xlsx'\n",
       "\\item 'pl57\\_fixations.xlsx'\n",
       "\\item 'pl59\\_fixations.xlsx'\n",
       "\\item 'pl63\\_fixations.xlsx'\n",
       "\\item 'pl64\\_fixations.xlsx'\n",
       "\\item 'pl66\\_fixations.xlsx'\n",
       "\\item 'pl67\\_fixations.xlsx'\n",
       "\\item 'pl68\\_fixations.txt'\n",
       "\\item 'pl69\\_fixations.txt'\n",
       "\\item 'pl70\\_fixations.txt'\n",
       "\\item 'pl71\\_fixations.txt'\n",
       "\\item 'pl73\\_fixations.txt'\n",
       "\\item 'pl74\\_fixations.txt'\n",
       "\\item 'pl75\\_fixations.txt'\n",
       "\\item 'pl76\\_fixations.txt'\n",
       "\\item 'pl77\\_fixations.txt'\n",
       "\\item 'pl79\\_fixations.txt'\n",
       "\\item 'pl81\\_fixations.txt'\n",
       "\\item 'pl82\\_fixations.txt'\n",
       "\\item 'pl83\\_fixations.txt'\n",
       "\\item 'pl85\\_fixations.txt'\n",
       "\\item 'pl86\\_fixations.txt'\n",
       "\\item 'pl87\\_fixations.txt'\n",
       "\\item 'pl88\\_fixations.txt'\n",
       "\\item 'pl89\\_fixations.txt'\n",
       "\\item 'pl91\\_fixations.txt'\n",
       "\\item 'pl94\\_fixations.txt'\n",
       "\\item 'pl95\\_fixations.txt'\n",
       "\\item 'pl96\\_fixations.txt'\n",
       "\\item 'pl97\\_fixations.txt'\n",
       "\\item 'pl99\\_fixations.txt'\n",
       "\\end{enumerate*}\n"
      ],
      "text/markdown": [
       "1. 'pl00_fixations.txt'\n",
       "2. 'pl01_fixations.txt'\n",
       "3. 'pl03_fixations.txt'\n",
       "4. 'pl09_fixations.txt'\n",
       "5. 'pl10_fixations.txt'\n",
       "6. 'pl100_fixations.txt'\n",
       "7. 'pl101_fixations.txt'\n",
       "8. 'pl103_fixations.txt'\n",
       "9. 'pl105_fixations.txt'\n",
       "10. 'pl106_fixations.txt'\n",
       "11. 'pl107_fixations.txt'\n",
       "12. 'pl108_fixations.txt'\n",
       "13. 'pl109_fixations.txt'\n",
       "14. 'pl11_fixations.txt'\n",
       "15. 'pl110_fixations.txt'\n",
       "16. 'pl111_fixations.txt'\n",
       "17. 'pl112_fixations.txt'\n",
       "18. 'pl113_fixations.txt'\n",
       "19. 'pl115_fixations.txt'\n",
       "20. 'pl116_fixations.txt'\n",
       "21. 'pl118_fixations.txt'\n",
       "22. 'pl119_fixations.txt'\n",
       "23. 'pl122_fixations.txt'\n",
       "24. 'pl123_fixations.txt'\n",
       "25. 'pl124_fixations.txt'\n",
       "26. 'pl126_fixations.txt'\n",
       "27. 'pl128_fixations.txt'\n",
       "28. 'pl129_fixations.txt'\n",
       "29. 'pl132_fixations.txt'\n",
       "30. 'pl133_fixations.txt'\n",
       "31. 'pl134_fixations.txt'\n",
       "32. 'pl136_fixations.txt'\n",
       "33. 'pl137_fixations.txt'\n",
       "34. 'pl138_fixations.txt'\n",
       "35. 'pl139_fixations.txt'\n",
       "36. 'pl14_fixations.xlsx'\n",
       "37. 'pl140_fixations.txt'\n",
       "38. 'pl141_fixations.txt'\n",
       "39. 'pl142_fixations.txt'\n",
       "40. 'pl143_fixations.txt'\n",
       "41. 'pl145_fixations.txt'\n",
       "42. 'pl146_fixations.txt'\n",
       "43. 'pl147_fixations.txt'\n",
       "44. 'pl148_fixations.txt'\n",
       "45. 'pl15_fixations.xlsx'\n",
       "46. 'pl150_fixations.txt'\n",
       "47. 'pl152_fixations.txt'\n",
       "48. 'pl153_fixations.txt'\n",
       "49. 'pl154_fixations.txt'\n",
       "50. 'pl155_fixations.txt'\n",
       "51. 'pl16_fixations.xlsx'\n",
       "52. 'pl18_fixations.xlsx'\n",
       "53. 'pl19_fixations.xlsx'\n",
       "54. 'pl20_fixations.xlsx'\n",
       "55. 'pl24_fixations.xlsx'\n",
       "56. 'pl25_fixations.xlsx'\n",
       "57. 'pl28_fixations.xlsx'\n",
       "58. 'pl29_fixations.xlsx'\n",
       "59. 'pl30_fixations.xlsx'\n",
       "60. 'pl31_fixations.xlsx'\n",
       "61. 'pl36_fixations.xlsx'\n",
       "62. 'pl37_fixations.xlsx'\n",
       "63. 'pl38_fixations.xlsx'\n",
       "64. 'pl39_fixations.xlsx'\n",
       "65. 'pl41_fixations.xlsx'\n",
       "66. 'pl42_fixations.xlsx'\n",
       "67. 'pl43_fixations.xlsx'\n",
       "68. 'pl45_fixations.xlsx'\n",
       "69. 'pl46_fixations.xlsx'\n",
       "70. 'pl47_fixations.xlsx'\n",
       "71. 'pl48_fixations.xlsx'\n",
       "72. 'pl49_fixations.xlsx'\n",
       "73. 'pl50_fixations.xlsx'\n",
       "74. 'pl51_fixations.xlsx'\n",
       "75. 'pl52_fixations.xlsx'\n",
       "76. 'pl55_fixations.xlsx'\n",
       "77. 'pl57_fixations.xlsx'\n",
       "78. 'pl59_fixations.xlsx'\n",
       "79. 'pl63_fixations.xlsx'\n",
       "80. 'pl64_fixations.xlsx'\n",
       "81. 'pl66_fixations.xlsx'\n",
       "82. 'pl67_fixations.xlsx'\n",
       "83. 'pl68_fixations.txt'\n",
       "84. 'pl69_fixations.txt'\n",
       "85. 'pl70_fixations.txt'\n",
       "86. 'pl71_fixations.txt'\n",
       "87. 'pl73_fixations.txt'\n",
       "88. 'pl74_fixations.txt'\n",
       "89. 'pl75_fixations.txt'\n",
       "90. 'pl76_fixations.txt'\n",
       "91. 'pl77_fixations.txt'\n",
       "92. 'pl79_fixations.txt'\n",
       "93. 'pl81_fixations.txt'\n",
       "94. 'pl82_fixations.txt'\n",
       "95. 'pl83_fixations.txt'\n",
       "96. 'pl85_fixations.txt'\n",
       "97. 'pl86_fixations.txt'\n",
       "98. 'pl87_fixations.txt'\n",
       "99. 'pl88_fixations.txt'\n",
       "100. 'pl89_fixations.txt'\n",
       "101. 'pl91_fixations.txt'\n",
       "102. 'pl94_fixations.txt'\n",
       "103. 'pl95_fixations.txt'\n",
       "104. 'pl96_fixations.txt'\n",
       "105. 'pl97_fixations.txt'\n",
       "106. 'pl99_fixations.txt'\n",
       "\n",
       "\n"
      ],
      "text/plain": [
       "  [1] \"pl00_fixations.txt\"  \"pl01_fixations.txt\"  \"pl03_fixations.txt\" \n",
       "  [4] \"pl09_fixations.txt\"  \"pl10_fixations.txt\"  \"pl100_fixations.txt\"\n",
       "  [7] \"pl101_fixations.txt\" \"pl103_fixations.txt\" \"pl105_fixations.txt\"\n",
       " [10] \"pl106_fixations.txt\" \"pl107_fixations.txt\" \"pl108_fixations.txt\"\n",
       " [13] \"pl109_fixations.txt\" \"pl11_fixations.txt\"  \"pl110_fixations.txt\"\n",
       " [16] \"pl111_fixations.txt\" \"pl112_fixations.txt\" \"pl113_fixations.txt\"\n",
       " [19] \"pl115_fixations.txt\" \"pl116_fixations.txt\" \"pl118_fixations.txt\"\n",
       " [22] \"pl119_fixations.txt\" \"pl122_fixations.txt\" \"pl123_fixations.txt\"\n",
       " [25] \"pl124_fixations.txt\" \"pl126_fixations.txt\" \"pl128_fixations.txt\"\n",
       " [28] \"pl129_fixations.txt\" \"pl132_fixations.txt\" \"pl133_fixations.txt\"\n",
       " [31] \"pl134_fixations.txt\" \"pl136_fixations.txt\" \"pl137_fixations.txt\"\n",
       " [34] \"pl138_fixations.txt\" \"pl139_fixations.txt\" \"pl14_fixations.xlsx\"\n",
       " [37] \"pl140_fixations.txt\" \"pl141_fixations.txt\" \"pl142_fixations.txt\"\n",
       " [40] \"pl143_fixations.txt\" \"pl145_fixations.txt\" \"pl146_fixations.txt\"\n",
       " [43] \"pl147_fixations.txt\" \"pl148_fixations.txt\" \"pl15_fixations.xlsx\"\n",
       " [46] \"pl150_fixations.txt\" \"pl152_fixations.txt\" \"pl153_fixations.txt\"\n",
       " [49] \"pl154_fixations.txt\" \"pl155_fixations.txt\" \"pl16_fixations.xlsx\"\n",
       " [52] \"pl18_fixations.xlsx\" \"pl19_fixations.xlsx\" \"pl20_fixations.xlsx\"\n",
       " [55] \"pl24_fixations.xlsx\" \"pl25_fixations.xlsx\" \"pl28_fixations.xlsx\"\n",
       " [58] \"pl29_fixations.xlsx\" \"pl30_fixations.xlsx\" \"pl31_fixations.xlsx\"\n",
       " [61] \"pl36_fixations.xlsx\" \"pl37_fixations.xlsx\" \"pl38_fixations.xlsx\"\n",
       " [64] \"pl39_fixations.xlsx\" \"pl41_fixations.xlsx\" \"pl42_fixations.xlsx\"\n",
       " [67] \"pl43_fixations.xlsx\" \"pl45_fixations.xlsx\" \"pl46_fixations.xlsx\"\n",
       " [70] \"pl47_fixations.xlsx\" \"pl48_fixations.xlsx\" \"pl49_fixations.xlsx\"\n",
       " [73] \"pl50_fixations.xlsx\" \"pl51_fixations.xlsx\" \"pl52_fixations.xlsx\"\n",
       " [76] \"pl55_fixations.xlsx\" \"pl57_fixations.xlsx\" \"pl59_fixations.xlsx\"\n",
       " [79] \"pl63_fixations.xlsx\" \"pl64_fixations.xlsx\" \"pl66_fixations.xlsx\"\n",
       " [82] \"pl67_fixations.xlsx\" \"pl68_fixations.txt\"  \"pl69_fixations.txt\" \n",
       " [85] \"pl70_fixations.txt\"  \"pl71_fixations.txt\"  \"pl73_fixations.txt\" \n",
       " [88] \"pl74_fixations.txt\"  \"pl75_fixations.txt\"  \"pl76_fixations.txt\" \n",
       " [91] \"pl77_fixations.txt\"  \"pl79_fixations.txt\"  \"pl81_fixations.txt\" \n",
       " [94] \"pl82_fixations.txt\"  \"pl83_fixations.txt\"  \"pl85_fixations.txt\" \n",
       " [97] \"pl86_fixations.txt\"  \"pl87_fixations.txt\"  \"pl88_fixations.txt\" \n",
       "[100] \"pl89_fixations.txt\"  \"pl91_fixations.txt\"  \"pl94_fixations.txt\" \n",
       "[103] \"pl95_fixations.txt\"  \"pl96_fixations.txt\"  \"pl97_fixations.txt\" \n",
       "[106] \"pl99_fixations.txt\" "
      ]
     },
     "metadata": {},
     "output_type": "display_data"
    }
   ],
   "source": [
    "kept_subj_filenames = unique(subset(ed_df, child_in_study & !exclude_subject)$filename)\n",
    "kept_subj_filenames"
   ]
  },
  {
   "cell_type": "code",
   "execution_count": 5,
   "id": "6024a559-1775-4178-85e9-a3827b05ed2c",
   "metadata": {},
   "outputs": [],
   "source": [
    "subject_info$exclude_subject = !(subject_info$filename %in% kept_subj_filenames)"
   ]
  },
  {
   "cell_type": "code",
   "execution_count": 6,
   "id": "51b0a72a-5a6b-43cd-9c9a-b6486df1376f",
   "metadata": {},
   "outputs": [],
   "source": [
    "subject_info$auto_age_group = ceiling(((subject_info$age_in_days / 30.5) - 24) / 4)\n",
    "subject_info$auto_age_group[subject_info$auto_age_group == 4] = 3\n",
    "subject_info$auto_age_group[subject_info$auto_age_group == 0] = 1"
   ]
  },
  {
   "cell_type": "code",
   "execution_count": 7,
   "id": "d9695112-7da3-40ae-bab7-9a51afd9e0d7",
   "metadata": {},
   "outputs": [
    {
     "data": {
      "text/html": [
       "<table class=\"dataframe\">\n",
       "<caption>A data.frame: 9 × 3</caption>\n",
       "<thead>\n",
       "\t<tr><th></th><th scope=col>expt_version</th><th scope=col>auto_age_group</th><th scope=col>remaining</th></tr>\n",
       "\t<tr><th></th><th scope=col>&lt;chr&gt;</th><th scope=col>&lt;dbl&gt;</th><th scope=col>&lt;dbl&gt;</th></tr>\n",
       "</thead>\n",
       "<tbody>\n",
       "\t<tr><th scope=row>1</th><td>agreement</td><td>1</td><td>-3</td></tr>\n",
       "\t<tr><th scope=row>2</th><td>agreement</td><td>2</td><td> 3</td></tr>\n",
       "\t<tr><th scope=row>3</th><td>agreement</td><td>3</td><td> 0</td></tr>\n",
       "\t<tr><th scope=row>4</th><td>redblue  </td><td>1</td><td>-1</td></tr>\n",
       "\t<tr><th scope=row>5</th><td>redblue  </td><td>2</td><td> 1</td></tr>\n",
       "\t<tr><th scope=row>6</th><td>redblue  </td><td>3</td><td> 0</td></tr>\n",
       "\t<tr><th scope=row>7</th><td>scene    </td><td>1</td><td>-1</td></tr>\n",
       "\t<tr><th scope=row>8</th><td>scene    </td><td>2</td><td> 3</td></tr>\n",
       "\t<tr><th scope=row>9</th><td>scene    </td><td>3</td><td> 0</td></tr>\n",
       "</tbody>\n",
       "</table>\n"
      ],
      "text/latex": [
       "A data.frame: 9 × 3\n",
       "\\begin{tabular}{r|lll}\n",
       "  & expt\\_version & auto\\_age\\_group & remaining\\\\\n",
       "  & <chr> & <dbl> & <dbl>\\\\\n",
       "\\hline\n",
       "\t1 & agreement & 1 & -3\\\\\n",
       "\t2 & agreement & 2 &  3\\\\\n",
       "\t3 & agreement & 3 &  0\\\\\n",
       "\t4 & redblue   & 1 & -1\\\\\n",
       "\t5 & redblue   & 2 &  1\\\\\n",
       "\t6 & redblue   & 3 &  0\\\\\n",
       "\t7 & scene     & 1 & -1\\\\\n",
       "\t8 & scene     & 2 &  3\\\\\n",
       "\t9 & scene     & 3 &  0\\\\\n",
       "\\end{tabular}\n"
      ],
      "text/markdown": [
       "\n",
       "A data.frame: 9 × 3\n",
       "\n",
       "| <!--/--> | expt_version &lt;chr&gt; | auto_age_group &lt;dbl&gt; | remaining &lt;dbl&gt; |\n",
       "|---|---|---|---|\n",
       "| 1 | agreement | 1 | -3 |\n",
       "| 2 | agreement | 2 |  3 |\n",
       "| 3 | agreement | 3 |  0 |\n",
       "| 4 | redblue   | 1 | -1 |\n",
       "| 5 | redblue   | 2 |  1 |\n",
       "| 6 | redblue   | 3 |  0 |\n",
       "| 7 | scene     | 1 | -1 |\n",
       "| 8 | scene     | 2 |  3 |\n",
       "| 9 | scene     | 3 |  0 |\n",
       "\n"
      ],
      "text/plain": [
       "  expt_version auto_age_group remaining\n",
       "1 agreement    1              -3       \n",
       "2 agreement    2               3       \n",
       "3 agreement    3               0       \n",
       "4 redblue      1              -1       \n",
       "5 redblue      2               1       \n",
       "6 redblue      3               0       \n",
       "7 scene        1              -1       \n",
       "8 scene        2               3       \n",
       "9 scene        3               0       "
      ]
     },
     "metadata": {},
     "output_type": "display_data"
    }
   ],
   "source": [
    "num_per_age_group  = aggregate(filename ~ auto_age_group + expt_version, subset(subject_info, !exclude_subject), length)\n",
    "names(num_per_age_group)[names(num_per_age_group) == 'filename'] = 'completed'\n",
    "num_per_age_group$desired = 12\n",
    "num_per_age_group$remaining = num_per_age_group$desired - num_per_age_group$completed\n",
    "subset(num_per_age_group, expt_version %in% c('agreement', 'redblue','scene'))[,c('expt_version', 'auto_age_group', 'remaining')]"
   ]
  },
  {
   "cell_type": "code",
   "execution_count": 8,
   "id": "96509197-c585-4102-8974-b06e17563ac3",
   "metadata": {},
   "outputs": [
    {
     "data": {
      "text/html": [
       "<table class=\"dataframe\">\n",
       "<caption>A data.frame: 3 × 2</caption>\n",
       "<thead>\n",
       "\t<tr><th scope=col>expt_version</th><th scope=col>completed</th></tr>\n",
       "\t<tr><th scope=col>&lt;chr&gt;</th><th scope=col>&lt;int&gt;</th></tr>\n",
       "</thead>\n",
       "<tbody>\n",
       "\t<tr><td>agreement</td><td>36</td></tr>\n",
       "\t<tr><td>redblue  </td><td>36</td></tr>\n",
       "\t<tr><td>scene    </td><td>34</td></tr>\n",
       "</tbody>\n",
       "</table>\n"
      ],
      "text/latex": [
       "A data.frame: 3 × 2\n",
       "\\begin{tabular}{ll}\n",
       " expt\\_version & completed\\\\\n",
       " <chr> & <int>\\\\\n",
       "\\hline\n",
       "\t agreement & 36\\\\\n",
       "\t redblue   & 36\\\\\n",
       "\t scene     & 34\\\\\n",
       "\\end{tabular}\n"
      ],
      "text/markdown": [
       "\n",
       "A data.frame: 3 × 2\n",
       "\n",
       "| expt_version &lt;chr&gt; | completed &lt;int&gt; |\n",
       "|---|---|\n",
       "| agreement | 36 |\n",
       "| redblue   | 36 |\n",
       "| scene     | 34 |\n",
       "\n"
      ],
      "text/plain": [
       "  expt_version completed\n",
       "1 agreement    36       \n",
       "2 redblue      36       \n",
       "3 scene        34       "
      ]
     },
     "metadata": {},
     "output_type": "display_data"
    }
   ],
   "source": [
    "aggregate(completed ~ expt_version, num_per_age_group, sum)"
   ]
  },
  {
   "cell_type": "markdown",
   "id": "acbc42f9-6548-45cb-a947-d0dbf9441379",
   "metadata": {},
   "source": [
    "# Final Age Distribution"
   ]
  },
  {
   "cell_type": "code",
   "execution_count": 23,
   "id": "6793d394-5270-4116-ae38-4a6164ee10cf",
   "metadata": {},
   "outputs": [
    {
     "data": {
      "text/html": [
       "<style>\n",
       ".list-inline {list-style: none; margin:0; padding: 0}\n",
       ".list-inline>li {display: inline-block}\n",
       ".list-inline>li:not(:last-child)::after {content: \"\\00b7\"; padding: 0 .5ex}\n",
       "</style>\n",
       "<ol class=list-inline><li>'participant_name'</li><li>'id'</li><li>'include_eyetracking'</li><li>'include_storybook'</li><li>'filename'</li><li>'age_in_days'</li><li>'gender'</li><li>'type'</li><li>'expt_version'</li><li>'group'</li><li>'order'</li><li>'comment'</li><li>'main_coder'</li><li>'main_validated'</li><li>'double_coder'</li><li>'double_validated'</li><li>'comments'</li><li>'trial_order'</li><li>'age_in_months'</li><li>'ran_participant'</li><li>'child_in_study'</li><li>'broad_score'</li><li>'narrow_score'</li><li>'fam_pl'</li><li>'nov_pl'</li><li>'total_pl'</li><li>'exclude_subject'</li><li>'auto_age_group'</li></ol>\n"
      ],
      "text/latex": [
       "\\begin{enumerate*}\n",
       "\\item 'participant\\_name'\n",
       "\\item 'id'\n",
       "\\item 'include\\_eyetracking'\n",
       "\\item 'include\\_storybook'\n",
       "\\item 'filename'\n",
       "\\item 'age\\_in\\_days'\n",
       "\\item 'gender'\n",
       "\\item 'type'\n",
       "\\item 'expt\\_version'\n",
       "\\item 'group'\n",
       "\\item 'order'\n",
       "\\item 'comment'\n",
       "\\item 'main\\_coder'\n",
       "\\item 'main\\_validated'\n",
       "\\item 'double\\_coder'\n",
       "\\item 'double\\_validated'\n",
       "\\item 'comments'\n",
       "\\item 'trial\\_order'\n",
       "\\item 'age\\_in\\_months'\n",
       "\\item 'ran\\_participant'\n",
       "\\item 'child\\_in\\_study'\n",
       "\\item 'broad\\_score'\n",
       "\\item 'narrow\\_score'\n",
       "\\item 'fam\\_pl'\n",
       "\\item 'nov\\_pl'\n",
       "\\item 'total\\_pl'\n",
       "\\item 'exclude\\_subject'\n",
       "\\item 'auto\\_age\\_group'\n",
       "\\end{enumerate*}\n"
      ],
      "text/markdown": [
       "1. 'participant_name'\n",
       "2. 'id'\n",
       "3. 'include_eyetracking'\n",
       "4. 'include_storybook'\n",
       "5. 'filename'\n",
       "6. 'age_in_days'\n",
       "7. 'gender'\n",
       "8. 'type'\n",
       "9. 'expt_version'\n",
       "10. 'group'\n",
       "11. 'order'\n",
       "12. 'comment'\n",
       "13. 'main_coder'\n",
       "14. 'main_validated'\n",
       "15. 'double_coder'\n",
       "16. 'double_validated'\n",
       "17. 'comments'\n",
       "18. 'trial_order'\n",
       "19. 'age_in_months'\n",
       "20. 'ran_participant'\n",
       "21. 'child_in_study'\n",
       "22. 'broad_score'\n",
       "23. 'narrow_score'\n",
       "24. 'fam_pl'\n",
       "25. 'nov_pl'\n",
       "26. 'total_pl'\n",
       "27. 'exclude_subject'\n",
       "28. 'auto_age_group'\n",
       "\n",
       "\n"
      ],
      "text/plain": [
       " [1] \"participant_name\"    \"id\"                  \"include_eyetracking\"\n",
       " [4] \"include_storybook\"   \"filename\"            \"age_in_days\"        \n",
       " [7] \"gender\"              \"type\"                \"expt_version\"       \n",
       "[10] \"group\"               \"order\"               \"comment\"            \n",
       "[13] \"main_coder\"          \"main_validated\"      \"double_coder\"       \n",
       "[16] \"double_validated\"    \"comments\"            \"trial_order\"        \n",
       "[19] \"age_in_months\"       \"ran_participant\"     \"child_in_study\"     \n",
       "[22] \"broad_score\"         \"narrow_score\"        \"fam_pl\"             \n",
       "[25] \"nov_pl\"              \"total_pl\"            \"exclude_subject\"    \n",
       "[28] \"auto_age_group\"     "
      ]
     },
     "metadata": {},
     "output_type": "display_data"
    }
   ],
   "source": [
    "names(subject_info)"
   ]
  },
  {
   "cell_type": "code",
   "execution_count": 54,
   "id": "c53e9597-d78d-430b-a775-838a627d8bc2",
   "metadata": {},
   "outputs": [],
   "source": [
    "subject_info$study = ''\n",
    "subject_info$study[subject_info$expt_version == 'agreement'] = 'Study 3'\n",
    "subject_info$study[subject_info$expt_version == 'redblue'] = 'Study 2'\n",
    "subject_info$study[subject_info$expt_version == 'scene'] = 'Study 1'\n",
    "subject_info$study = factor(subject_info$study, levels = c('Study 1', 'Study 2', 'Study 3'))"
   ]
  },
  {
   "cell_type": "code",
   "execution_count": 62,
   "id": "ce2af78d-9154-4c1a-ab10-a8cd680368cb",
   "metadata": {},
   "outputs": [
    {
     "data": {
      "image/png": "[encoded data removed]",
      "text/plain": [
       "plot without title"
      ]
     },
     "metadata": {
      "image/png": {
       "height": 420,
       "width": 420
      }
     },
     "output_type": "display_data"
    }
   ],
   "source": [
    "#histogram for age in months for eyetracking\n",
    "ggplot(subset(subject_info, include_eyetracking & child_in_study)\n",
    ") + geom_histogram(aes(x=round(age_in_months), fill=study), \n",
    "        color='black', bins =13) + theme_classic() + scale_x_continuous(name='Age in Months',\n",
    "breaks=seq(24,36,3), labels=seq(24,36,3)) + facet_wrap(~study, ncol=1\n",
    ") + scale_fill_manual(values=c(\"#E95670\", \"#56B4E9\", \"#E69F00\"))  + ggtitle('Number of Eyetracking Participants'\n",
    ") + ylab('Count') + theme(legend.position=\"none\")\n",
    "ggsave('figures/marginal_eyetracking.pdf', width=4, height=4) "
   ]
  },
  {
   "cell_type": "code",
   "execution_count": 63,
   "id": "281c61f7-a6e7-4e2a-a59c-457e9463f61c",
   "metadata": {},
   "outputs": [
    {
     "data": {
      "image/png": "[encoded data removed]",
      "text/plain": [
       "plot without title"
      ]
     },
     "metadata": {
      "image/png": {
       "height": 420,
       "width": 420
      }
     },
     "output_type": "display_data"
    }
   ],
   "source": [
    "ggplot(subset(subject_info, include_storybook & child_in_study)\n",
    ") + geom_histogram(aes(round(x=age_in_months), fill = study), color='black',\n",
    "                   bins =13) + theme_classic() + scale_x_continuous(name='Age in Months',\n",
    "breaks=seq(24,36,3), labels=seq(24,36,3)) + facet_wrap(~study, ncol=1\n",
    ") + scale_fill_manual(values=c(\"#E95670\", \"#56B4E9\", \"#E69F00\")) + ggtitle('Number of Storybook Participants'\n",
    ") + ylab('Count') + theme(legend.position=\"none\")\n",
    "ggsave('figures/marginal_storybook.pdf', width=4, height=4)  "
   ]
  }
 ],
 "metadata": {
  "kernelspec": {
   "display_name": "R 4.1.2",
   "language": "R",
   "name": "ir4.1.2"
  },
  "language_info": {
   "codemirror_mode": "r",
   "file_extension": ".r",
   "mimetype": "text/x-r-source",
   "name": "R",
   "pygments_lexer": "r",
   "version": "4.3.1"
  }
 },
 "nbformat": 4,
 "nbformat_minor": 5
}
