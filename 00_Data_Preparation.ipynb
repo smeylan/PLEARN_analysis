{
 "cells": [
  {
   "cell_type": "markdown",
   "id": "98fd97be-0c14-4853-907e-a5cd09f9750a",
   "metadata": {},
   "source": [
    "# Load Libraries and Resources"
   ]
  },
  {
   "cell_type": "code",
   "execution_count": 1,
   "id": "adf5fc19-6823-4f53-83d9-07e28b5c4844",
   "metadata": {},
   "outputs": [
    {
     "name": "stderr",
     "output_type": "stream",
     "text": [
      "\n",
      "Attaching package: ‘dplyr’\n",
      "\n",
      "\n",
      "The following objects are masked from ‘package:plyr’:\n",
      "\n",
      "    arrange, count, desc, failwith, id, mutate, rename, summarise,\n",
      "    summarize\n",
      "\n",
      "\n",
      "The following objects are masked from ‘package:stats’:\n",
      "\n",
      "    filter, lag\n",
      "\n",
      "\n",
      "The following objects are masked from ‘package:base’:\n",
      "\n",
      "    intersect, setdiff, setequal, union\n",
      "\n",
      "\n",
      "Loading required package: Matrix\n",
      "\n",
      "Loading required package: lpSolve\n",
      "\n",
      "Loading required package: Rcpp\n",
      "\n",
      "Loading 'brms' package (version 2.17.0). Useful instructions\n",
      "can be found by typing help('brms'). A more detailed introduction\n",
      "to the package is available through vignette('brms_overview').\n",
      "\n",
      "\n",
      "Attaching package: ‘brms’\n",
      "\n",
      "\n",
      "The following object is masked from ‘package:lme4’:\n",
      "\n",
      "    ngrps\n",
      "\n",
      "\n",
      "The following object is masked from ‘package:stats’:\n",
      "\n",
      "    ar\n",
      "\n",
      "\n",
      "\n",
      "Attaching package: ‘ggstance’\n",
      "\n",
      "\n",
      "The following objects are masked from ‘package:ggplot2’:\n",
      "\n",
      "    geom_errorbarh, GeomErrorbarh\n",
      "\n",
      "\n"
     ]
    }
   ],
   "source": [
    "library('readr')\n",
    "library('blabr')\n",
    "library('plyr')\n",
    "library('dplyr')\n",
    "library('ggplot2')\n",
    "library('rjson')\n",
    "library('parallel')\n",
    "library(\"readxl\")\n",
    "library('dotwhisker')\n",
    "library('broom')\n",
    "library('lme4')\n",
    "library('irr')\n",
    "library('tuneR')\n",
    "library('ggExtra')\n",
    "library('brms')\n",
    "library('ggstance')\n",
    "source('PLEARN_analysis_helper.R')\n",
    "source('texvars.R')"
   ]
  },
  {
   "cell_type": "markdown",
   "id": "76bed23d-a9ed-4a84-8289-3c09dc732d62",
   "metadata": {},
   "source": [
    "# Prepare Subject Data"
   ]
  },
  {
   "cell_type": "code",
   "execution_count": 2,
   "id": "f3df5687-a291-43e1-9a30-b7f8286c00ad",
   "metadata": {},
   "outputs": [],
   "source": [
    "subject_info = read.csv('subject_info.csv', stringsAsFactors=F) #Subject infor without PII\n",
    "subject_info$participant_name = sapply(strsplit(subject_info$filename,'_' ), function(x){x[1]})\n",
    "\n",
    "# children without eyetracking files\n",
    "for (participant in c('pl04','pl05','pl35','pl58')){\n",
    "    subject_info[subject_info$id == participant,'participant_name'] = participant\n",
    "}  "
   ]
  },
  {
   "cell_type": "code",
   "execution_count": 3,
   "id": "177ab067-d61b-43f5-a801-66a250b7e777",
   "metadata": {},
   "outputs": [],
   "source": [
    "# add the lookit participants\n",
    "lookit_subject_info = read.csv('lookit_subject_info.csv', stringsAsFactors=F)\n",
    "lookit_subject_info$filename = lookit_subject_info$id\n",
    "lookit_subject_info$participant_name = lookit_subject_info$id\n",
    "lookit_subject_info$type = 'child'\n",
    "\n",
    "# need to merge in the age in months\n",
    "child_ages = read.csv('csv/lookit_child_ages.csv')[,c('id', 'age_in_days')]\n",
    "lookit_subject_info = merge(lookit_subject_info,child_ages[,c('id','age_in_days')])"
   ]
  },
  {
   "cell_type": "code",
   "execution_count": 4,
   "id": "f6bc5488-78c4-4ea1-b228-9d8ffd51443e",
   "metadata": {},
   "outputs": [],
   "source": [
    "subject_info = rbind.fill(subject_info, lookit_subject_info)\n",
    "\n",
    "subject_info$age_in_months = subject_info$age_in_days / 30.5\n",
    "\n",
    "subject_info$ran_participant = subject_info$expt_version %in% c('redblue', \n",
    "    'scene', 'agreement','agreement-lookit') &\n",
    "(subject_info$type == 'adult' | (\n",
    "    subject_info$age_in_months > 24 & \n",
    "    subject_info$age_in_months < 36 &\n",
    "    subject_info$type == 'child'\n",
    "))"
   ]
  },
  {
   "cell_type": "code",
   "execution_count": 5,
   "id": "4d7df4cc-831a-4348-b330-137f8a1db673",
   "metadata": {},
   "outputs": [],
   "source": [
    "# exclude any child participants that are outside of the age range\n",
    "subject_info = subset(subject_info, \n",
    "    type == 'adult' | (\n",
    "    age_in_months >= 24 & \n",
    "    age_in_months <= 36 &\n",
    "    type == 'child')\n",
    ")"
   ]
  },
  {
   "cell_type": "markdown",
   "id": "a7819741-abea-4495-b2cd-10b50eb1df68",
   "metadata": {},
   "source": [
    "# Save the R objects for loading in later notebooks"
   ]
  },
  {
   "cell_type": "code",
   "execution_count": 6,
   "id": "f43f060e-5529-4449-bf04-1b5341565590",
   "metadata": {},
   "outputs": [],
   "source": [
    "saveRDS(subject_info, file='intermediate_data/subject_info.RData')"
   ]
  }
 ],
 "metadata": {
  "kernelspec": {
   "display_name": "R 4.1.2",
   "language": "R",
   "name": "ir4.1.2"
  },
  "language_info": {
   "codemirror_mode": "r",
   "file_extension": ".r",
   "mimetype": "text/x-r-source",
   "name": "R",
   "pygments_lexer": "r",
   "version": "4.3.1"
  }
 },
 "nbformat": 4,
 "nbformat_minor": 5
}
