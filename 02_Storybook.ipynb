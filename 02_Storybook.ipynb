{
 "cells": [
  {
   "cell_type": "markdown",
   "id": "45592294-96b2-437a-9a48-b0520bfed3fb",
   "metadata": {},
   "source": [
    "# Load Libraries and Resources"
   ]
  },
  {
   "cell_type": "code",
   "execution_count": 1,
   "id": "206cc328-54c0-446d-b6f4-b4c8f9f3aed0",
   "metadata": {},
   "outputs": [
    {
     "name": "stderr",
     "output_type": "stream",
     "text": [
      "\n",
      "Attaching package: ‘dplyr’\n",
      "\n",
      "\n",
      "The following objects are masked from ‘package:plyr’:\n",
      "\n",
      "    arrange, count, desc, failwith, id, mutate, rename, summarise,\n",
      "    summarize\n",
      "\n",
      "\n",
      "The following objects are masked from ‘package:stats’:\n",
      "\n",
      "    filter, lag\n",
      "\n",
      "\n",
      "The following objects are masked from ‘package:base’:\n",
      "\n",
      "    intersect, setdiff, setequal, union\n",
      "\n",
      "\n",
      "Loading required package: Matrix\n",
      "\n",
      "Loading required package: lpSolve\n",
      "\n",
      "Loading required package: Rcpp\n",
      "\n",
      "Loading 'brms' package (version 2.17.0). Useful instructions\n",
      "can be found by typing help('brms'). A more detailed introduction\n",
      "to the package is available through vignette('brms_overview').\n",
      "\n",
      "\n",
      "Attaching package: ‘brms’\n",
      "\n",
      "\n",
      "The following object is masked from ‘package:lme4’:\n",
      "\n",
      "    ngrps\n",
      "\n",
      "\n",
      "The following object is masked from ‘package:stats’:\n",
      "\n",
      "    ar\n",
      "\n",
      "\n",
      "\n",
      "Attaching package: ‘ggstance’\n",
      "\n",
      "\n",
      "The following objects are masked from ‘package:ggplot2’:\n",
      "\n",
      "    geom_errorbarh, GeomErrorbarh\n",
      "\n",
      "\n"
     ]
    }
   ],
   "source": [
    "library('readr')\n",
    "library('blabr')\n",
    "library('plyr')\n",
    "library('dplyr')\n",
    "library('ggplot2')\n",
    "library('rjson')\n",
    "library('parallel')\n",
    "library(\"readxl\")\n",
    "library('dotwhisker')\n",
    "library('broom')\n",
    "library('lme4')\n",
    "library('irr')\n",
    "library('tuneR')\n",
    "library('ggExtra')\n",
    "library('brms')\n",
    "library('ggstance')\n",
    "source('PLEARN_analysis_helper.R')\n",
    "source('texvars.R')\n",
    "tvc = initialize_texvar_cache()"
   ]
  },
  {
   "cell_type": "markdown",
   "id": "bd64a465-2ed7-445a-a5b5-8f3553dd7d9e",
   "metadata": {},
   "source": [
    "# Load Objects from Data Preparation"
   ]
  },
  {
   "cell_type": "code",
   "execution_count": 2,
   "id": "c8a69495-043e-4393-912f-ab7ff52c65d6",
   "metadata": {},
   "outputs": [],
   "source": [
    "subject_info = readRDS(file='intermediate_data/subject_info.RData')"
   ]
  },
  {
   "cell_type": "markdown",
   "id": "f9253ca8-ac74-4c99-9494-d3c0f15b6129",
   "metadata": {},
   "source": [
    "# Preprocess / Plot Production Data"
   ]
  },
  {
   "cell_type": "code",
   "execution_count": 3,
   "id": "885589fa-7a4a-4edf-8bf4-68fcfe5368d1",
   "metadata": {},
   "outputs": [
    {
     "name": "stdout",
     "output_type": "stream",
     "text": [
      "[1] \"child\"                \"itemId\"               \"Lemma\"               \n",
      "[4] \"Singular.description\" \"Singular.Code\"        \"Plural.Description\"  \n",
      "[7] \"Plural.Code\"          \"Comments\"             \"X\"                   \n",
      "[1] 2544\n"
     ]
    }
   ],
   "source": [
    "p_coded = subset(rbind.fill(\n",
    "    read.csv('productions_coded.csv', stringsAsFactors=F),\n",
    "    read.csv('lookit_productions_coded.csv', stringsAsFactors=F)),\n",
    "    !(itemId %in% c('p1','p2','p3','p4')))\n",
    "\n",
    "p_coded$itemId = as.numeric(as.factor(as.character(p_coded$Lemma)))\n",
    "print(names(p_coded))\n",
    "print(nrow(p_coded))"
   ]
  },
  {
   "cell_type": "code",
   "execution_count": 4,
   "id": "a02d1501-91ea-4344-bfed-f42f0fb7c86b",
   "metadata": {},
   "outputs": [],
   "source": [
    "children = subset(subject_info, type == 'child')\n",
    "p_coded_children = data.frame(id = unique(p_coded$child), has_production_data = TRUE)"
   ]
  },
  {
   "cell_type": "code",
   "execution_count": 5,
   "id": "b3e24174-af61-4000-bb7d-504a716e5947",
   "metadata": {},
   "outputs": [
    {
     "data": {
      "text/html": [
       "<style>\n",
       ".list-inline {list-style: none; margin:0; padding: 0}\n",
       ".list-inline>li {display: inline-block}\n",
       ".list-inline>li:not(:last-child)::after {content: \"\\00b7\"; padding: 0 .5ex}\n",
       "</style>\n",
       "<ol class=list-inline><li>'8d9a77c4-d67b-4e42-8b11-21ab38907c6b'</li><li>'pl00'</li><li>'pl120'</li><li>'pl38'</li><li>'pl53'</li><li>'pl56'</li><li>'pl58'</li><li>'pl92'</li></ol>\n"
      ],
      "text/latex": [
       "\\begin{enumerate*}\n",
       "\\item '8d9a77c4-d67b-4e42-8b11-21ab38907c6b'\n",
       "\\item 'pl00'\n",
       "\\item 'pl120'\n",
       "\\item 'pl38'\n",
       "\\item 'pl53'\n",
       "\\item 'pl56'\n",
       "\\item 'pl58'\n",
       "\\item 'pl92'\n",
       "\\end{enumerate*}\n"
      ],
      "text/markdown": [
       "1. '8d9a77c4-d67b-4e42-8b11-21ab38907c6b'\n",
       "2. 'pl00'\n",
       "3. 'pl120'\n",
       "4. 'pl38'\n",
       "5. 'pl53'\n",
       "6. 'pl56'\n",
       "7. 'pl58'\n",
       "8. 'pl92'\n",
       "\n",
       "\n"
      ],
      "text/plain": [
       "[1] \"8d9a77c4-d67b-4e42-8b11-21ab38907c6b\"\n",
       "[2] \"pl00\"                                \n",
       "[3] \"pl120\"                               \n",
       "[4] \"pl38\"                                \n",
       "[5] \"pl53\"                                \n",
       "[6] \"pl56\"                                \n",
       "[7] \"pl58\"                                \n",
       "[8] \"pl92\"                                "
      ]
     },
     "metadata": {},
     "output_type": "display_data"
    }
   ],
   "source": [
    "children_w_production_data = merge(children, p_coded_children, all=T)\n",
    "subset(children_w_production_data, is.na(has_production_data))$id"
   ]
  },
  {
   "cell_type": "markdown",
   "id": "69b40e85-b4ca-4a8a-82a4-a878b9d25134",
   "metadata": {},
   "source": [
    "# Code the Production Data"
   ]
  },
  {
   "cell_type": "code",
   "execution_count": 6,
   "id": "a2bdf7b1-f4d2-48d6-83f5-3a1f1ff2fef3",
   "metadata": {},
   "outputs": [],
   "source": [
    "numTrialsPerChild = aggregate(itemId ~ child, p_coded, length)\n",
    "numTrialsPerChild = numTrialsPerChild[order(numTrialsPerChild$itemId, decreasing=T),]\n",
    "if (nrow(subset(numTrialsPerChild, itemId != 16)) > 0){\n",
    "    stop('Coded child data is missing trials')\n",
    "}"
   ]
  },
  {
   "cell_type": "code",
   "execution_count": 7,
   "id": "f0ca5681-f613-44fd-8f39-6c3eed017d21",
   "metadata": {},
   "outputs": [],
   "source": [
    "num_production_items = length(unique(p_coded$itemId)) #16 test x 2 + 4 shared practice\n",
    "if (num_production_items != 32){\n",
    "    stop('There should be 32 test production items')\n",
    "}"
   ]
  },
  {
   "cell_type": "code",
   "execution_count": 8,
   "id": "2c490a5f-4671-4406-a93f-7b2c277bad9b",
   "metadata": {},
   "outputs": [
    {
     "data": {
      "text/html": [
       "<style>\n",
       ".list-inline {list-style: none; margin:0; padding: 0}\n",
       ".list-inline>li {display: inline-block}\n",
       ".list-inline>li:not(:last-child)::after {content: \"\\00b7\"; padding: 0 .5ex}\n",
       "</style>\n",
       "<ol class=list-inline><li>'pog'</li><li>'rabbit'</li><li>'nug'</li><li>'star'</li><li>'tep'</li><li>'fip'</li><li>'pig'</li><li>'truck'</li><li>'gub'</li><li>'fork'</li><li>'cup'</li><li>'gop'</li><li>'tig'</li><li>'cow'</li><li>'nep'</li><li>'cat'</li><li>'bug'</li><li>'mip'</li><li>'deg'</li><li>'frog'</li><li>'nop'</li><li>'boat'</li><li>'kib'</li><li>'teb'</li><li>'plate'</li><li>'ant'</li><li>'pib'</li><li>'dup'</li><li>'duck'</li><li>'spoon'</li><li>'gip'</li><li>'egg'</li></ol>\n"
      ],
      "text/latex": [
       "\\begin{enumerate*}\n",
       "\\item 'pog'\n",
       "\\item 'rabbit'\n",
       "\\item 'nug'\n",
       "\\item 'star'\n",
       "\\item 'tep'\n",
       "\\item 'fip'\n",
       "\\item 'pig'\n",
       "\\item 'truck'\n",
       "\\item 'gub'\n",
       "\\item 'fork'\n",
       "\\item 'cup'\n",
       "\\item 'gop'\n",
       "\\item 'tig'\n",
       "\\item 'cow'\n",
       "\\item 'nep'\n",
       "\\item 'cat'\n",
       "\\item 'bug'\n",
       "\\item 'mip'\n",
       "\\item 'deg'\n",
       "\\item 'frog'\n",
       "\\item 'nop'\n",
       "\\item 'boat'\n",
       "\\item 'kib'\n",
       "\\item 'teb'\n",
       "\\item 'plate'\n",
       "\\item 'ant'\n",
       "\\item 'pib'\n",
       "\\item 'dup'\n",
       "\\item 'duck'\n",
       "\\item 'spoon'\n",
       "\\item 'gip'\n",
       "\\item 'egg'\n",
       "\\end{enumerate*}\n"
      ],
      "text/markdown": [
       "1. 'pog'\n",
       "2. 'rabbit'\n",
       "3. 'nug'\n",
       "4. 'star'\n",
       "5. 'tep'\n",
       "6. 'fip'\n",
       "7. 'pig'\n",
       "8. 'truck'\n",
       "9. 'gub'\n",
       "10. 'fork'\n",
       "11. 'cup'\n",
       "12. 'gop'\n",
       "13. 'tig'\n",
       "14. 'cow'\n",
       "15. 'nep'\n",
       "16. 'cat'\n",
       "17. 'bug'\n",
       "18. 'mip'\n",
       "19. 'deg'\n",
       "20. 'frog'\n",
       "21. 'nop'\n",
       "22. 'boat'\n",
       "23. 'kib'\n",
       "24. 'teb'\n",
       "25. 'plate'\n",
       "26. 'ant'\n",
       "27. 'pib'\n",
       "28. 'dup'\n",
       "29. 'duck'\n",
       "30. 'spoon'\n",
       "31. 'gip'\n",
       "32. 'egg'\n",
       "\n",
       "\n"
      ],
      "text/plain": [
       " [1] \"pog\"    \"rabbit\" \"nug\"    \"star\"   \"tep\"    \"fip\"    \"pig\"    \"truck\" \n",
       " [9] \"gub\"    \"fork\"   \"cup\"    \"gop\"    \"tig\"    \"cow\"    \"nep\"    \"cat\"   \n",
       "[17] \"bug\"    \"mip\"    \"deg\"    \"frog\"   \"nop\"    \"boat\"   \"kib\"    \"teb\"   \n",
       "[25] \"plate\"  \"ant\"    \"pib\"    \"dup\"    \"duck\"   \"spoon\"  \"gip\"    \"egg\"   "
      ]
     },
     "metadata": {},
     "output_type": "display_data"
    }
   ],
   "source": [
    "# Look for weird things among the lemmas in case the above throw an error\n",
    "unique(p_coded$Lemma)"
   ]
  },
  {
   "cell_type": "code",
   "execution_count": 9,
   "id": "e5f3b9fd-c688-438e-ac6e-8523f7e535f7",
   "metadata": {},
   "outputs": [],
   "source": [
    "codebook = c(\n",
    "    'No data (0)',\n",
    "    'No verbal response (1)',\n",
    "    'Not identifiable/babble (2)',\n",
    "    'Other word (not noun) (3)',\n",
    "    'Noun from context (4)',\n",
    "    'Singular form (5)',    \n",
    "    'Non-conventional plural form (6)',\n",
    "    'Plural form, approximate articulation (7)',\n",
    "    'Plural form, adult-like articulation (8)' \n",
    ")\n",
    "\n",
    "codes = data.frame(code = seq(0,8), description = codebook)\n",
    "codes$description = factor(codes$description, levels = codebook)"
   ]
  },
  {
   "cell_type": "code",
   "execution_count": 10,
   "id": "42d02a6b-768f-4e22-a070-2facb797283a",
   "metadata": {},
   "outputs": [
    {
     "data": {
      "text/html": [
       "2544"
      ],
      "text/latex": [
       "2544"
      ],
      "text/markdown": [
       "2544"
      ],
      "text/plain": [
       "[1] 2544"
      ]
     },
     "metadata": {},
     "output_type": "display_data"
    }
   ],
   "source": [
    "pt_ds = read.csv('../PLEARN_experiments/plearn_productiveTask_datasource.csv')\n",
    "p_coded = merge(p_coded, pt_ds, by.x='Lemma', by.y='s_form')\n",
    "nrow(p_coded)"
   ]
  },
  {
   "cell_type": "code",
   "execution_count": 11,
   "id": "fe24990f-be84-4518-9b64-14fb1d51c8c5",
   "metadata": {},
   "outputs": [],
   "source": [
    "s_codes = aggregate(itemId ~ Singular.Code + child, p_coded, length)\n",
    "names(s_codes) = c('code', 'child', 'count')\n",
    "s_codes = merge(s_codes, codes, all = T)\n",
    "s_codes$s_pl ='singular'\n",
    "singulars_without_codes = subset(s_codes, code == '')\n",
    "if (nrow(singulars_without_codes) > 0){\n",
    "    print(singulars_without_codes)\n",
    "    stop('Some singular trials lack codes')\n",
    "}"
   ]
  },
  {
   "cell_type": "code",
   "execution_count": 12,
   "id": "9cfa87af-574e-4737-82f2-f19707f8da27",
   "metadata": {},
   "outputs": [],
   "source": [
    "p_codes = aggregate(itemId ~ Plural.Code + child, p_coded, length)\n",
    "names(p_codes) = c('code', 'child','count')\n",
    "p_codes = merge(p_codes, codes, all = T)\n",
    "p_codes$s_pl = 'plural'\n",
    "plurals_without_codes = subset(p_codes, code == '')\n",
    "if (nrow(plurals_without_codes) > 0){\n",
    "    print(plurals_without_codes)\n",
    "    stop('Some plural trials lack codes')\n",
    "}"
   ]
  },
  {
   "cell_type": "code",
   "execution_count": 111,
   "id": "2e3d4149-3aa7-4406-93b4-3f4f0cf39d48",
   "metadata": {},
   "outputs": [
    {
     "data": {
      "text/html": [
       "<table class=\"dataframe\">\n",
       "<caption>A data.frame: 6 × 5</caption>\n",
       "<thead>\n",
       "\t<tr><th></th><th scope=col>code</th><th scope=col>child</th><th scope=col>count</th><th scope=col>description</th><th scope=col>s_pl</th></tr>\n",
       "\t<tr><th></th><th scope=col>&lt;chr&gt;</th><th scope=col>&lt;chr&gt;</th><th scope=col>&lt;int&gt;</th><th scope=col>&lt;fct&gt;</th><th scope=col>&lt;fct&gt;</th></tr>\n",
       "</thead>\n",
       "<tbody>\n",
       "\t<tr><th scope=row>1</th><td>0</td><td>pl154                               </td><td>6</td><td>No data (0)</td><td>singular</td></tr>\n",
       "\t<tr><th scope=row>2</th><td>0</td><td>pl127                               </td><td>1</td><td>No data (0)</td><td>singular</td></tr>\n",
       "\t<tr><th scope=row>3</th><td>0</td><td>1e04539d-c09d-4f71-96a4-5e01bb073d67</td><td>8</td><td>No data (0)</td><td>singular</td></tr>\n",
       "\t<tr><th scope=row>4</th><td>0</td><td>pl01                                </td><td>1</td><td>No data (0)</td><td>singular</td></tr>\n",
       "\t<tr><th scope=row>5</th><td>0</td><td>765d8cc5-efaf-4599-aa55-c48e43f46dc5</td><td>1</td><td>No data (0)</td><td>singular</td></tr>\n",
       "\t<tr><th scope=row>6</th><td>0</td><td>pl87                                </td><td>5</td><td>No data (0)</td><td>singular</td></tr>\n",
       "</tbody>\n",
       "</table>\n"
      ],
      "text/latex": [
       "A data.frame: 6 × 5\n",
       "\\begin{tabular}{r|lllll}\n",
       "  & code & child & count & description & s\\_pl\\\\\n",
       "  & <chr> & <chr> & <int> & <fct> & <fct>\\\\\n",
       "\\hline\n",
       "\t1 & 0 & pl154                                & 6 & No data (0) & singular\\\\\n",
       "\t2 & 0 & pl127                                & 1 & No data (0) & singular\\\\\n",
       "\t3 & 0 & 1e04539d-c09d-4f71-96a4-5e01bb073d67 & 8 & No data (0) & singular\\\\\n",
       "\t4 & 0 & pl01                                 & 1 & No data (0) & singular\\\\\n",
       "\t5 & 0 & 765d8cc5-efaf-4599-aa55-c48e43f46dc5 & 1 & No data (0) & singular\\\\\n",
       "\t6 & 0 & pl87                                 & 5 & No data (0) & singular\\\\\n",
       "\\end{tabular}\n"
      ],
      "text/markdown": [
       "\n",
       "A data.frame: 6 × 5\n",
       "\n",
       "| <!--/--> | code &lt;chr&gt; | child &lt;chr&gt; | count &lt;int&gt; | description &lt;fct&gt; | s_pl &lt;fct&gt; |\n",
       "|---|---|---|---|---|---|\n",
       "| 1 | 0 | pl154                                | 6 | No data (0) | singular |\n",
       "| 2 | 0 | pl127                                | 1 | No data (0) | singular |\n",
       "| 3 | 0 | 1e04539d-c09d-4f71-96a4-5e01bb073d67 | 8 | No data (0) | singular |\n",
       "| 4 | 0 | pl01                                 | 1 | No data (0) | singular |\n",
       "| 5 | 0 | 765d8cc5-efaf-4599-aa55-c48e43f46dc5 | 1 | No data (0) | singular |\n",
       "| 6 | 0 | pl87                                 | 5 | No data (0) | singular |\n",
       "\n"
      ],
      "text/plain": [
       "  code child                                count description s_pl    \n",
       "1 0    pl154                                6     No data (0) singular\n",
       "2 0    pl127                                1     No data (0) singular\n",
       "3 0    1e04539d-c09d-4f71-96a4-5e01bb073d67 8     No data (0) singular\n",
       "4 0    pl01                                 1     No data (0) singular\n",
       "5 0    765d8cc5-efaf-4599-aa55-c48e43f46dc5 1     No data (0) singular\n",
       "6 0    pl87                                 5     No data (0) singular"
      ]
     },
     "metadata": {},
     "output_type": "display_data"
    }
   ],
   "source": [
    "code_counts = rbind.fill(s_codes, p_codes)\n",
    "code_counts$s_pl = factor(code_counts$s_pl, levels =c('singular','plural'))\n",
    "head(code_counts)"
   ]
  },
  {
   "cell_type": "code",
   "execution_count": 112,
   "id": "4ba3057a-3c93-40e9-8c70-2fc57b9e7dd4",
   "metadata": {},
   "outputs": [
    {
     "name": "stdout",
     "output_type": "stream",
     "text": [
      "[1] 67\n",
      "[1] 21\n"
     ]
    }
   ],
   "source": [
    "excluded_storybook_trials = subset(code_counts, description == 'No data (0)')\n",
    "numStorybookTrialsExcluded = sum(excluded_storybook_trials$count)\n",
    "print(numStorybookTrialsExcluded)\n",
    "numChildrenWithTrialsExcludedFromStorybook =length(unique(excluded_storybook_trials$child))\n",
    "print(numChildrenWithTrialsExcludedFromStorybook)\n",
    "tvc = update_texvar_cache(tvc, 'numStorybookTrialsExcluded', numStorybookTrialsExcluded)\n",
    "tvc = update_texvar_cache(tvc, 'numChildrenWithTrialsExcludedFromStorybook', numChildrenWithTrialsExcludedFromStorybook)"
   ]
  },
  {
   "cell_type": "markdown",
   "id": "2c1bb3c0-cb85-4c23-a65e-e32dd62d8ff0",
   "metadata": {},
   "source": [
    "# Inter-Annotator Agreement on the Storybook Task"
   ]
  },
  {
   "cell_type": "code",
   "execution_count": 15,
   "id": "918352cb-4eee-4ed4-a55b-56f19df68af0",
   "metadata": {},
   "outputs": [
    {
     "data": {
      "text/html": [
       "<style>\n",
       ".list-inline {list-style: none; margin:0; padding: 0}\n",
       ".list-inline>li {display: inline-block}\n",
       ".list-inline>li:not(:last-child)::after {content: \"\\00b7\"; padding: 0 .5ex}\n",
       "</style>\n",
       "<ol class=list-inline><li>'1'</li><li>'6'</li><li>'5'</li><li>'8'</li><li>'3'</li><li>'0'</li><li>'7'</li><li>'4'</li><li>'2'</li></ol>\n"
      ],
      "text/latex": [
       "\\begin{enumerate*}\n",
       "\\item '1'\n",
       "\\item '6'\n",
       "\\item '5'\n",
       "\\item '8'\n",
       "\\item '3'\n",
       "\\item '0'\n",
       "\\item '7'\n",
       "\\item '4'\n",
       "\\item '2'\n",
       "\\end{enumerate*}\n"
      ],
      "text/markdown": [
       "1. '1'\n",
       "2. '6'\n",
       "3. '5'\n",
       "4. '8'\n",
       "5. '3'\n",
       "6. '0'\n",
       "7. '7'\n",
       "8. '4'\n",
       "9. '2'\n",
       "\n",
       "\n"
      ],
      "text/plain": [
       "[1] \"1\" \"6\" \"5\" \"8\" \"3\" \"0\" \"7\" \"4\" \"2\""
      ]
     },
     "metadata": {},
     "output_type": "display_data"
    }
   ],
   "source": [
    "unique(p_coded$Plural.Code)"
   ]
  },
  {
   "cell_type": "code",
   "execution_count": 16,
   "id": "0ca85818-d190-409d-ac20-390a88ae42da",
   "metadata": {},
   "outputs": [],
   "source": [
    "p_coded$Singular.Code.Downsampled = sapply(as.character(p_coded$Singular.Code), function(x){\n",
    "    remap[[x]]\n",
    "})\n",
    "p_coded$Plural.Code.Downsampled = unlist(sapply(as.character(p_coded$Plural.Code), function(x){\n",
    "    remap[[x]]\n",
    "}))"
   ]
  },
  {
   "cell_type": "code",
   "execution_count": 17,
   "id": "29c9de82-c52f-483b-9563-28993dccad96",
   "metadata": {},
   "outputs": [
    {
     "data": {
      "text/html": [
       "400"
      ],
      "text/latex": [
       "400"
      ],
      "text/markdown": [
       "400"
      ],
      "text/plain": [
       "[1] 400"
      ]
     },
     "metadata": {},
     "output_type": "display_data"
    }
   ],
   "source": [
    "p_coded_check = subset(read.csv('productions_coded_check.csv', stringsAsFactors=F), !(child %in% c(\n",
    "'oddParticipant', 'evenParticipant')) & !(itemId %in% c('p1','p2','p3','p4'))) \n",
    "p_coded_check$X = NULL\n",
    "remap_check = list()\n",
    "remap_check[['No Data']] = 'No Data'\n",
    "remap_check[['singular']] = 'Singular'\n",
    "remap_check[['no response / non-relevant']] = 'No Response / Not Relevant'\n",
    "remap_check[['non-conventional plural']] = 'Non-Conventional Plural'\n",
    "remap_check[['plural']] = 'Plural'\n",
    "remap_check[['']] = ''\n",
    "\n",
    "p_coded_check$Singular.Code = sapply(as.character(p_coded_check$Singular.Code),\n",
    "    function(x){\n",
    "    remap_check[[x]]\n",
    "})\n",
    "p_coded_check$Plural.Code = sapply(as.character(p_coded_check$Plural.Code), function(x){\n",
    "    remap_check[[x]]\n",
    "})\n",
    "nrow(p_coded_check)"
   ]
  },
  {
   "cell_type": "code",
   "execution_count": 18,
   "id": "59927cce-db46-4012-ab72-e4fda623f4a3",
   "metadata": {},
   "outputs": [],
   "source": [
    "p_coded_both = as.data.frame(merge(\n",
    "    p_coded_check, p_coded[,c('child','Lemma','Singular.Code.Downsampled',\n",
    "                                'Plural.Code.Downsampled')]),\n",
    "    by = c('child','Lemma'))\n",
    "p_coded_both$Singular.Code.Downsampled = as.character(p_coded_both$Singular.Code.Downsampled)"
   ]
  },
  {
   "cell_type": "code",
   "execution_count": 19,
   "id": "1f03186c-8691-4772-84d3-2490a768b481",
   "metadata": {},
   "outputs": [
    {
     "data": {
      "text/html": [
       "400"
      ],
      "text/latex": [
       "400"
      ],
      "text/markdown": [
       "400"
      ],
      "text/plain": [
       "[1] 400"
      ]
     },
     "metadata": {},
     "output_type": "display_data"
    }
   ],
   "source": [
    "nrow(subset(p_coded, child %in% unique(p_coded_check$child))) # expect 400"
   ]
  },
  {
   "cell_type": "code",
   "execution_count": 20,
   "id": "5e503c4c-9e6b-407f-b5bd-9ed23664205b",
   "metadata": {},
   "outputs": [
    {
     "data": {
      "text/html": [
       "25"
      ],
      "text/latex": [
       "25"
      ],
      "text/markdown": [
       "25"
      ],
      "text/plain": [
       "[1] 25"
      ]
     },
     "metadata": {},
     "output_type": "display_data"
    },
    {
     "data": {
      "text/html": [
       "400"
      ],
      "text/latex": [
       "400"
      ],
      "text/markdown": [
       "400"
      ],
      "text/plain": [
       "[1] 400"
      ]
     },
     "metadata": {},
     "output_type": "display_data"
    }
   ],
   "source": [
    "length(unique(p_coded_both$child))\n",
    "nrow(p_coded_both)"
   ]
  },
  {
   "cell_type": "code",
   "execution_count": 21,
   "id": "8ee52dea-7a77-42e7-980f-fff6078a5e2c",
   "metadata": {},
   "outputs": [
    {
     "data": {
      "text/plain": [
       " Cohen's Kappa for 2 Raters (Weights: unweighted)\n",
       "\n",
       " Subjects = 400 \n",
       "   Raters = 2 \n",
       "    Kappa = 0.866 \n",
       "\n",
       "        z = 18.1 \n",
       "  p-value = 0 "
      ]
     },
     "metadata": {},
     "output_type": "display_data"
    }
   ],
   "source": [
    "sing_kappa = kappa2(p_coded_both[,c('Singular.Code','Singular.Code.Downsampled')])\n",
    "sing_kappa"
   ]
  },
  {
   "cell_type": "code",
   "execution_count": 22,
   "id": "cc93a73a-8091-4478-9631-1c60661c34e7",
   "metadata": {},
   "outputs": [
    {
     "data": {
      "text/plain": [
       " Cohen's Kappa for 2 Raters (Weights: unweighted)\n",
       "\n",
       " Subjects = 400 \n",
       "   Raters = 2 \n",
       "    Kappa = 0.8 \n",
       "\n",
       "        z = 25.3 \n",
       "  p-value = 0 "
      ]
     },
     "metadata": {},
     "output_type": "display_data"
    }
   ],
   "source": [
    "pl_kappa = kappa2(p_coded_both[,c('Plural.Code','Plural.Code.Downsampled')])\n",
    "pl_kappa"
   ]
  },
  {
   "cell_type": "code",
   "execution_count": 23,
   "id": "80d463c8-40fd-4316-b578-9561807c3be5",
   "metadata": {},
   "outputs": [],
   "source": [
    "tvc = update_texvar_cache(tvc, 'kappaPlurals', pl_kappa$value)\n",
    "tvc = update_texvar_cache(tvc, 'kappaSingulars', sing_kappa$value)\n"
   ]
  },
  {
   "cell_type": "code",
   "execution_count": 24,
   "id": "406b6bfe-cf9c-4d97-93ba-d3d2c0b342d4",
   "metadata": {},
   "outputs": [
    {
     "data": {
      "image/png": "[encoded data removed]",
      "text/plain": [
       "plot without title"
      ]
     },
     "metadata": {
      "image/png": {
       "height": 240,
       "width": 480
      }
     },
     "output_type": "display_data"
    }
   ],
   "source": [
    "options(repr.plot.width=8, repr.plot.height=4)\n",
    "ggplot(p_coded_both, aes(x=Singular.Code, y=Singular.Code.Downsampled)) + stat_bin2d(\n",
    ") + stat_bin2d(geom = \"text\", aes(label = ..count..), binwidth = 1, color='white'\n",
    ")  + ylab('Stephan') + xlab('Jess')"
   ]
  },
  {
   "cell_type": "code",
   "execution_count": 25,
   "id": "d64940be-d8e0-4b2b-8fee-6eb80b38a6a6",
   "metadata": {},
   "outputs": [
    {
     "data": {
      "image/png": "[encoded data removed]",
      "text/plain": [
       "plot without title"
      ]
     },
     "metadata": {
      "image/png": {
       "height": 240,
       "width": 480
      }
     },
     "output_type": "display_data"
    }
   ],
   "source": [
    "options(repr.plot.width=8, repr.plot.height=4)\n",
    "ggplot(p_coded_both, aes(x=Plural.Code, y=Plural.Code.Downsampled)) + stat_bin2d(\n",
    ") + stat_bin2d(geom = \"text\", aes(label = ..count..), binwidth = 1, color='white'\n",
    ")  + ylab('Stephan') + xlab('Jess')"
   ]
  },
  {
   "cell_type": "markdown",
   "id": "5eac7031-ab2a-4c2c-813e-af42e3986cd0",
   "metadata": {},
   "source": [
    "# Compute Production Scores"
   ]
  },
  {
   "cell_type": "code",
   "execution_count": 26,
   "id": "3f3ed1a8-3111-4f68-8d28-c5cc0ef9066e",
   "metadata": {},
   "outputs": [],
   "source": [
    "# note that both of these are subset to singular succeses\n",
    "computeProductionScores = function(codes, method = 'narrow'){    \n",
    "    if (method == 'narrow'){\n",
    "        # if they marked the plural in some way,was it adult-like? (i.e. the question in\n",
    "        # Clark and Nikitina (2009))\n",
    "        sum(codes %in% c(7,8)) / sum(codes %in% seq(6,8))\n",
    "        # this is NA if they don't produce anything in categories 6-8, which is a relatively common situation\n",
    "    } else if (method == 'broad') {\n",
    "        # did they mark the plural?\n",
    "        sum(codes %in% c(7,8)) / sum(codes %in% seq(2,8))\n",
    "    }\n",
    "}"
   ]
  },
  {
   "cell_type": "code",
   "execution_count": 27,
   "id": "68350c9e-3875-4d05-bb9e-1bb69da1c204",
   "metadata": {},
   "outputs": [],
   "source": [
    "narrow_production_scores = aggregate(Plural.Code ~ child, subset(p_coded, Singular.Code == 5), computeProductionScores)\n",
    "names(narrow_production_scores) = c('participant_name', 'narrow_score')\n",
    "broad_production_scores = aggregate(Plural.Code ~ child, subset(p_coded, Singular.Code == 5), function(x){\n",
    "    computeProductionScores(x,'broad')})\n",
    "names(broad_production_scores) = c('participant_name','broad_score')"
   ]
  },
  {
   "cell_type": "markdown",
   "id": "17ab7005-ee30-4b68-af4b-c273370a5bcc",
   "metadata": {},
   "source": [
    "# Associate Production Scores with Subject Records"
   ]
  },
  {
   "cell_type": "code",
   "execution_count": 28,
   "id": "874c178b-9f5e-48c0-bee9-c7429e176f7f",
   "metadata": {},
   "outputs": [],
   "source": [
    "# add the production scores to subject info\n",
    "subject_info_with_broad_scores = merge(merge(subject_info, broad_production_scores, all=T), \n",
    "                     narrow_production_scores, all=T)"
   ]
  },
  {
   "cell_type": "code",
   "execution_count": 29,
   "id": "9594c3fc-20a5-469c-bedb-d5b03b9999ef",
   "metadata": {},
   "outputs": [
    {
     "data": {
      "text/html": [
       "<style>\n",
       ".list-inline {list-style: none; margin:0; padding: 0}\n",
       ".list-inline>li {display: inline-block}\n",
       ".list-inline>li:not(:last-child)::after {content: \"\\00b7\"; padding: 0 .5ex}\n",
       "</style>\n",
       "<ol class=list-inline><li>'765d8cc5-efaf-4599-aa55-c48e43f46dc5'</li><li>'8d9a77c4-d67b-4e42-8b11-21ab38907c6b'</li><li>'pl00'</li><li>'pl11'</li><li>'pl120'</li><li>'pl151'</li><li>'pl38'</li><li>'pl53'</li><li>'pl56'</li><li>'pl58'</li><li>'pl72'</li><li>'pl92'</li></ol>\n"
      ],
      "text/latex": [
       "\\begin{enumerate*}\n",
       "\\item '765d8cc5-efaf-4599-aa55-c48e43f46dc5'\n",
       "\\item '8d9a77c4-d67b-4e42-8b11-21ab38907c6b'\n",
       "\\item 'pl00'\n",
       "\\item 'pl11'\n",
       "\\item 'pl120'\n",
       "\\item 'pl151'\n",
       "\\item 'pl38'\n",
       "\\item 'pl53'\n",
       "\\item 'pl56'\n",
       "\\item 'pl58'\n",
       "\\item 'pl72'\n",
       "\\item 'pl92'\n",
       "\\end{enumerate*}\n"
      ],
      "text/markdown": [
       "1. '765d8cc5-efaf-4599-aa55-c48e43f46dc5'\n",
       "2. '8d9a77c4-d67b-4e42-8b11-21ab38907c6b'\n",
       "3. 'pl00'\n",
       "4. 'pl11'\n",
       "5. 'pl120'\n",
       "6. 'pl151'\n",
       "7. 'pl38'\n",
       "8. 'pl53'\n",
       "9. 'pl56'\n",
       "10. 'pl58'\n",
       "11. 'pl72'\n",
       "12. 'pl92'\n",
       "\n",
       "\n"
      ],
      "text/plain": [
       " [1] \"765d8cc5-efaf-4599-aa55-c48e43f46dc5\"\n",
       " [2] \"8d9a77c4-d67b-4e42-8b11-21ab38907c6b\"\n",
       " [3] \"pl00\"                                \n",
       " [4] \"pl11\"                                \n",
       " [5] \"pl120\"                               \n",
       " [6] \"pl151\"                               \n",
       " [7] \"pl38\"                                \n",
       " [8] \"pl53\"                                \n",
       " [9] \"pl56\"                                \n",
       "[10] \"pl58\"                                \n",
       "[11] \"pl72\"                                \n",
       "[12] \"pl92\"                                "
      ]
     },
     "metadata": {},
     "output_type": "display_data"
    }
   ],
   "source": [
    "# find particiapnts who are lost\n",
    "setdiff(subset(subject_info_with_broad_scores, type == 'child' & expt_version %in% c('scene','redblue','agreement','agreement-lookit'))$participant_name,\n",
    "    subset(broad_production_scores, !is.nan(broad_score))$participant_name)\n"
   ]
  },
  {
   "cell_type": "markdown",
   "id": "76d2a0dc-c317-43eb-a2d7-8d47ea8804ae",
   "metadata": {},
   "source": [
    "hashed ids are lookit tasks without storybook tasks\n",
    "ppl00, dosn't have any storybook task\n",
    "pl151, pl38, pl53, pl56, pl58, pl92  fussed out\n",
    "pl11, pl120 don't have any singulars, can't compute broad score\n",
    "pl72 was silent for all plural trials "
   ]
  },
  {
   "cell_type": "markdown",
   "id": "568cadf3-3fd9-49e9-9179-edb737814435",
   "metadata": {},
   "source": [
    "# Test for Normality"
   ]
  },
  {
   "cell_type": "code",
   "execution_count": 30,
   "id": "b16be0e1-ab9d-4126-b32c-beb0bda68f37",
   "metadata": {},
   "outputs": [
    {
     "data": {
      "text/html": [
       "<style>\n",
       ".list-inline {list-style: none; margin:0; padding: 0}\n",
       ".list-inline>li {display: inline-block}\n",
       ".list-inline>li:not(:last-child)::after {content: \"\\00b7\"; padding: 0 .5ex}\n",
       "</style>\n",
       "<ol class=list-inline><li>'participant_name'</li><li>'id'</li><li>'include_eyetracking'</li><li>'include_storybook'</li><li>'filename'</li><li>'age_in_days'</li><li>'gender'</li><li>'type'</li><li>'expt_version'</li><li>'group'</li><li>'order'</li><li>'comment'</li><li>'main_coder'</li><li>'main_validated'</li><li>'double_coder'</li><li>'double_validated'</li><li>'comments'</li><li>'trial_order'</li><li>'age_in_months'</li><li>'ran_participant'</li><li>'child_in_study'</li><li>'broad_score'</li><li>'narrow_score'</li></ol>\n"
      ],
      "text/latex": [
       "\\begin{enumerate*}\n",
       "\\item 'participant\\_name'\n",
       "\\item 'id'\n",
       "\\item 'include\\_eyetracking'\n",
       "\\item 'include\\_storybook'\n",
       "\\item 'filename'\n",
       "\\item 'age\\_in\\_days'\n",
       "\\item 'gender'\n",
       "\\item 'type'\n",
       "\\item 'expt\\_version'\n",
       "\\item 'group'\n",
       "\\item 'order'\n",
       "\\item 'comment'\n",
       "\\item 'main\\_coder'\n",
       "\\item 'main\\_validated'\n",
       "\\item 'double\\_coder'\n",
       "\\item 'double\\_validated'\n",
       "\\item 'comments'\n",
       "\\item 'trial\\_order'\n",
       "\\item 'age\\_in\\_months'\n",
       "\\item 'ran\\_participant'\n",
       "\\item 'child\\_in\\_study'\n",
       "\\item 'broad\\_score'\n",
       "\\item 'narrow\\_score'\n",
       "\\end{enumerate*}\n"
      ],
      "text/markdown": [
       "1. 'participant_name'\n",
       "2. 'id'\n",
       "3. 'include_eyetracking'\n",
       "4. 'include_storybook'\n",
       "5. 'filename'\n",
       "6. 'age_in_days'\n",
       "7. 'gender'\n",
       "8. 'type'\n",
       "9. 'expt_version'\n",
       "10. 'group'\n",
       "11. 'order'\n",
       "12. 'comment'\n",
       "13. 'main_coder'\n",
       "14. 'main_validated'\n",
       "15. 'double_coder'\n",
       "16. 'double_validated'\n",
       "17. 'comments'\n",
       "18. 'trial_order'\n",
       "19. 'age_in_months'\n",
       "20. 'ran_participant'\n",
       "21. 'child_in_study'\n",
       "22. 'broad_score'\n",
       "23. 'narrow_score'\n",
       "\n",
       "\n"
      ],
      "text/plain": [
       " [1] \"participant_name\"    \"id\"                  \"include_eyetracking\"\n",
       " [4] \"include_storybook\"   \"filename\"            \"age_in_days\"        \n",
       " [7] \"gender\"              \"type\"                \"expt_version\"       \n",
       "[10] \"group\"               \"order\"               \"comment\"            \n",
       "[13] \"main_coder\"          \"main_validated\"      \"double_coder\"       \n",
       "[16] \"double_validated\"    \"comments\"            \"trial_order\"        \n",
       "[19] \"age_in_months\"       \"ran_participant\"     \"child_in_study\"     \n",
       "[22] \"broad_score\"         \"narrow_score\"       "
      ]
     },
     "metadata": {},
     "output_type": "display_data"
    }
   ],
   "source": [
    "names(subject_info_with_broad_scores)"
   ]
  },
  {
   "cell_type": "code",
   "execution_count": 31,
   "id": "c0539095-f63e-43c1-b628-01cda6e898cf",
   "metadata": {},
   "outputs": [],
   "source": [
    "expt_versions = c('scene','redblue','agreement')"
   ]
  },
  {
   "cell_type": "code",
   "execution_count": 32,
   "id": "c456f2f8-1818-47e0-8c34-04206d3cc91d",
   "metadata": {},
   "outputs": [
    {
     "name": "stdout",
     "output_type": "stream",
     "text": [
      "\n",
      "\tShapiro-Wilk normality test\n",
      "\n",
      "data:  subset(subject_info_with_broad_scores, child_in_study & expt_version == this_expt_version)$broad_score\n",
      "W = 0.83437, p-value = 8.483e-05\n",
      "\n",
      "\n",
      "\tShapiro-Wilk normality test\n",
      "\n",
      "data:  subset(subject_info_with_broad_scores, child_in_study & expt_version == this_expt_version)$broad_score\n",
      "W = 0.74787, p-value = 8.33e-07\n",
      "\n",
      "\n",
      "\tShapiro-Wilk normality test\n",
      "\n",
      "data:  subset(subject_info_with_broad_scores, child_in_study & expt_version == this_expt_version)$broad_score\n",
      "W = 0.70065, p-value = 7.704e-08\n",
      "\n"
     ]
    }
   ],
   "source": [
    "for (this_expt_version in expt_versions){\n",
    "    print(shapiro.test(\n",
    "        subset(subject_info_with_broad_scores, \n",
    "               child_in_study & expt_version == this_expt_version)$broad_score\n",
    "    ))\n",
    "}"
   ]
  },
  {
   "cell_type": "markdown",
   "id": "11748daa-8573-4903-92fe-6bf2797e01df",
   "metadata": {},
   "source": [
    "Production scores are not normally distributed"
   ]
  },
  {
   "cell_type": "markdown",
   "id": "1a90d935-2e87-4be9-9cef-4b0716766f9b",
   "metadata": {},
   "source": [
    "# Test for Combining Production Experiments"
   ]
  },
  {
   "cell_type": "code",
   "execution_count": 33,
   "id": "4d8b9009-277b-409d-a06b-534443477148",
   "metadata": {},
   "outputs": [
    {
     "name": "stderr",
     "output_type": "stream",
     "text": [
      "Warning message in wilcox.test.default(subset(subject_info_with_broad_scores, child_in_study & :\n",
      "“cannot compute exact p-value with ties”\n",
      "Warning message in wilcox.test.default(subset(subject_info_with_broad_scores, child_in_study & :\n",
      "“cannot compute exact p-value with ties”\n",
      "Warning message in wilcox.test.default(subset(subject_info_with_broad_scores, child_in_study & :\n",
      "“cannot compute exact p-value with ties”\n",
      "Warning message in wilcox.test.default(subset(subject_info_with_broad_scores, child_in_study & :\n",
      "“cannot compute exact p-value with ties”\n",
      "Warning message in wilcox.test.default(subset(subject_info_with_broad_scores, child_in_study & :\n",
      "“cannot compute exact p-value with ties”\n",
      "Warning message in wilcox.test.default(subset(subject_info_with_broad_scores, child_in_study & :\n",
      "“cannot compute exact p-value with ties”\n"
     ]
    },
    {
     "data": {
      "text/html": [
       "<table class=\"dataframe\">\n",
       "<caption>A matrix: 3 × 3 of type dbl</caption>\n",
       "<tbody>\n",
       "\t<tr><td>1.0000000</td><td>1.0000000</td><td>1</td></tr>\n",
       "\t<tr><td>0.1915258</td><td>1.0000000</td><td>1</td></tr>\n",
       "\t<tr><td>0.2367752</td><td>0.7897766</td><td>1</td></tr>\n",
       "</tbody>\n",
       "</table>\n"
      ],
      "text/latex": [
       "A matrix: 3 × 3 of type dbl\n",
       "\\begin{tabular}{lll}\n",
       "\t 1.0000000 & 1.0000000 & 1\\\\\n",
       "\t 0.1915258 & 1.0000000 & 1\\\\\n",
       "\t 0.2367752 & 0.7897766 & 1\\\\\n",
       "\\end{tabular}\n"
      ],
      "text/markdown": [
       "\n",
       "A matrix: 3 × 3 of type dbl\n",
       "\n",
       "| 1.0000000 | 1.0000000 | 1 |\n",
       "| 0.1915258 | 1.0000000 | 1 |\n",
       "| 0.2367752 | 0.7897766 | 1 |\n",
       "\n"
      ],
      "text/plain": [
       "     [,1]      [,2]      [,3]\n",
       "[1,] 1.0000000 1.0000000 1   \n",
       "[2,] 0.1915258 1.0000000 1   \n",
       "[3,] 0.2367752 0.7897766 1   "
      ]
     },
     "metadata": {},
     "output_type": "display_data"
    }
   ],
   "source": [
    "# can we combine the production data across all of the different versions\n",
    "\n",
    "\n",
    "rank_sum_test_for_combining_production  = mat.or.vec(length(expt_versions), length(expt_versions))\n",
    "rank_sum_test_for_combining_production = rank_sum_test_for_combining_production +1\n",
    "\n",
    "for (i in 1:length(expt_versions)){\n",
    "    for (j in c(1:i)){\n",
    "        rank_sum_test_for_combining_production[i,j] = wilcox.test(subset(subject_info_with_broad_scores, child_in_study & expt_version == expt_versions[i])$broad_score,\n",
    "             subset(subject_info_with_broad_scores, child_in_study & expt_version == expt_versions[j])$broad_score)$p.value\n",
    "        }\n",
    "}\n",
    "    \n",
    "rank_sum_test_for_combining_production        "
   ]
  },
  {
   "cell_type": "markdown",
   "id": "5774ecb6-e0d2-450a-b263-454ce758252c",
   "metadata": {},
   "source": [
    "# Trial Level Regression Model for Production"
   ]
  },
  {
   "cell_type": "code",
   "execution_count": 34,
   "id": "70307dde-3664-437f-a818-a48fa9078d69",
   "metadata": {},
   "outputs": [],
   "source": [
    "p_coded = merge(p_coded, subject_info[,c('participant_name','age_in_months','include_storybook')], by.x='child',\n",
    "     by.y='participant_name')"
   ]
  },
  {
   "cell_type": "code",
   "execution_count": 35,
   "id": "d6366da3-6402-4d8e-8161-91ddd07779b4",
   "metadata": {},
   "outputs": [],
   "source": [
    "# downsampling process from the original code\n",
    "p_coded$s_success = NA \n",
    "p_coded$s_success[p_coded$Singular.Code %in% c(5)] = 1\n",
    "p_coded$s_success[p_coded$Singular.Code %in% seq(1,4)] = 0\n",
    "p_coded$pl_success = NA \n",
    "p_coded$pl_success[p_coded$Plural.Code %in% c(7,8)] = 1\n",
    "p_coded$pl_success[p_coded$Plural.Code %in% seq(1,6)] = 0\n",
    "p_coded$age_in_months_c = p_coded$age_in_months - 30"
   ]
  },
  {
   "cell_type": "code",
   "execution_count": 36,
   "id": "816d486a-5838-485b-9570-bd757f042f11",
   "metadata": {},
   "outputs": [],
   "source": [
    "numTrialsInSingularLM = nrow(p_coded)\n",
    "tvc = update_texvar_cache(tvc, 'numTrialsInSingularLM', numTrialsInSingularLM)"
   ]
  },
  {
   "cell_type": "markdown",
   "id": "b1d10e27-0892-4b27-acd2-b951a4b87d7f",
   "metadata": {},
   "source": [
    "## Singular Production"
   ]
  },
  {
   "cell_type": "code",
   "execution_count": 37,
   "id": "223c6ea5-c556-4a35-bde7-ea84522ec711",
   "metadata": {},
   "outputs": [
    {
     "name": "stdout",
     "output_type": "stream",
     "text": [
      "[1] \"familiar\" \"novel\"   \n",
      "[1] \"voiceless\" \"voiced\"   \n",
      "[1] \"inanimate\" \"animate\"  \n"
     ]
    }
   ],
   "source": [
    "singular_lm_data = p_coded\n",
    "singular_lm_data$novelty = binarize(singular_lm_data$novelty,c('familiar','novel'))\n",
    "singular_lm_data$voicing = binarize(singular_lm_data$voicing,c('voiceless','voiced'))\n",
    "singular_lm_data$animacyStatus = binarize(singular_lm_data$animacy,c('inanimate','animate'))"
   ]
  },
  {
   "cell_type": "code",
   "execution_count": 38,
   "id": "62c60258-5f73-4fec-9b40-874fcd0bbaca",
   "metadata": {},
   "outputs": [
    {
     "data": {
      "text/html": [
       "<table class=\"dataframe\">\n",
       "<caption>A data.frame: 6 × 4</caption>\n",
       "<thead>\n",
       "\t<tr><th></th><th scope=col>novelty</th><th scope=col>voicing</th><th scope=col>animacyStatus</th><th scope=col>age_in_months_c</th></tr>\n",
       "\t<tr><th></th><th scope=col>&lt;dbl&gt;</th><th scope=col>&lt;dbl&gt;</th><th scope=col>&lt;dbl&gt;</th><th scope=col>&lt;dbl&gt;</th></tr>\n",
       "</thead>\n",
       "<tbody>\n",
       "\t<tr><th scope=row>1</th><td> 1</td><td> 1</td><td>-1</td><td>-6</td></tr>\n",
       "\t<tr><th scope=row>2</th><td> 1</td><td> 1</td><td>-1</td><td>-6</td></tr>\n",
       "\t<tr><th scope=row>3</th><td> 1</td><td>-1</td><td>-1</td><td>-6</td></tr>\n",
       "\t<tr><th scope=row>4</th><td>-1</td><td>-1</td><td> 1</td><td>-6</td></tr>\n",
       "\t<tr><th scope=row>5</th><td>-1</td><td> 1</td><td> 1</td><td>-6</td></tr>\n",
       "\t<tr><th scope=row>6</th><td>-1</td><td>-1</td><td> 1</td><td>-6</td></tr>\n",
       "</tbody>\n",
       "</table>\n"
      ],
      "text/latex": [
       "A data.frame: 6 × 4\n",
       "\\begin{tabular}{r|llll}\n",
       "  & novelty & voicing & animacyStatus & age\\_in\\_months\\_c\\\\\n",
       "  & <dbl> & <dbl> & <dbl> & <dbl>\\\\\n",
       "\\hline\n",
       "\t1 &  1 &  1 & -1 & -6\\\\\n",
       "\t2 &  1 &  1 & -1 & -6\\\\\n",
       "\t3 &  1 & -1 & -1 & -6\\\\\n",
       "\t4 & -1 & -1 &  1 & -6\\\\\n",
       "\t5 & -1 &  1 &  1 & -6\\\\\n",
       "\t6 & -1 & -1 &  1 & -6\\\\\n",
       "\\end{tabular}\n"
      ],
      "text/markdown": [
       "\n",
       "A data.frame: 6 × 4\n",
       "\n",
       "| <!--/--> | novelty &lt;dbl&gt; | voicing &lt;dbl&gt; | animacyStatus &lt;dbl&gt; | age_in_months_c &lt;dbl&gt; |\n",
       "|---|---|---|---|---|\n",
       "| 1 |  1 |  1 | -1 | -6 |\n",
       "| 2 |  1 |  1 | -1 | -6 |\n",
       "| 3 |  1 | -1 | -1 | -6 |\n",
       "| 4 | -1 | -1 |  1 | -6 |\n",
       "| 5 | -1 |  1 |  1 | -6 |\n",
       "| 6 | -1 | -1 |  1 | -6 |\n",
       "\n"
      ],
      "text/plain": [
       "  novelty voicing animacyStatus age_in_months_c\n",
       "1  1       1      -1            -6             \n",
       "2  1       1      -1            -6             \n",
       "3  1      -1      -1            -6             \n",
       "4 -1      -1       1            -6             \n",
       "5 -1       1       1            -6             \n",
       "6 -1      -1       1            -6             "
      ]
     },
     "metadata": {},
     "output_type": "display_data"
    }
   ],
   "source": [
    "head(singular_lm_data[,c('novelty','voicing','animacyStatus','age_in_months_c')])"
   ]
  },
  {
   "cell_type": "code",
   "execution_count": 39,
   "id": "226a9b28-1a32-467e-a720-649b9791e974",
   "metadata": {},
   "outputs": [
    {
     "name": "stderr",
     "output_type": "stream",
     "text": [
      "Warning message:\n",
      "“Rows containing NAs were excluded from the model.”\n",
      "Start sampling\n",
      "\n"
     ]
    },
    {
     "name": "stdout",
     "output_type": "stream",
     "text": [
      "Running MCMC with 4 chains, at most 16 in parallel, with 4 thread(s) per chain...\n",
      "\n",
      "Chain 1 Iteration:    1 / 2000 [  0%]  (Warmup) \n",
      "Chain 2 Iteration:    1 / 2000 [  0%]  (Warmup) \n",
      "Chain 3 Iteration:    1 / 2000 [  0%]  (Warmup) \n",
      "Chain 4 Iteration:    1 / 2000 [  0%]  (Warmup) \n",
      "Chain 2 Iteration:  100 / 2000 [  5%]  (Warmup) \n",
      "Chain 4 Iteration:  100 / 2000 [  5%]  (Warmup) \n",
      "Chain 3 Iteration:  100 / 2000 [  5%]  (Warmup) \n",
      "Chain 1 Iteration:  100 / 2000 [  5%]  (Warmup) \n",
      "Chain 2 Iteration:  200 / 2000 [ 10%]  (Warmup) \n",
      "Chain 4 Iteration:  200 / 2000 [ 10%]  (Warmup) \n",
      "Chain 3 Iteration:  200 / 2000 [ 10%]  (Warmup) \n",
      "Chain 2 Iteration:  300 / 2000 [ 15%]  (Warmup) \n",
      "Chain 4 Iteration:  300 / 2000 [ 15%]  (Warmup) \n",
      "Chain 1 Iteration:  200 / 2000 [ 10%]  (Warmup) \n",
      "Chain 4 Iteration:  400 / 2000 [ 20%]  (Warmup) \n",
      "Chain 3 Iteration:  300 / 2000 [ 15%]  (Warmup) \n",
      "Chain 2 Iteration:  400 / 2000 [ 20%]  (Warmup) \n",
      "Chain 1 Iteration:  300 / 2000 [ 15%]  (Warmup) \n",
      "Chain 4 Iteration:  500 / 2000 [ 25%]  (Warmup) \n",
      "Chain 2 Iteration:  500 / 2000 [ 25%]  (Warmup) \n",
      "Chain 1 Iteration:  400 / 2000 [ 20%]  (Warmup) \n",
      "Chain 3 Iteration:  400 / 2000 [ 20%]  (Warmup) \n",
      "Chain 4 Iteration:  600 / 2000 [ 30%]  (Warmup) \n",
      "Chain 2 Iteration:  600 / 2000 [ 30%]  (Warmup) \n",
      "Chain 1 Iteration:  500 / 2000 [ 25%]  (Warmup) \n",
      "Chain 4 Iteration:  700 / 2000 [ 35%]  (Warmup) \n",
      "Chain 3 Iteration:  500 / 2000 [ 25%]  (Warmup) \n",
      "Chain 2 Iteration:  700 / 2000 [ 35%]  (Warmup) \n",
      "Chain 1 Iteration:  600 / 2000 [ 30%]  (Warmup) \n",
      "Chain 4 Iteration:  800 / 2000 [ 40%]  (Warmup) \n",
      "Chain 3 Iteration:  600 / 2000 [ 30%]  (Warmup) \n",
      "Chain 2 Iteration:  800 / 2000 [ 40%]  (Warmup) \n",
      "Chain 1 Iteration:  700 / 2000 [ 35%]  (Warmup) \n",
      "Chain 4 Iteration:  900 / 2000 [ 45%]  (Warmup) \n",
      "Chain 2 Iteration:  900 / 2000 [ 45%]  (Warmup) \n",
      "Chain 3 Iteration:  700 / 2000 [ 35%]  (Warmup) \n",
      "Chain 1 Iteration:  800 / 2000 [ 40%]  (Warmup) \n",
      "Chain 4 Iteration: 1000 / 2000 [ 50%]  (Warmup) \n",
      "Chain 4 Iteration: 1001 / 2000 [ 50%]  (Sampling) \n",
      "Chain 1 Iteration:  900 / 2000 [ 45%]  (Warmup) \n",
      "Chain 2 Iteration: 1000 / 2000 [ 50%]  (Warmup) \n",
      "Chain 2 Iteration: 1001 / 2000 [ 50%]  (Sampling) \n",
      "Chain 3 Iteration:  800 / 2000 [ 40%]  (Warmup) \n",
      "Chain 4 Iteration: 1100 / 2000 [ 55%]  (Sampling) \n",
      "Chain 2 Iteration: 1100 / 2000 [ 55%]  (Sampling) \n",
      "Chain 3 Iteration:  900 / 2000 [ 45%]  (Warmup) \n",
      "Chain 1 Iteration: 1000 / 2000 [ 50%]  (Warmup) \n",
      "Chain 1 Iteration: 1001 / 2000 [ 50%]  (Sampling) \n",
      "Chain 4 Iteration: 1200 / 2000 [ 60%]  (Sampling) \n",
      "Chain 2 Iteration: 1200 / 2000 [ 60%]  (Sampling) \n",
      "Chain 1 Iteration: 1100 / 2000 [ 55%]  (Sampling) \n",
      "Chain 3 Iteration: 1000 / 2000 [ 50%]  (Warmup) \n",
      "Chain 3 Iteration: 1001 / 2000 [ 50%]  (Sampling) \n",
      "Chain 4 Iteration: 1300 / 2000 [ 65%]  (Sampling) \n",
      "Chain 2 Iteration: 1300 / 2000 [ 65%]  (Sampling) \n",
      "Chain 1 Iteration: 1200 / 2000 [ 60%]  (Sampling) \n",
      "Chain 4 Iteration: 1400 / 2000 [ 70%]  (Sampling) \n",
      "Chain 2 Iteration: 1400 / 2000 [ 70%]  (Sampling) \n",
      "Chain 3 Iteration: 1100 / 2000 [ 55%]  (Sampling) \n",
      "Chain 1 Iteration: 1300 / 2000 [ 65%]  (Sampling) \n",
      "Chain 4 Iteration: 1500 / 2000 [ 75%]  (Sampling) \n",
      "Chain 2 Iteration: 1500 / 2000 [ 75%]  (Sampling) \n",
      "Chain 1 Iteration: 1400 / 2000 [ 70%]  (Sampling) \n",
      "Chain 4 Iteration: 1600 / 2000 [ 80%]  (Sampling) \n",
      "Chain 2 Iteration: 1600 / 2000 [ 80%]  (Sampling) \n",
      "Chain 3 Iteration: 1200 / 2000 [ 60%]  (Sampling) \n",
      "Chain 1 Iteration: 1500 / 2000 [ 75%]  (Sampling) \n",
      "Chain 4 Iteration: 1700 / 2000 [ 85%]  (Sampling) \n",
      "Chain 2 Iteration: 1700 / 2000 [ 85%]  (Sampling) \n",
      "Chain 1 Iteration: 1600 / 2000 [ 80%]  (Sampling) \n",
      "Chain 4 Iteration: 1800 / 2000 [ 90%]  (Sampling) \n",
      "Chain 2 Iteration: 1800 / 2000 [ 90%]  (Sampling) \n",
      "Chain 3 Iteration: 1300 / 2000 [ 65%]  (Sampling) \n",
      "Chain 1 Iteration: 1700 / 2000 [ 85%]  (Sampling) \n",
      "Chain 4 Iteration: 1900 / 2000 [ 95%]  (Sampling) \n",
      "Chain 2 Iteration: 1900 / 2000 [ 95%]  (Sampling) \n",
      "Chain 1 Iteration: 1800 / 2000 [ 90%]  (Sampling) \n",
      "Chain 4 Iteration: 2000 / 2000 [100%]  (Sampling) \n",
      "Chain 4 finished in 32.3 seconds.\n",
      "Chain 3 Iteration: 1400 / 2000 [ 70%]  (Sampling) \n",
      "Chain 2 Iteration: 2000 / 2000 [100%]  (Sampling) \n",
      "Chain 2 finished in 33.0 seconds.\n",
      "Chain 1 Iteration: 1900 / 2000 [ 95%]  (Sampling) \n",
      "Chain 1 Iteration: 2000 / 2000 [100%]  (Sampling) \n",
      "Chain 1 finished in 35.2 seconds.\n",
      "Chain 3 Iteration: 1500 / 2000 [ 75%]  (Sampling) \n",
      "Chain 3 Iteration: 1600 / 2000 [ 80%]  (Sampling) \n",
      "Chain 3 Iteration: 1700 / 2000 [ 85%]  (Sampling) \n",
      "Chain 3 Iteration: 1800 / 2000 [ 90%]  (Sampling) \n",
      "Chain 3 Iteration: 1900 / 2000 [ 95%]  (Sampling) \n",
      "Chain 3 Iteration: 2000 / 2000 [100%]  (Sampling) \n",
      "Chain 3 finished in 50.5 seconds.\n",
      "\n",
      "All 4 chains finished successfully.\n",
      "Mean chain execution time: 37.7 seconds.\n",
      "Total execution time: 50.7 seconds.\n",
      "\n"
     ]
    }
   ],
   "source": [
    "# brms\n",
    "singular_brm <- brm(s_success  ~ novelty * voicing * animacyStatus * age_in_months_c +    \n",
    "    (novelty * voicing * animacyStatus | child) + (age_in_months_c|itemId), \n",
    "       data = singular_lm_data, family = bernoulli, chains = 4, cores = 16, backend = \"cmdstanr\", threads = threading(4))\n",
    "\n",
    "#singular_lm\n",
    "#https://www.jamesrrae.com/post/bayesian-logistic-regression-using-brms-part-1/\n",
    "# age by  itemId slopes -- these are crazy noisy"
   ]
  },
  {
   "cell_type": "code",
   "execution_count": 40,
   "id": "5cbdbaaa-550b-4353-9434-857326aca8fc",
   "metadata": {},
   "outputs": [
    {
     "data": {
      "text/html": [
       "<table class=\"dataframe\">\n",
       "<caption>A data.frame: 2 × 4</caption>\n",
       "<thead>\n",
       "\t<tr><th></th><th scope=col>Estimate</th><th scope=col>Est.Error</th><th scope=col>Q2.5</th><th scope=col>Q97.5</th></tr>\n",
       "\t<tr><th></th><th scope=col>&lt;dbl&gt;</th><th scope=col>&lt;dbl&gt;</th><th scope=col>&lt;dbl&gt;</th><th scope=col>&lt;dbl&gt;</th></tr>\n",
       "</thead>\n",
       "<tbody>\n",
       "\t<tr><th scope=row>Intercept</th><td>4.1275390</td><td>0.41533614</td><td>3.37483500</td><td>4.9651558</td></tr>\n",
       "\t<tr><th scope=row>age_in_months_c</th><td>0.2492602</td><td>0.09086364</td><td>0.07564779</td><td>0.4343552</td></tr>\n",
       "</tbody>\n",
       "</table>\n"
      ],
      "text/latex": [
       "A data.frame: 2 × 4\n",
       "\\begin{tabular}{r|llll}\n",
       "  & Estimate & Est.Error & Q2.5 & Q97.5\\\\\n",
       "  & <dbl> & <dbl> & <dbl> & <dbl>\\\\\n",
       "\\hline\n",
       "\tIntercept & 4.1275390 & 0.41533614 & 3.37483500 & 4.9651558\\\\\n",
       "\tage\\_in\\_months\\_c & 0.2492602 & 0.09086364 & 0.07564779 & 0.4343552\\\\\n",
       "\\end{tabular}\n"
      ],
      "text/markdown": [
       "\n",
       "A data.frame: 2 × 4\n",
       "\n",
       "| <!--/--> | Estimate &lt;dbl&gt; | Est.Error &lt;dbl&gt; | Q2.5 &lt;dbl&gt; | Q97.5 &lt;dbl&gt; |\n",
       "|---|---|---|---|---|\n",
       "| Intercept | 4.1275390 | 0.41533614 | 3.37483500 | 4.9651558 |\n",
       "| age_in_months_c | 0.2492602 | 0.09086364 | 0.07564779 | 0.4343552 |\n",
       "\n"
      ],
      "text/plain": [
       "                Estimate  Est.Error  Q2.5       Q97.5    \n",
       "Intercept       4.1275390 0.41533614 3.37483500 4.9651558\n",
       "age_in_months_c 0.2492602 0.09086364 0.07564779 0.4343552"
      ]
     },
     "metadata": {},
     "output_type": "display_data"
    }
   ],
   "source": [
    "s_effects = as.data.frame(fixef(singular_brm))\n",
    "subset(s_effects, s_effects$Q2.5 > 0 | s_effects$Q97.5 < 0)"
   ]
  },
  {
   "cell_type": "code",
   "execution_count": 41,
   "id": "3ae8bc27-7ec7-4911-9d91-f37d2b8f48ce",
   "metadata": {},
   "outputs": [
    {
     "data": {
      "text/html": [
       "1927"
      ],
      "text/latex": [
       "1927"
      ],
      "text/markdown": [
       "1927"
      ],
      "text/plain": [
       "[1] 1927"
      ]
     },
     "metadata": {},
     "output_type": "display_data"
    }
   ],
   "source": [
    "numTrialsInPluralLM = nrow(subset(p_coded, Singular.Code ==5))\n",
    "numTrialsInPluralLM\n",
    "tvc = update_texvar_cache(tvc, 'numTrialsInPluralLM', numTrialsInPluralLM)"
   ]
  },
  {
   "cell_type": "code",
   "execution_count": 42,
   "id": "1f92e7e8-6c21-48ae-9988-f19d14d81ac1",
   "metadata": {},
   "outputs": [
    {
     "name": "stdout",
     "output_type": "stream",
     "text": [
      "[1] \"familiar\" \"novel\"   \n",
      "[1] \"voiceless\" \"voiced\"   \n",
      "[1] \"inanimate\" \"animate\"  \n"
     ]
    }
   ],
   "source": [
    "plural_lm_data = subset(p_coded, Singular.Code ==5)\n",
    "plural_lm_data$novelty = binarize(plural_lm_data$novelty,c('familiar','novel'))\n",
    "plural_lm_data$voicing = binarize(plural_lm_data$voicing,c('voiceless','voiced'))\n",
    "plural_lm_data$animacyStatus = binarize(plural_lm_data$animacy,c('inanimate','animate'))"
   ]
  },
  {
   "cell_type": "code",
   "execution_count": 43,
   "id": "39e5a54c-a9b3-451d-a3a9-4f9cf0a7a432",
   "metadata": {},
   "outputs": [
    {
     "name": "stderr",
     "output_type": "stream",
     "text": [
      "Warning message:\n",
      "“Rows containing NAs were excluded from the model.”\n",
      "Start sampling\n",
      "\n"
     ]
    },
    {
     "name": "stdout",
     "output_type": "stream",
     "text": [
      "Running MCMC with 4 chains, at most 16 in parallel, with 4 thread(s) per chain...\n",
      "\n",
      "Chain 1 Iteration:    1 / 2000 [  0%]  (Warmup) \n",
      "Chain 2 Iteration:    1 / 2000 [  0%]  (Warmup) \n",
      "Chain 3 Iteration:    1 / 2000 [  0%]  (Warmup) \n",
      "Chain 4 Iteration:    1 / 2000 [  0%]  (Warmup) \n",
      "Chain 2 Iteration:  100 / 2000 [  5%]  (Warmup) \n",
      "Chain 4 Iteration:  100 / 2000 [  5%]  (Warmup) \n",
      "Chain 1 Iteration:  100 / 2000 [  5%]  (Warmup) \n",
      "Chain 3 Iteration:  100 / 2000 [  5%]  (Warmup) \n",
      "Chain 2 Iteration:  200 / 2000 [ 10%]  (Warmup) \n",
      "Chain 4 Iteration:  200 / 2000 [ 10%]  (Warmup) \n",
      "Chain 1 Iteration:  200 / 2000 [ 10%]  (Warmup) \n",
      "Chain 2 Iteration:  300 / 2000 [ 15%]  (Warmup) \n",
      "Chain 3 Iteration:  200 / 2000 [ 10%]  (Warmup) \n",
      "Chain 4 Iteration:  300 / 2000 [ 15%]  (Warmup) \n",
      "Chain 1 Iteration:  300 / 2000 [ 15%]  (Warmup) \n",
      "Chain 2 Iteration:  400 / 2000 [ 20%]  (Warmup) \n",
      "Chain 4 Iteration:  400 / 2000 [ 20%]  (Warmup) \n",
      "Chain 3 Iteration:  300 / 2000 [ 15%]  (Warmup) \n",
      "Chain 1 Iteration:  400 / 2000 [ 20%]  (Warmup) \n",
      "Chain 2 Iteration:  500 / 2000 [ 25%]  (Warmup) \n",
      "Chain 3 Iteration:  400 / 2000 [ 20%]  (Warmup) \n",
      "Chain 4 Iteration:  500 / 2000 [ 25%]  (Warmup) \n",
      "Chain 1 Iteration:  500 / 2000 [ 25%]  (Warmup) \n",
      "Chain 2 Iteration:  600 / 2000 [ 30%]  (Warmup) \n",
      "Chain 3 Iteration:  500 / 2000 [ 25%]  (Warmup) \n",
      "Chain 4 Iteration:  600 / 2000 [ 30%]  (Warmup) \n",
      "Chain 2 Iteration:  700 / 2000 [ 35%]  (Warmup) \n",
      "Chain 1 Iteration:  600 / 2000 [ 30%]  (Warmup) \n",
      "Chain 3 Iteration:  600 / 2000 [ 30%]  (Warmup) \n",
      "Chain 4 Iteration:  700 / 2000 [ 35%]  (Warmup) \n",
      "Chain 2 Iteration:  800 / 2000 [ 40%]  (Warmup) \n",
      "Chain 1 Iteration:  700 / 2000 [ 35%]  (Warmup) \n",
      "Chain 2 Iteration:  900 / 2000 [ 45%]  (Warmup) \n",
      "Chain 3 Iteration:  700 / 2000 [ 35%]  (Warmup) \n",
      "Chain 4 Iteration:  800 / 2000 [ 40%]  (Warmup) \n",
      "Chain 1 Iteration:  800 / 2000 [ 40%]  (Warmup) \n",
      "Chain 3 Iteration:  800 / 2000 [ 40%]  (Warmup) \n",
      "Chain 4 Iteration:  900 / 2000 [ 45%]  (Warmup) \n",
      "Chain 2 Iteration: 1000 / 2000 [ 50%]  (Warmup) \n",
      "Chain 2 Iteration: 1001 / 2000 [ 50%]  (Sampling) \n",
      "Chain 1 Iteration:  900 / 2000 [ 45%]  (Warmup) \n",
      "Chain 3 Iteration:  900 / 2000 [ 45%]  (Warmup) \n",
      "Chain 4 Iteration: 1000 / 2000 [ 50%]  (Warmup) \n",
      "Chain 4 Iteration: 1001 / 2000 [ 50%]  (Sampling) \n",
      "Chain 2 Iteration: 1100 / 2000 [ 55%]  (Sampling) \n",
      "Chain 1 Iteration: 1000 / 2000 [ 50%]  (Warmup) \n",
      "Chain 1 Iteration: 1001 / 2000 [ 50%]  (Sampling) \n",
      "Chain 3 Iteration: 1000 / 2000 [ 50%]  (Warmup) \n",
      "Chain 3 Iteration: 1001 / 2000 [ 50%]  (Sampling) \n",
      "Chain 4 Iteration: 1100 / 2000 [ 55%]  (Sampling) \n",
      "Chain 1 Iteration: 1100 / 2000 [ 55%]  (Sampling) \n",
      "Chain 2 Iteration: 1200 / 2000 [ 60%]  (Sampling) \n",
      "Chain 3 Iteration: 1100 / 2000 [ 55%]  (Sampling) \n",
      "Chain 4 Iteration: 1200 / 2000 [ 60%]  (Sampling) \n",
      "Chain 1 Iteration: 1200 / 2000 [ 60%]  (Sampling) \n",
      "Chain 2 Iteration: 1300 / 2000 [ 65%]  (Sampling) \n",
      "Chain 3 Iteration: 1200 / 2000 [ 60%]  (Sampling) \n",
      "Chain 4 Iteration: 1300 / 2000 [ 65%]  (Sampling) \n",
      "Chain 1 Iteration: 1300 / 2000 [ 65%]  (Sampling) \n",
      "Chain 2 Iteration: 1400 / 2000 [ 70%]  (Sampling) \n",
      "Chain 4 Iteration: 1400 / 2000 [ 70%]  (Sampling) \n",
      "Chain 3 Iteration: 1300 / 2000 [ 65%]  (Sampling) \n",
      "Chain 1 Iteration: 1400 / 2000 [ 70%]  (Sampling) \n",
      "Chain 2 Iteration: 1500 / 2000 [ 75%]  (Sampling) \n",
      "Chain 4 Iteration: 1500 / 2000 [ 75%]  (Sampling) \n",
      "Chain 3 Iteration: 1400 / 2000 [ 70%]  (Sampling) \n",
      "Chain 1 Iteration: 1500 / 2000 [ 75%]  (Sampling) \n",
      "Chain 2 Iteration: 1600 / 2000 [ 80%]  (Sampling) \n",
      "Chain 4 Iteration: 1600 / 2000 [ 80%]  (Sampling) \n",
      "Chain 1 Iteration: 1600 / 2000 [ 80%]  (Sampling) \n",
      "Chain 3 Iteration: 1500 / 2000 [ 75%]  (Sampling) \n",
      "Chain 2 Iteration: 1700 / 2000 [ 85%]  (Sampling) \n",
      "Chain 4 Iteration: 1700 / 2000 [ 85%]  (Sampling) \n",
      "Chain 1 Iteration: 1700 / 2000 [ 85%]  (Sampling) \n",
      "Chain 3 Iteration: 1600 / 2000 [ 80%]  (Sampling) \n",
      "Chain 2 Iteration: 1800 / 2000 [ 90%]  (Sampling) \n",
      "Chain 4 Iteration: 1800 / 2000 [ 90%]  (Sampling) \n",
      "Chain 1 Iteration: 1800 / 2000 [ 90%]  (Sampling) \n",
      "Chain 3 Iteration: 1700 / 2000 [ 85%]  (Sampling) \n",
      "Chain 2 Iteration: 1900 / 2000 [ 95%]  (Sampling) \n",
      "Chain 4 Iteration: 1900 / 2000 [ 95%]  (Sampling) \n",
      "Chain 1 Iteration: 1900 / 2000 [ 95%]  (Sampling) \n",
      "Chain 3 Iteration: 1800 / 2000 [ 90%]  (Sampling) \n",
      "Chain 4 Iteration: 2000 / 2000 [100%]  (Sampling) \n",
      "Chain 4 finished in 30.0 seconds.\n",
      "Chain 2 Iteration: 2000 / 2000 [100%]  (Sampling) \n",
      "Chain 2 finished in 30.1 seconds.\n",
      "Chain 1 Iteration: 2000 / 2000 [100%]  (Sampling) \n",
      "Chain 1 finished in 30.3 seconds.\n",
      "Chain 3 Iteration: 1900 / 2000 [ 95%]  (Sampling) \n",
      "Chain 3 Iteration: 2000 / 2000 [100%]  (Sampling) \n",
      "Chain 3 finished in 32.3 seconds.\n",
      "\n",
      "All 4 chains finished successfully.\n",
      "Mean chain execution time: 30.7 seconds.\n",
      "Total execution time: 32.4 seconds.\n",
      "\n"
     ]
    }
   ],
   "source": [
    "plural_brm <- brm(pl_success  ~ novelty * voicing * animacyStatus * age_in_months_c +\n",
    "     (novelty * voicing * animacyStatus | child) +(age_in_months_c|itemId), \n",
    "       data = plural_lm_data, family = bernoulli, chains = 4, cores = 16, backend = \"cmdstanr\", threads = threading(4))\n"
   ]
  },
  {
   "cell_type": "code",
   "execution_count": 44,
   "id": "bb352cf0-65ba-4316-92db-b1e43f729c86",
   "metadata": {},
   "outputs": [],
   "source": [
    "storybook_lm_mixed_effects = rbind(prepModelForDWPlot(singular_brm) %>% mutate(model = \"Singular\"),\n",
    "      prepModelForDWPlot(plural_brm) %>% mutate(model = \"Plural\")) "
   ]
  },
  {
   "cell_type": "code",
   "execution_count": 45,
   "id": "aee8a8a1-ddf3-4006-b88b-083c65de3de9",
   "metadata": {},
   "outputs": [
    {
     "data": {
      "text/html": [
       "<table class=\"dataframe\">\n",
       "<caption>A data.frame: 10 × 9</caption>\n",
       "<thead>\n",
       "\t<tr><th></th><th scope=col>Estimate</th><th scope=col>Est.Error</th><th scope=col>Q2.5</th><th scope=col>Q97.5</th><th scope=col>term</th><th scope=col>group</th><th scope=col>interaction</th><th scope=col>sig</th><th scope=col>model</th></tr>\n",
       "\t<tr><th></th><th scope=col>&lt;dbl&gt;</th><th scope=col>&lt;dbl&gt;</th><th scope=col>&lt;dbl&gt;</th><th scope=col>&lt;dbl&gt;</th><th scope=col>&lt;chr&gt;</th><th scope=col>&lt;chr&gt;</th><th scope=col>&lt;lgl&gt;</th><th scope=col>&lt;lgl&gt;</th><th scope=col>&lt;chr&gt;</th></tr>\n",
       "</thead>\n",
       "<tbody>\n",
       "\t<tr><th scope=row>Intercept</th><td> 4.12753902</td><td>0.41533614</td><td> 3.374835000</td><td> 4.9651558</td><td>Intercept      </td><td>fixed</td><td>FALSE</td><td> TRUE</td><td>Singular</td></tr>\n",
       "\t<tr><th scope=row>novelty</th><td>-0.08667496</td><td>0.17562201</td><td>-0.432015825</td><td> 0.2693306</td><td>novelty        </td><td>fixed</td><td>FALSE</td><td>FALSE</td><td>Singular</td></tr>\n",
       "\t<tr><th scope=row>voicing</th><td>-0.14018438</td><td>0.12340400</td><td>-0.383188300</td><td> 0.1122897</td><td>voicing        </td><td>fixed</td><td>FALSE</td><td>FALSE</td><td>Singular</td></tr>\n",
       "\t<tr><th scope=row>animacyStatus</th><td>-0.14237010</td><td>0.12736868</td><td>-0.391303725</td><td> 0.1119866</td><td>animacyStatus  </td><td>fixed</td><td>FALSE</td><td>FALSE</td><td>Singular</td></tr>\n",
       "\t<tr><th scope=row>age_in_months_c</th><td> 0.24926019</td><td>0.09086364</td><td> 0.075647790</td><td> 0.4343552</td><td>age_in_months_c</td><td>fixed</td><td>FALSE</td><td> TRUE</td><td>Singular</td></tr>\n",
       "\t<tr><th scope=row>Intercept1</th><td>-2.54544366</td><td>0.39129758</td><td>-3.335801500</td><td>-1.8204707</td><td>Intercept      </td><td>fixed</td><td>FALSE</td><td> TRUE</td><td>Plural  </td></tr>\n",
       "\t<tr><th scope=row>novelty1</th><td>-0.61062253</td><td>0.17589354</td><td>-0.977852800</td><td>-0.2989286</td><td>novelty        </td><td>fixed</td><td>FALSE</td><td> TRUE</td><td>Plural  </td></tr>\n",
       "\t<tr><th scope=row>voicing1</th><td> 0.25403074</td><td>0.12635983</td><td> 0.009264842</td><td> 0.5038335</td><td>voicing        </td><td>fixed</td><td>FALSE</td><td> TRUE</td><td>Plural  </td></tr>\n",
       "\t<tr><th scope=row>animacyStatus1</th><td>-0.08631567</td><td>0.13100948</td><td>-0.350907175</td><td> 0.1718687</td><td>animacyStatus  </td><td>fixed</td><td>FALSE</td><td>FALSE</td><td>Plural  </td></tr>\n",
       "\t<tr><th scope=row>age_in_months_c1</th><td> 0.44124759</td><td>0.10398564</td><td> 0.243505400</td><td> 0.6536429</td><td>age_in_months_c</td><td>fixed</td><td>FALSE</td><td> TRUE</td><td>Plural  </td></tr>\n",
       "</tbody>\n",
       "</table>\n"
      ],
      "text/latex": [
       "A data.frame: 10 × 9\n",
       "\\begin{tabular}{r|lllllllll}\n",
       "  & Estimate & Est.Error & Q2.5 & Q97.5 & term & group & interaction & sig & model\\\\\n",
       "  & <dbl> & <dbl> & <dbl> & <dbl> & <chr> & <chr> & <lgl> & <lgl> & <chr>\\\\\n",
       "\\hline\n",
       "\tIntercept &  4.12753902 & 0.41533614 &  3.374835000 &  4.9651558 & Intercept       & fixed & FALSE &  TRUE & Singular\\\\\n",
       "\tnovelty & -0.08667496 & 0.17562201 & -0.432015825 &  0.2693306 & novelty         & fixed & FALSE & FALSE & Singular\\\\\n",
       "\tvoicing & -0.14018438 & 0.12340400 & -0.383188300 &  0.1122897 & voicing         & fixed & FALSE & FALSE & Singular\\\\\n",
       "\tanimacyStatus & -0.14237010 & 0.12736868 & -0.391303725 &  0.1119866 & animacyStatus   & fixed & FALSE & FALSE & Singular\\\\\n",
       "\tage\\_in\\_months\\_c &  0.24926019 & 0.09086364 &  0.075647790 &  0.4343552 & age\\_in\\_months\\_c & fixed & FALSE &  TRUE & Singular\\\\\n",
       "\tIntercept1 & -2.54544366 & 0.39129758 & -3.335801500 & -1.8204707 & Intercept       & fixed & FALSE &  TRUE & Plural  \\\\\n",
       "\tnovelty1 & -0.61062253 & 0.17589354 & -0.977852800 & -0.2989286 & novelty         & fixed & FALSE &  TRUE & Plural  \\\\\n",
       "\tvoicing1 &  0.25403074 & 0.12635983 &  0.009264842 &  0.5038335 & voicing         & fixed & FALSE &  TRUE & Plural  \\\\\n",
       "\tanimacyStatus1 & -0.08631567 & 0.13100948 & -0.350907175 &  0.1718687 & animacyStatus   & fixed & FALSE & FALSE & Plural  \\\\\n",
       "\tage\\_in\\_months\\_c1 &  0.44124759 & 0.10398564 &  0.243505400 &  0.6536429 & age\\_in\\_months\\_c & fixed & FALSE &  TRUE & Plural  \\\\\n",
       "\\end{tabular}\n"
      ],
      "text/markdown": [
       "\n",
       "A data.frame: 10 × 9\n",
       "\n",
       "| <!--/--> | Estimate &lt;dbl&gt; | Est.Error &lt;dbl&gt; | Q2.5 &lt;dbl&gt; | Q97.5 &lt;dbl&gt; | term &lt;chr&gt; | group &lt;chr&gt; | interaction &lt;lgl&gt; | sig &lt;lgl&gt; | model &lt;chr&gt; |\n",
       "|---|---|---|---|---|---|---|---|---|---|\n",
       "| Intercept |  4.12753902 | 0.41533614 |  3.374835000 |  4.9651558 | Intercept       | fixed | FALSE |  TRUE | Singular |\n",
       "| novelty | -0.08667496 | 0.17562201 | -0.432015825 |  0.2693306 | novelty         | fixed | FALSE | FALSE | Singular |\n",
       "| voicing | -0.14018438 | 0.12340400 | -0.383188300 |  0.1122897 | voicing         | fixed | FALSE | FALSE | Singular |\n",
       "| animacyStatus | -0.14237010 | 0.12736868 | -0.391303725 |  0.1119866 | animacyStatus   | fixed | FALSE | FALSE | Singular |\n",
       "| age_in_months_c |  0.24926019 | 0.09086364 |  0.075647790 |  0.4343552 | age_in_months_c | fixed | FALSE |  TRUE | Singular |\n",
       "| Intercept1 | -2.54544366 | 0.39129758 | -3.335801500 | -1.8204707 | Intercept       | fixed | FALSE |  TRUE | Plural   |\n",
       "| novelty1 | -0.61062253 | 0.17589354 | -0.977852800 | -0.2989286 | novelty         | fixed | FALSE |  TRUE | Plural   |\n",
       "| voicing1 |  0.25403074 | 0.12635983 |  0.009264842 |  0.5038335 | voicing         | fixed | FALSE |  TRUE | Plural   |\n",
       "| animacyStatus1 | -0.08631567 | 0.13100948 | -0.350907175 |  0.1718687 | animacyStatus   | fixed | FALSE | FALSE | Plural   |\n",
       "| age_in_months_c1 |  0.44124759 | 0.10398564 |  0.243505400 |  0.6536429 | age_in_months_c | fixed | FALSE |  TRUE | Plural   |\n",
       "\n"
      ],
      "text/plain": [
       "                 Estimate    Est.Error  Q2.5         Q97.5      term           \n",
       "Intercept         4.12753902 0.41533614  3.374835000  4.9651558 Intercept      \n",
       "novelty          -0.08667496 0.17562201 -0.432015825  0.2693306 novelty        \n",
       "voicing          -0.14018438 0.12340400 -0.383188300  0.1122897 voicing        \n",
       "animacyStatus    -0.14237010 0.12736868 -0.391303725  0.1119866 animacyStatus  \n",
       "age_in_months_c   0.24926019 0.09086364  0.075647790  0.4343552 age_in_months_c\n",
       "Intercept1       -2.54544366 0.39129758 -3.335801500 -1.8204707 Intercept      \n",
       "novelty1         -0.61062253 0.17589354 -0.977852800 -0.2989286 novelty        \n",
       "voicing1          0.25403074 0.12635983  0.009264842  0.5038335 voicing        \n",
       "animacyStatus1   -0.08631567 0.13100948 -0.350907175  0.1718687 animacyStatus  \n",
       "age_in_months_c1  0.44124759 0.10398564  0.243505400  0.6536429 age_in_months_c\n",
       "                 group interaction sig   model   \n",
       "Intercept        fixed FALSE        TRUE Singular\n",
       "novelty          fixed FALSE       FALSE Singular\n",
       "voicing          fixed FALSE       FALSE Singular\n",
       "animacyStatus    fixed FALSE       FALSE Singular\n",
       "age_in_months_c  fixed FALSE        TRUE Singular\n",
       "Intercept1       fixed FALSE        TRUE Plural  \n",
       "novelty1         fixed FALSE        TRUE Plural  \n",
       "voicing1         fixed FALSE        TRUE Plural  \n",
       "animacyStatus1   fixed FALSE       FALSE Plural  \n",
       "age_in_months_c1 fixed FALSE        TRUE Plural  "
      ]
     },
     "metadata": {},
     "output_type": "display_data"
    }
   ],
   "source": [
    "keeps = unique(c(subset(storybook_lm_mixed_effects, sig)$term, subset(storybook_lm_mixed_effects, !interaction)$term))\n",
    "storybook_lm_mixed_effects = subset(storybook_lm_mixed_effects, term %in% keeps)            \n",
    "storybook_lm_mixed_effects"
   ]
  },
  {
   "cell_type": "code",
   "execution_count": 46,
   "id": "694b9b56-67cc-4d82-97ae-d9fb3ba55dc5",
   "metadata": {},
   "outputs": [],
   "source": [
    "relabel_storybook_terms = function(df, colname){\n",
    "    remap = list()\n",
    "    remap[['Intercept']] = 'Intercept'\n",
    "    remap[['novelty']] = \"Novelty\\n(familiar vs. novel)\"\n",
    "    remap[['voicing']] = \"Voicing\\n(/s/ vs. /z/)\"\n",
    "    remap[['animacyStatus']] = \"Animacy\\n(inanimate vs. animate)\"\n",
    "    remap[['expt_versionredblue']] = \"Simplified Experiment\"\n",
    "    remap[['age_in_months_c']] = \"Child Age\\n(in months, centered at 30)\"\n",
    "    remap[['novelty:age_in_months_c']] = \"Novelty x Child Age\"\n",
    "    remap[['trial_index']] = 'Trial Order'\n",
    "\n",
    "    \n",
    "    df[[colname]] = sapply(df$term, function(x){remap[[x]]})\n",
    "    df[[colname]] = factor(df[[colname]], levels = rev(c(\n",
    "         'Intercept',\n",
    "         \"Novelty\\n(familiar vs. novel)\",\n",
    "         \"Voicing\\n(/s/ vs. /z/)\",\n",
    "        \"Animacy\\n(inanimate vs. animate)\",\n",
    "         \"Child Age\\n(in months, centered at 30)\",        \n",
    "        \"Trial Order\"\n",
    "     )))\n",
    "    return(df)\n",
    "}    \n",
    "storybook_lm_mixed_effects = relabel_storybook_terms(storybook_lm_mixed_effects,'term')"
   ]
  },
  {
   "cell_type": "code",
   "execution_count": 47,
   "id": "92009fdf-3ad0-4ff9-a7a6-7088180b133e",
   "metadata": {},
   "outputs": [
    {
     "data": {
      "text/html": [
       "<table class=\"dataframe\">\n",
       "<caption>A data.frame: 10 × 9</caption>\n",
       "<thead>\n",
       "\t<tr><th></th><th scope=col>Estimate</th><th scope=col>Est.Error</th><th scope=col>Q2.5</th><th scope=col>Q97.5</th><th scope=col>term</th><th scope=col>group</th><th scope=col>interaction</th><th scope=col>sig</th><th scope=col>model</th></tr>\n",
       "\t<tr><th></th><th scope=col>&lt;dbl&gt;</th><th scope=col>&lt;dbl&gt;</th><th scope=col>&lt;dbl&gt;</th><th scope=col>&lt;dbl&gt;</th><th scope=col>&lt;fct&gt;</th><th scope=col>&lt;chr&gt;</th><th scope=col>&lt;lgl&gt;</th><th scope=col>&lt;lgl&gt;</th><th scope=col>&lt;chr&gt;</th></tr>\n",
       "</thead>\n",
       "<tbody>\n",
       "\t<tr><th scope=row>Intercept</th><td> 4.12753902</td><td>0.41533614</td><td> 3.374835000</td><td> 4.9651558</td><td>Intercept                             </td><td>fixed</td><td>FALSE</td><td> TRUE</td><td>Singular</td></tr>\n",
       "\t<tr><th scope=row>novelty</th><td>-0.08667496</td><td>0.17562201</td><td>-0.432015825</td><td> 0.2693306</td><td>Novelty\n",
       "(familiar vs. novel)         </td><td>fixed</td><td>FALSE</td><td>FALSE</td><td>Singular</td></tr>\n",
       "\t<tr><th scope=row>voicing</th><td>-0.14018438</td><td>0.12340400</td><td>-0.383188300</td><td> 0.1122897</td><td>Voicing\n",
       "(/s/ vs. /z/)                </td><td>fixed</td><td>FALSE</td><td>FALSE</td><td>Singular</td></tr>\n",
       "\t<tr><th scope=row>animacyStatus</th><td>-0.14237010</td><td>0.12736868</td><td>-0.391303725</td><td> 0.1119866</td><td>Animacy\n",
       "(inanimate vs. animate)      </td><td>fixed</td><td>FALSE</td><td>FALSE</td><td>Singular</td></tr>\n",
       "\t<tr><th scope=row>age_in_months_c</th><td> 0.24926019</td><td>0.09086364</td><td> 0.075647790</td><td> 0.4343552</td><td>Child Age\n",
       "(in months, centered at 30)</td><td>fixed</td><td>FALSE</td><td> TRUE</td><td>Singular</td></tr>\n",
       "\t<tr><th scope=row>Intercept1</th><td>-2.54544366</td><td>0.39129758</td><td>-3.335801500</td><td>-1.8204707</td><td>Intercept                             </td><td>fixed</td><td>FALSE</td><td> TRUE</td><td>Plural  </td></tr>\n",
       "\t<tr><th scope=row>novelty1</th><td>-0.61062253</td><td>0.17589354</td><td>-0.977852800</td><td>-0.2989286</td><td>Novelty\n",
       "(familiar vs. novel)         </td><td>fixed</td><td>FALSE</td><td> TRUE</td><td>Plural  </td></tr>\n",
       "\t<tr><th scope=row>voicing1</th><td> 0.25403074</td><td>0.12635983</td><td> 0.009264842</td><td> 0.5038335</td><td>Voicing\n",
       "(/s/ vs. /z/)                </td><td>fixed</td><td>FALSE</td><td> TRUE</td><td>Plural  </td></tr>\n",
       "\t<tr><th scope=row>animacyStatus1</th><td>-0.08631567</td><td>0.13100948</td><td>-0.350907175</td><td> 0.1718687</td><td>Animacy\n",
       "(inanimate vs. animate)      </td><td>fixed</td><td>FALSE</td><td>FALSE</td><td>Plural  </td></tr>\n",
       "\t<tr><th scope=row>age_in_months_c1</th><td> 0.44124759</td><td>0.10398564</td><td> 0.243505400</td><td> 0.6536429</td><td>Child Age\n",
       "(in months, centered at 30)</td><td>fixed</td><td>FALSE</td><td> TRUE</td><td>Plural  </td></tr>\n",
       "</tbody>\n",
       "</table>\n"
      ],
      "text/latex": [
       "A data.frame: 10 × 9\n",
       "\\begin{tabular}{r|lllllllll}\n",
       "  & Estimate & Est.Error & Q2.5 & Q97.5 & term & group & interaction & sig & model\\\\\n",
       "  & <dbl> & <dbl> & <dbl> & <dbl> & <fct> & <chr> & <lgl> & <lgl> & <chr>\\\\\n",
       "\\hline\n",
       "\tIntercept &  4.12753902 & 0.41533614 &  3.374835000 &  4.9651558 & Intercept                              & fixed & FALSE &  TRUE & Singular\\\\\n",
       "\tnovelty & -0.08667496 & 0.17562201 & -0.432015825 &  0.2693306 & Novelty\n",
       "(familiar vs. novel)          & fixed & FALSE & FALSE & Singular\\\\\n",
       "\tvoicing & -0.14018438 & 0.12340400 & -0.383188300 &  0.1122897 & Voicing\n",
       "(/s/ vs. /z/)                 & fixed & FALSE & FALSE & Singular\\\\\n",
       "\tanimacyStatus & -0.14237010 & 0.12736868 & -0.391303725 &  0.1119866 & Animacy\n",
       "(inanimate vs. animate)       & fixed & FALSE & FALSE & Singular\\\\\n",
       "\tage\\_in\\_months\\_c &  0.24926019 & 0.09086364 &  0.075647790 &  0.4343552 & Child Age\n",
       "(in months, centered at 30) & fixed & FALSE &  TRUE & Singular\\\\\n",
       "\tIntercept1 & -2.54544366 & 0.39129758 & -3.335801500 & -1.8204707 & Intercept                              & fixed & FALSE &  TRUE & Plural  \\\\\n",
       "\tnovelty1 & -0.61062253 & 0.17589354 & -0.977852800 & -0.2989286 & Novelty\n",
       "(familiar vs. novel)          & fixed & FALSE &  TRUE & Plural  \\\\\n",
       "\tvoicing1 &  0.25403074 & 0.12635983 &  0.009264842 &  0.5038335 & Voicing\n",
       "(/s/ vs. /z/)                 & fixed & FALSE &  TRUE & Plural  \\\\\n",
       "\tanimacyStatus1 & -0.08631567 & 0.13100948 & -0.350907175 &  0.1718687 & Animacy\n",
       "(inanimate vs. animate)       & fixed & FALSE & FALSE & Plural  \\\\\n",
       "\tage\\_in\\_months\\_c1 &  0.44124759 & 0.10398564 &  0.243505400 &  0.6536429 & Child Age\n",
       "(in months, centered at 30) & fixed & FALSE &  TRUE & Plural  \\\\\n",
       "\\end{tabular}\n"
      ],
      "text/markdown": [
       "\n",
       "A data.frame: 10 × 9\n",
       "\n",
       "| <!--/--> | Estimate &lt;dbl&gt; | Est.Error &lt;dbl&gt; | Q2.5 &lt;dbl&gt; | Q97.5 &lt;dbl&gt; | term &lt;fct&gt; | group &lt;chr&gt; | interaction &lt;lgl&gt; | sig &lt;lgl&gt; | model &lt;chr&gt; |\n",
       "|---|---|---|---|---|---|---|---|---|---|\n",
       "| Intercept |  4.12753902 | 0.41533614 |  3.374835000 |  4.9651558 | Intercept                              | fixed | FALSE |  TRUE | Singular |\n",
       "| novelty | -0.08667496 | 0.17562201 | -0.432015825 |  0.2693306 | Novelty\n",
       "(familiar vs. novel)          | fixed | FALSE | FALSE | Singular |\n",
       "| voicing | -0.14018438 | 0.12340400 | -0.383188300 |  0.1122897 | Voicing\n",
       "(/s/ vs. /z/)                 | fixed | FALSE | FALSE | Singular |\n",
       "| animacyStatus | -0.14237010 | 0.12736868 | -0.391303725 |  0.1119866 | Animacy\n",
       "(inanimate vs. animate)       | fixed | FALSE | FALSE | Singular |\n",
       "| age_in_months_c |  0.24926019 | 0.09086364 |  0.075647790 |  0.4343552 | Child Age\n",
       "(in months, centered at 30) | fixed | FALSE |  TRUE | Singular |\n",
       "| Intercept1 | -2.54544366 | 0.39129758 | -3.335801500 | -1.8204707 | Intercept                              | fixed | FALSE |  TRUE | Plural   |\n",
       "| novelty1 | -0.61062253 | 0.17589354 | -0.977852800 | -0.2989286 | Novelty\n",
       "(familiar vs. novel)          | fixed | FALSE |  TRUE | Plural   |\n",
       "| voicing1 |  0.25403074 | 0.12635983 |  0.009264842 |  0.5038335 | Voicing\n",
       "(/s/ vs. /z/)                 | fixed | FALSE |  TRUE | Plural   |\n",
       "| animacyStatus1 | -0.08631567 | 0.13100948 | -0.350907175 |  0.1718687 | Animacy\n",
       "(inanimate vs. animate)       | fixed | FALSE | FALSE | Plural   |\n",
       "| age_in_months_c1 |  0.44124759 | 0.10398564 |  0.243505400 |  0.6536429 | Child Age\n",
       "(in months, centered at 30) | fixed | FALSE |  TRUE | Plural   |\n",
       "\n"
      ],
      "text/plain": [
       "                 Estimate    Est.Error  Q2.5         Q97.5     \n",
       "Intercept         4.12753902 0.41533614  3.374835000  4.9651558\n",
       "novelty          -0.08667496 0.17562201 -0.432015825  0.2693306\n",
       "voicing          -0.14018438 0.12340400 -0.383188300  0.1122897\n",
       "animacyStatus    -0.14237010 0.12736868 -0.391303725  0.1119866\n",
       "age_in_months_c   0.24926019 0.09086364  0.075647790  0.4343552\n",
       "Intercept1       -2.54544366 0.39129758 -3.335801500 -1.8204707\n",
       "novelty1         -0.61062253 0.17589354 -0.977852800 -0.2989286\n",
       "voicing1          0.25403074 0.12635983  0.009264842  0.5038335\n",
       "animacyStatus1   -0.08631567 0.13100948 -0.350907175  0.1718687\n",
       "age_in_months_c1  0.44124759 0.10398564  0.243505400  0.6536429\n",
       "                 term                                   group interaction sig  \n",
       "Intercept        Intercept                              fixed FALSE        TRUE\n",
       "novelty          Novelty\\n(familiar vs. novel)          fixed FALSE       FALSE\n",
       "voicing          Voicing\\n(/s/ vs. /z/)                 fixed FALSE       FALSE\n",
       "animacyStatus    Animacy\\n(inanimate vs. animate)       fixed FALSE       FALSE\n",
       "age_in_months_c  Child Age\\n(in months, centered at 30) fixed FALSE        TRUE\n",
       "Intercept1       Intercept                              fixed FALSE        TRUE\n",
       "novelty1         Novelty\\n(familiar vs. novel)          fixed FALSE        TRUE\n",
       "voicing1         Voicing\\n(/s/ vs. /z/)                 fixed FALSE        TRUE\n",
       "animacyStatus1   Animacy\\n(inanimate vs. animate)       fixed FALSE       FALSE\n",
       "age_in_months_c1 Child Age\\n(in months, centered at 30) fixed FALSE        TRUE\n",
       "                 model   \n",
       "Intercept        Singular\n",
       "novelty          Singular\n",
       "voicing          Singular\n",
       "animacyStatus    Singular\n",
       "age_in_months_c  Singular\n",
       "Intercept1       Plural  \n",
       "novelty1         Plural  \n",
       "voicing1         Plural  \n",
       "animacyStatus1   Plural  \n",
       "age_in_months_c1 Plural  "
      ]
     },
     "metadata": {},
     "output_type": "display_data"
    }
   ],
   "source": [
    "storybook_lm_mixed_effects"
   ]
  },
  {
   "cell_type": "code",
   "execution_count": 48,
   "id": "3fffe94d-a749-4e2c-8b01-c0acaef8797d",
   "metadata": {},
   "outputs": [
    {
     "data": {
      "image/png": "[encoded data removed]",
      "text/plain": [
       "plot without title"
      ]
     },
     "metadata": {
      "image/png": {
       "height": 600,
       "width": 600
      }
     },
     "output_type": "display_data"
    }
   ],
   "source": [
    "options(repr.plot.width=10, repr.plot.height=10)\n",
    "ggplot(as.data.frame(storybook_lm_mixed_effects) \n",
    "    ) + geom_errorbarh(aes(xmin=Q2.5, xmax=Q97.5,y=term, color=model), size=1,\n",
    "        height=0, position=ggstance::position_dodgev(height=0.3)\n",
    "    ) + geom_point(aes(x=Estimate,y=term, color=model, shape=model),\n",
    "        position=ggstance::position_dodgev(height=0.3), size=3) + theme_bw(base_size=14\n",
    "    ) + geom_vline(xintercept=0, lty=2) + xlab('Effect Size (95% CI), Logit Scale'\n",
    "    ) + ylab('') + theme(\n",
    "    legend.key.size = unit(.4, \"cm\"),\n",
    "    legend.position = c(.8,.17), \n",
    "    legend.background = element_rect(fill=\"white\", linetype=\"solid\", \n",
    "                                  colour =\"black\")\n",
    "    ) +  scale_shape_discrete(name = \"Model\") +  scale_color_discrete(name = \"Model\")\n",
    "\n",
    "ggsave('figures/brms_storybook_lmem.pdf', width=5,height=3.2) "
   ]
  },
  {
   "cell_type": "code",
   "execution_count": 49,
   "id": "1dc18c3a-22fb-4604-a365-c491ed878e09",
   "metadata": {},
   "outputs": [],
   "source": [
    "tvc = get_texvar_from_beta(singular_brm, 'novelty','singularLMnovelty', tvc)\n",
    "tvc = get_texvar_from_beta(plural_brm, 'novelty','pluralLMnovelty', tvc)\n",
    "tvc = get_texvar_from_beta(plural_brm, 'voicing','pluralLMvoicing', tvc)\n",
    "tvc = get_texvar_from_beta(singular_brm, 'age_in_months_c','singularLMage', tvc)\n",
    "tvc = get_texvar_from_beta(plural_brm, 'age_in_months_c','pluralLMage', tvc)"
   ]
  },
  {
   "cell_type": "markdown",
   "id": "55320583-3906-4714-9336-197f9ae1c037",
   "metadata": {},
   "source": [
    "# Empirical Production Frequencies"
   ]
  },
  {
   "cell_type": "code",
   "execution_count": 50,
   "id": "5502d223-7ee8-4a1e-a157-e5ca22aced2e",
   "metadata": {},
   "outputs": [
    {
     "data": {
      "text/html": [
       "0.473274519979242"
      ],
      "text/latex": [
       "0.473274519979242"
      ],
      "text/markdown": [
       "0.473274519979242"
      ],
      "text/plain": [
       "[1] 0.4732745"
      ]
     },
     "metadata": {},
     "output_type": "display_data"
    }
   ],
   "source": [
    "nrow(subset(plural_lm_data, Plural.Code == 5 & Singular.Code ==5)) / nrow(subset(\n",
    "    plural_lm_data, Singular.Code ==5))\n",
    "# produce the singular ~48% of the time on plural trials"
   ]
  },
  {
   "cell_type": "code",
   "execution_count": 51,
   "id": "65426b59-3519-4778-9151-4efae0eb789f",
   "metadata": {},
   "outputs": [
    {
     "data": {
      "text/html": [
       "0.271406331084587"
      ],
      "text/latex": [
       "0.271406331084587"
      ],
      "text/markdown": [
       "0.271406331084587"
      ],
      "text/plain": [
       "[1] 0.2714063"
      ]
     },
     "metadata": {},
     "output_type": "display_data"
    }
   ],
   "source": [
    "nrow(subset(plural_lm_data, Plural.Code == 8 & Singular.Code ==5)) / nrow(subset(\n",
    "    plural_lm_data, Singular.Code ==5))\n",
    "# produce the plural ~28% of the time on plural trials"
   ]
  },
  {
   "cell_type": "code",
   "execution_count": 52,
   "id": "630e4698-4c3d-41e1-a210-d033302e1864",
   "metadata": {},
   "outputs": [
    {
     "data": {
      "text/html": [
       "0.303626943005181"
      ],
      "text/latex": [
       "0.303626943005181"
      ],
      "text/markdown": [
       "0.303626943005181"
      ],
      "text/plain": [
       "[1] 0.3036269"
      ]
     },
     "metadata": {},
     "output_type": "display_data"
    }
   ],
   "source": [
    "sum(subset(plural_lm_data, novelty == -1 & Singular.Code == 5)$Plural.Code == 8) / \n",
    "    nrow(subset(plural_lm_data, novelty == -1 & Singular.Code == 5))\n",
    "# produce the familiar plural ~31% of the time"
   ]
  },
  {
   "cell_type": "code",
   "execution_count": 53,
   "id": "6e26ba3d-ba4a-44e1-9b1b-d355b352d96a",
   "metadata": {},
   "outputs": [
    {
     "data": {
      "text/html": [
       "0.239085239085239"
      ],
      "text/latex": [
       "0.239085239085239"
      ],
      "text/markdown": [
       "0.239085239085239"
      ],
      "text/plain": [
       "[1] 0.2390852"
      ]
     },
     "metadata": {},
     "output_type": "display_data"
    }
   ],
   "source": [
    "sum(subset(plural_lm_data, novelty == 1 & Singular.Code == 5)$Plural.Code == 8) / \n",
    "    nrow(subset(plural_lm_data, novelty == 1 & Singular.Code == 5))\n",
    "# produce the novel plural ~25% of the time"
   ]
  },
  {
   "cell_type": "markdown",
   "id": "b2c493bf-ff1c-49cc-a066-8e6749e55c0b",
   "metadata": {},
   "source": [
    "# Age vs. Plural Knowledge"
   ]
  },
  {
   "cell_type": "code",
   "execution_count": null,
   "id": "86c3396b-9e72-4847-984d-9f1f3afaaeb2",
   "metadata": {},
   "outputs": [],
   "source": [
    "stop('This should not include LookIt participants')"
   ]
  },
  {
   "cell_type": "code",
   "execution_count": 113,
   "id": "77a2fce3-11d5-471f-a440-7f1b8be3efa5",
   "metadata": {},
   "outputs": [],
   "source": [
    "code_counts_with_age = merge(subject_info_with_broad_scores, code_counts, by.x='id', by.y='child')\n",
    "code_counts_with_age = merge(code_counts_with_age, codes)\n",
    "code_counts_with_age = subset(code_counts_with_age, child_in_study)"
   ]
  },
  {
   "cell_type": "code",
   "execution_count": 115,
   "id": "9f35dbe8-39fb-4e0c-b8be-f13b3a78c3cc",
   "metadata": {},
   "outputs": [
    {
     "data": {
      "text/html": [
       "118"
      ],
      "text/latex": [
       "118"
      ],
      "text/markdown": [
       "118"
      ],
      "text/plain": [
       "[1] 118"
      ]
     },
     "metadata": {},
     "output_type": "display_data"
    }
   ],
   "source": [
    "length(unique(code_counts_with_age$participant_name))"
   ]
  },
  {
   "cell_type": "code",
   "execution_count": 116,
   "id": "026753de-c94b-4efb-a325-13388f5c07b1",
   "metadata": {},
   "outputs": [
    {
     "data": {
      "text/html": [
       "0.496437626732589"
      ],
      "text/latex": [
       "0.496437626732589"
      ],
      "text/markdown": [
       "0.496437626732589"
      ],
      "text/plain": [
       "[1] 0.4964376"
      ]
     },
     "metadata": {},
     "output_type": "display_data"
    }
   ],
   "source": [
    "cor(children_in_age_range$broad_score,children_in_age_range$age_in_days, \n",
    "    use=\"pairwise.complete.obs\")"
   ]
  },
  {
   "cell_type": "code",
   "execution_count": 117,
   "id": "8288371c-5a53-4099-9e5e-c4a6d50e9d76",
   "metadata": {},
   "outputs": [
    {
     "data": {
      "text/html": [
       "<style>\n",
       ".list-inline {list-style: none; margin:0; padding: 0}\n",
       ".list-inline>li {display: inline-block}\n",
       ".list-inline>li:not(:last-child)::after {content: \"\\00b7\"; padding: 0 .5ex}\n",
       "</style>\n",
       "<ol class=list-inline><li>'id'</li><li>'include_eyetracking'</li><li>'include_storybook'</li><li>'filename'</li><li>'age_in_days'</li><li>'gender'</li><li>'type'</li><li>'expt_version'</li><li>'group'</li><li>'order'</li><li>'comment'</li><li>'participant_name'</li><li>'main_coder'</li><li>'main_validated'</li><li>'double_coder'</li><li>'double_validated'</li><li>'comments'</li><li>'trial_order'</li><li>'age_in_months'</li><li>'ran_participant'</li><li>'child_in_study'</li><li>'age_group'</li></ol>\n"
      ],
      "text/latex": [
       "\\begin{enumerate*}\n",
       "\\item 'id'\n",
       "\\item 'include\\_eyetracking'\n",
       "\\item 'include\\_storybook'\n",
       "\\item 'filename'\n",
       "\\item 'age\\_in\\_days'\n",
       "\\item 'gender'\n",
       "\\item 'type'\n",
       "\\item 'expt\\_version'\n",
       "\\item 'group'\n",
       "\\item 'order'\n",
       "\\item 'comment'\n",
       "\\item 'participant\\_name'\n",
       "\\item 'main\\_coder'\n",
       "\\item 'main\\_validated'\n",
       "\\item 'double\\_coder'\n",
       "\\item 'double\\_validated'\n",
       "\\item 'comments'\n",
       "\\item 'trial\\_order'\n",
       "\\item 'age\\_in\\_months'\n",
       "\\item 'ran\\_participant'\n",
       "\\item 'child\\_in\\_study'\n",
       "\\item 'age\\_group'\n",
       "\\end{enumerate*}\n"
      ],
      "text/markdown": [
       "1. 'id'\n",
       "2. 'include_eyetracking'\n",
       "3. 'include_storybook'\n",
       "4. 'filename'\n",
       "5. 'age_in_days'\n",
       "6. 'gender'\n",
       "7. 'type'\n",
       "8. 'expt_version'\n",
       "9. 'group'\n",
       "10. 'order'\n",
       "11. 'comment'\n",
       "12. 'participant_name'\n",
       "13. 'main_coder'\n",
       "14. 'main_validated'\n",
       "15. 'double_coder'\n",
       "16. 'double_validated'\n",
       "17. 'comments'\n",
       "18. 'trial_order'\n",
       "19. 'age_in_months'\n",
       "20. 'ran_participant'\n",
       "21. 'child_in_study'\n",
       "22. 'age_group'\n",
       "\n",
       "\n"
      ],
      "text/plain": [
       " [1] \"id\"                  \"include_eyetracking\" \"include_storybook\"  \n",
       " [4] \"filename\"            \"age_in_days\"         \"gender\"             \n",
       " [7] \"type\"                \"expt_version\"        \"group\"              \n",
       "[10] \"order\"               \"comment\"             \"participant_name\"   \n",
       "[13] \"main_coder\"          \"main_validated\"      \"double_coder\"       \n",
       "[16] \"double_validated\"    \"comments\"            \"trial_order\"        \n",
       "[19] \"age_in_months\"       \"ran_participant\"     \"child_in_study\"     \n",
       "[22] \"age_group\"          "
      ]
     },
     "metadata": {},
     "output_type": "display_data"
    }
   ],
   "source": [
    "names(subject_info)"
   ]
  },
  {
   "cell_type": "code",
   "execution_count": 151,
   "id": "c82ddddf-fbbf-4233-bea5-bb2a6948e7da",
   "metadata": {},
   "outputs": [],
   "source": [
    "library('stringr')\n",
    "children_in_age_range$s_pl_title = paste(str_to_title(children_in_age_range$s_pl),'Storybook Trials')\n",
    "children_in_age_range$s_pl_title = factor(children_in_age_range$s_pl_title, levels = c('Singular Storybook Trials', 'Plural Storybook Trials'))"
   ]
  },
  {
   "cell_type": "code",
   "execution_count": 160,
   "id": "679986eb-46d3-4e32-a1fe-908d0bab53bc",
   "metadata": {},
   "outputs": [
    {
     "name": "stderr",
     "output_type": "stream",
     "text": [
      "Warning message:\n",
      "“position_stack requires non-overlapping x intervals”\n",
      "Warning message:\n",
      "“position_stack requires non-overlapping x intervals”\n",
      "Warning message:\n",
      "“position_stack requires non-overlapping x intervals”\n",
      "Warning message:\n",
      "“position_stack requires non-overlapping x intervals”\n"
     ]
    },
    {
     "data": {
      "image/png": "[encoded data removed]",
      "text/plain": [
       "plot without title"
      ]
     },
     "metadata": {
      "image/png": {
       "height": 600,
       "width": 720
      }
     },
     "output_type": "display_data"
    }
   ],
   "source": [
    "# this is superseded below by collapsing across kids within each age range\n",
    "options(repr.plot.width=12, repr.plot.height=10)\n",
    "ggplot(children_in_age_range) + geom_bar(\n",
    "aes(x=age_in_months, y=count, fill=description),\n",
    "stat=\"identity\",  width = 0.1, position=\"fill\"\n",
    ") + scale_fill_manual(values = rep(c(\"white\", \"palegreen3\", \"palegreen2\", \"palegreen1\",\n",
    "\"palegreen\", \"peachpuff1\", \"peachpuff2\", \"steelblue1\",\"steelblue2\"), 2)) + facet_wrap(~s_pl_title, nrow=1\n",
    ") + xlab('Child Age in Months') + ylab('Proportion of Responses') + theme_classic(base_size=18) +theme(legend.title=element_blank())\n",
    "ggsave('figures/each_child_storybook.pdf', height=4, width=10)"
   ]
  },
  {
   "cell_type": "code",
   "execution_count": 119,
   "id": "fe677ed3-0bba-4853-85bd-0ed56c61ea88",
   "metadata": {},
   "outputs": [],
   "source": [
    "# simplify the coloration of the above\n",
    "children_in_age_range$recode =\n",
    "sapply(children_in_age_range$code, function(x){remap[[as.character(x)]]})\n",
    "children_in_age_range$recode = factor(children_in_age_range$recode,\n",
    "    levels = c('No Data', 'No Response / Not Relevant', 'Singular',\n",
    "               'Non-Conventional Plural','Plural'))"
   ]
  },
  {
   "cell_type": "code",
   "execution_count": 120,
   "id": "bae11ebd-534f-4874-8340-f2a86d4bf6ed",
   "metadata": {},
   "outputs": [],
   "source": [
    "subject_info$age_group = sapply(subject_info$age_in_months,\n",
    "    function(x){\n",
    "        if (is.na(x)){\n",
    "            return('No age')\n",
    "        } else {\n",
    "            if (x < 28){\n",
    "                return('24-28')\n",
    "            } else if (x < 32){\n",
    "                return('28-32')\n",
    "            } else {\n",
    "                return('32-36')\n",
    "            }\n",
    "        }\n",
    "    })"
   ]
  },
  {
   "cell_type": "code",
   "execution_count": 121,
   "id": "36c6fe04-1c73-4214-b8e4-fdb148793dfc",
   "metadata": {},
   "outputs": [],
   "source": [
    "p_coded_aug = merge(p_coded, subject_info[,c('id','age_group')], by.x='child', by.y='id')"
   ]
  },
  {
   "cell_type": "code",
   "execution_count": 122,
   "id": "d540e806-0d1f-4a61-8472-31ece2837d86",
   "metadata": {},
   "outputs": [],
   "source": [
    "p_coded_aug$singular_recode =\n",
    "sapply(p_coded_aug$Singular.Code, function(x){remap[[as.character(x)]]})\n",
    "p_coded_aug$singular_recode = factor(p_coded_aug$singular_recode,\n",
    "    levels = c('No Data', 'No Response / Not Relevant', 'Singular',\n",
    "               'Non-Conventional Plural','Plural'))\n",
    "\n",
    "p_coded_aug$plural_recode =\n",
    "sapply(p_coded_aug$Plural.Code, function(x){remap[[as.character(x)]]})\n",
    "p_coded_aug$plural_recode = factor(p_coded_aug$plural_recode,\n",
    "    levels = c('No Data', 'No Response / Not Relevant', 'Singular',\n",
    "               'Non-Conventional Plural','Plural'))"
   ]
  },
  {
   "cell_type": "code",
   "execution_count": 123,
   "id": "cca8b5d2-345f-48a4-a8b2-5bfbcc2ade70",
   "metadata": {},
   "outputs": [
    {
     "data": {
      "text/html": [
       "2304"
      ],
      "text/latex": [
       "2304"
      ],
      "text/markdown": [
       "2304"
      ],
      "text/plain": [
       "[1] 2304"
      ]
     },
     "metadata": {},
     "output_type": "display_data"
    }
   ],
   "source": [
    "p_coded_test = merge(p_coded_aug, subject_info[,c('participant_name','expt_version')], by.x='child',by.y=\"participant_name\")\n",
    "nrow(p_coded_test)\n",
    "p_coded_aug = p_coded_test"
   ]
  },
  {
   "cell_type": "code",
   "execution_count": 124,
   "id": "b44ece20-6851-4fbd-b3c2-7e219a209410",
   "metadata": {},
   "outputs": [],
   "source": [
    "p_coded_aug = subset(p_coded_aug, expt_version != 'agreement-lookit')"
   ]
  },
  {
   "cell_type": "code",
   "execution_count": 125,
   "id": "332d060e-9d9d-496f-8ba1-93efe2485972",
   "metadata": {},
   "outputs": [
    {
     "data": {
      "text/html": [
       "<table class=\"dataframe\">\n",
       "<caption>A data.frame: 6 × 5</caption>\n",
       "<thead>\n",
       "\t<tr><th></th><th scope=col>code</th><th scope=col>novelty</th><th scope=col>age_group</th><th scope=col>count</th><th scope=col>s_pl</th></tr>\n",
       "\t<tr><th></th><th scope=col>&lt;fct&gt;</th><th scope=col>&lt;chr&gt;</th><th scope=col>&lt;chr&gt;</th><th scope=col>&lt;int&gt;</th><th scope=col>&lt;chr&gt;</th></tr>\n",
       "</thead>\n",
       "<tbody>\n",
       "\t<tr><th scope=row>1</th><td>No Data                   </td><td>Familiar Object Words</td><td>24-28</td><td>  2</td><td>Singular Trials</td></tr>\n",
       "\t<tr><th scope=row>2</th><td>No Response / Not Relevant</td><td>Familiar Object Words</td><td>24-28</td><td> 50</td><td>Singular Trials</td></tr>\n",
       "\t<tr><th scope=row>3</th><td>Singular                  </td><td>Familiar Object Words</td><td>24-28</td><td>311</td><td>Singular Trials</td></tr>\n",
       "\t<tr><th scope=row>4</th><td>Non-Conventional Plural   </td><td>Familiar Object Words</td><td>24-28</td><td>  1</td><td>Singular Trials</td></tr>\n",
       "\t<tr><th scope=row>5</th><td>Plural                    </td><td>Familiar Object Words</td><td>24-28</td><td>  4</td><td>Singular Trials</td></tr>\n",
       "\t<tr><th scope=row>6</th><td>No Response / Not Relevant</td><td>Novel Object Words   </td><td>24-28</td><td> 72</td><td>Singular Trials</td></tr>\n",
       "</tbody>\n",
       "</table>\n"
      ],
      "text/latex": [
       "A data.frame: 6 × 5\n",
       "\\begin{tabular}{r|lllll}\n",
       "  & code & novelty & age\\_group & count & s\\_pl\\\\\n",
       "  & <fct> & <chr> & <chr> & <int> & <chr>\\\\\n",
       "\\hline\n",
       "\t1 & No Data                    & Familiar Object Words & 24-28 &   2 & Singular Trials\\\\\n",
       "\t2 & No Response / Not Relevant & Familiar Object Words & 24-28 &  50 & Singular Trials\\\\\n",
       "\t3 & Singular                   & Familiar Object Words & 24-28 & 311 & Singular Trials\\\\\n",
       "\t4 & Non-Conventional Plural    & Familiar Object Words & 24-28 &   1 & Singular Trials\\\\\n",
       "\t5 & Plural                     & Familiar Object Words & 24-28 &   4 & Singular Trials\\\\\n",
       "\t6 & No Response / Not Relevant & Novel Object Words    & 24-28 &  72 & Singular Trials\\\\\n",
       "\\end{tabular}\n"
      ],
      "text/markdown": [
       "\n",
       "A data.frame: 6 × 5\n",
       "\n",
       "| <!--/--> | code &lt;fct&gt; | novelty &lt;chr&gt; | age_group &lt;chr&gt; | count &lt;int&gt; | s_pl &lt;chr&gt; |\n",
       "|---|---|---|---|---|---|\n",
       "| 1 | No Data                    | Familiar Object Words | 24-28 |   2 | Singular Trials |\n",
       "| 2 | No Response / Not Relevant | Familiar Object Words | 24-28 |  50 | Singular Trials |\n",
       "| 3 | Singular                   | Familiar Object Words | 24-28 | 311 | Singular Trials |\n",
       "| 4 | Non-Conventional Plural    | Familiar Object Words | 24-28 |   1 | Singular Trials |\n",
       "| 5 | Plural                     | Familiar Object Words | 24-28 |   4 | Singular Trials |\n",
       "| 6 | No Response / Not Relevant | Novel Object Words    | 24-28 |  72 | Singular Trials |\n",
       "\n"
      ],
      "text/plain": [
       "  code                       novelty               age_group count\n",
       "1 No Data                    Familiar Object Words 24-28       2  \n",
       "2 No Response / Not Relevant Familiar Object Words 24-28      50  \n",
       "3 Singular                   Familiar Object Words 24-28     311  \n",
       "4 Non-Conventional Plural    Familiar Object Words 24-28       1  \n",
       "5 Plural                     Familiar Object Words 24-28       4  \n",
       "6 No Response / Not Relevant Novel Object Words    24-28      72  \n",
       "  s_pl           \n",
       "1 Singular Trials\n",
       "2 Singular Trials\n",
       "3 Singular Trials\n",
       "4 Singular Trials\n",
       "5 Singular Trials\n",
       "6 Singular Trials"
      ]
     },
     "metadata": {},
     "output_type": "display_data"
    }
   ],
   "source": [
    "sing_counts = aggregate(itemId ~ singular_recode + novelty + age_group, p_coded_aug, length)\n",
    "names(sing_counts)[1] = 'code'\n",
    "names(sing_counts)[length(names(sing_counts))] = 'count'\n",
    "sing_counts$s_pl = 'Singular Trials'\n",
    "pl_counts = aggregate(itemId ~ plural_recode + novelty  + age_group, p_coded_aug, length)\n",
    "names(pl_counts)[1] = 'code'\n",
    "names(pl_counts)[length(names(pl_counts))] = 'count'\n",
    "pl_counts$s_pl = 'Plural Trials'\n",
    "code_counts = rbind(sing_counts,pl_counts)\n",
    "code_counts$novelty = as.character(code_counts$novelty)\n",
    "code_counts$novelty[code_counts$novelty == 'familiar'] = 'Familiar Object Words'\n",
    "code_counts$novelty[code_counts$novelty == 'novel'] = 'Novel Object Words'\n",
    "head(code_counts)"
   ]
  },
  {
   "cell_type": "code",
   "execution_count": 126,
   "id": "3e4f9b12-5ac8-4a16-ab78-4fb96d9f8267",
   "metadata": {},
   "outputs": [
    {
     "data": {
      "text/html": [
       "<table class=\"dataframe\">\n",
       "<caption>A data.frame: 6 × 5</caption>\n",
       "<thead>\n",
       "\t<tr><th></th><th scope=col>code</th><th scope=col>novelty</th><th scope=col>age_group</th><th scope=col>child_count</th><th scope=col>s_pl</th></tr>\n",
       "\t<tr><th></th><th scope=col>&lt;fct&gt;</th><th scope=col>&lt;chr&gt;</th><th scope=col>&lt;chr&gt;</th><th scope=col>&lt;int&gt;</th><th scope=col>&lt;chr&gt;</th></tr>\n",
       "</thead>\n",
       "<tbody>\n",
       "\t<tr><th scope=row>1</th><td>No Data                   </td><td>Familiar Object Words</td><td>24-28</td><td> 2</td><td>Singular Trials</td></tr>\n",
       "\t<tr><th scope=row>2</th><td>No Response / Not Relevant</td><td>Familiar Object Words</td><td>24-28</td><td>17</td><td>Singular Trials</td></tr>\n",
       "\t<tr><th scope=row>3</th><td>Singular                  </td><td>Familiar Object Words</td><td>24-28</td><td>43</td><td>Singular Trials</td></tr>\n",
       "\t<tr><th scope=row>4</th><td>Non-Conventional Plural   </td><td>Familiar Object Words</td><td>24-28</td><td> 1</td><td>Singular Trials</td></tr>\n",
       "\t<tr><th scope=row>5</th><td>Plural                    </td><td>Familiar Object Words</td><td>24-28</td><td> 4</td><td>Singular Trials</td></tr>\n",
       "\t<tr><th scope=row>6</th><td>No Response / Not Relevant</td><td>Novel Object Words   </td><td>24-28</td><td>23</td><td>Singular Trials</td></tr>\n",
       "</tbody>\n",
       "</table>\n"
      ],
      "text/latex": [
       "A data.frame: 6 × 5\n",
       "\\begin{tabular}{r|lllll}\n",
       "  & code & novelty & age\\_group & child\\_count & s\\_pl\\\\\n",
       "  & <fct> & <chr> & <chr> & <int> & <chr>\\\\\n",
       "\\hline\n",
       "\t1 & No Data                    & Familiar Object Words & 24-28 &  2 & Singular Trials\\\\\n",
       "\t2 & No Response / Not Relevant & Familiar Object Words & 24-28 & 17 & Singular Trials\\\\\n",
       "\t3 & Singular                   & Familiar Object Words & 24-28 & 43 & Singular Trials\\\\\n",
       "\t4 & Non-Conventional Plural    & Familiar Object Words & 24-28 &  1 & Singular Trials\\\\\n",
       "\t5 & Plural                     & Familiar Object Words & 24-28 &  4 & Singular Trials\\\\\n",
       "\t6 & No Response / Not Relevant & Novel Object Words    & 24-28 & 23 & Singular Trials\\\\\n",
       "\\end{tabular}\n"
      ],
      "text/markdown": [
       "\n",
       "A data.frame: 6 × 5\n",
       "\n",
       "| <!--/--> | code &lt;fct&gt; | novelty &lt;chr&gt; | age_group &lt;chr&gt; | child_count &lt;int&gt; | s_pl &lt;chr&gt; |\n",
       "|---|---|---|---|---|---|\n",
       "| 1 | No Data                    | Familiar Object Words | 24-28 |  2 | Singular Trials |\n",
       "| 2 | No Response / Not Relevant | Familiar Object Words | 24-28 | 17 | Singular Trials |\n",
       "| 3 | Singular                   | Familiar Object Words | 24-28 | 43 | Singular Trials |\n",
       "| 4 | Non-Conventional Plural    | Familiar Object Words | 24-28 |  1 | Singular Trials |\n",
       "| 5 | Plural                     | Familiar Object Words | 24-28 |  4 | Singular Trials |\n",
       "| 6 | No Response / Not Relevant | Novel Object Words    | 24-28 | 23 | Singular Trials |\n",
       "\n"
      ],
      "text/plain": [
       "  code                       novelty               age_group child_count\n",
       "1 No Data                    Familiar Object Words 24-28      2         \n",
       "2 No Response / Not Relevant Familiar Object Words 24-28     17         \n",
       "3 Singular                   Familiar Object Words 24-28     43         \n",
       "4 Non-Conventional Plural    Familiar Object Words 24-28      1         \n",
       "5 Plural                     Familiar Object Words 24-28      4         \n",
       "6 No Response / Not Relevant Novel Object Words    24-28     23         \n",
       "  s_pl           \n",
       "1 Singular Trials\n",
       "2 Singular Trials\n",
       "3 Singular Trials\n",
       "4 Singular Trials\n",
       "5 Singular Trials\n",
       "6 Singular Trials"
      ]
     },
     "metadata": {},
     "output_type": "display_data"
    }
   ],
   "source": [
    "#child count also\n",
    "child_sing_counts = aggregate(child ~ singular_recode + novelty + age_group, p_coded_aug, \n",
    "    function(x){length(unique(x))})\n",
    "names(child_sing_counts)[1] = 'code'\n",
    "names(child_sing_counts)[length(names(child_sing_counts))] = 'child_count'\n",
    "child_sing_counts$s_pl = 'Singular Trials'\n",
    "child_pl_counts = aggregate(child ~ plural_recode + novelty + age_group, p_coded_aug, \n",
    "    function(x){length(unique(x))})\n",
    "names(child_pl_counts)[1] = 'code'\n",
    "names(child_pl_counts)[length(names(child_pl_counts))] = 'child_count'\n",
    "child_pl_counts$s_pl = 'Plural Trials'\n",
    "child_code_counts = rbind(child_sing_counts,child_pl_counts)\n",
    "child_code_counts$novelty = as.character(child_code_counts$novelty)\n",
    "child_code_counts$novelty[child_code_counts$novelty == 'familiar'] = 'Familiar Object Words'\n",
    "child_code_counts$novelty[child_code_counts$novelty == 'novel'] = 'Novel Object Words'\n",
    "head(child_code_counts)\n"
   ]
  },
  {
   "cell_type": "code",
   "execution_count": 127,
   "id": "3693796a-9298-47f3-ae5a-231b41318069",
   "metadata": {},
   "outputs": [
    {
     "data": {
      "text/html": [
       "<table class=\"dataframe\">\n",
       "<caption>A data.frame: 6 × 7</caption>\n",
       "<thead>\n",
       "\t<tr><th></th><th scope=col>code</th><th scope=col>novelty</th><th scope=col>age_group</th><th scope=col>s_pl</th><th scope=col>count</th><th scope=col>child_count</th><th scope=col>label</th></tr>\n",
       "\t<tr><th></th><th scope=col>&lt;fct&gt;</th><th scope=col>&lt;chr&gt;</th><th scope=col>&lt;chr&gt;</th><th scope=col>&lt;chr&gt;</th><th scope=col>&lt;int&gt;</th><th scope=col>&lt;int&gt;</th><th scope=col>&lt;chr&gt;</th></tr>\n",
       "</thead>\n",
       "<tbody>\n",
       "\t<tr><th scope=row>1</th><td>No Data</td><td>Familiar Object Words</td><td>24-28</td><td>Plural Trials  </td><td>4</td><td>4</td><td>4 (4)</td></tr>\n",
       "\t<tr><th scope=row>2</th><td>No Data</td><td>Familiar Object Words</td><td>24-28</td><td>Singular Trials</td><td>2</td><td>2</td><td>2 (2)</td></tr>\n",
       "\t<tr><th scope=row>3</th><td>No Data</td><td>Familiar Object Words</td><td>28-32</td><td>Plural Trials  </td><td>6</td><td>2</td><td>6 (2)</td></tr>\n",
       "\t<tr><th scope=row>4</th><td>No Data</td><td>Familiar Object Words</td><td>28-32</td><td>Singular Trials</td><td>5</td><td>2</td><td>5 (2)</td></tr>\n",
       "\t<tr><th scope=row>5</th><td>No Data</td><td>Familiar Object Words</td><td>32-36</td><td>Plural Trials  </td><td>5</td><td>5</td><td>5 (5)</td></tr>\n",
       "\t<tr><th scope=row>6</th><td>No Data</td><td>Familiar Object Words</td><td>32-36</td><td>Singular Trials</td><td>1</td><td>1</td><td>1 (1)</td></tr>\n",
       "</tbody>\n",
       "</table>\n"
      ],
      "text/latex": [
       "A data.frame: 6 × 7\n",
       "\\begin{tabular}{r|lllllll}\n",
       "  & code & novelty & age\\_group & s\\_pl & count & child\\_count & label\\\\\n",
       "  & <fct> & <chr> & <chr> & <chr> & <int> & <int> & <chr>\\\\\n",
       "\\hline\n",
       "\t1 & No Data & Familiar Object Words & 24-28 & Plural Trials   & 4 & 4 & 4 (4)\\\\\n",
       "\t2 & No Data & Familiar Object Words & 24-28 & Singular Trials & 2 & 2 & 2 (2)\\\\\n",
       "\t3 & No Data & Familiar Object Words & 28-32 & Plural Trials   & 6 & 2 & 6 (2)\\\\\n",
       "\t4 & No Data & Familiar Object Words & 28-32 & Singular Trials & 5 & 2 & 5 (2)\\\\\n",
       "\t5 & No Data & Familiar Object Words & 32-36 & Plural Trials   & 5 & 5 & 5 (5)\\\\\n",
       "\t6 & No Data & Familiar Object Words & 32-36 & Singular Trials & 1 & 1 & 1 (1)\\\\\n",
       "\\end{tabular}\n"
      ],
      "text/markdown": [
       "\n",
       "A data.frame: 6 × 7\n",
       "\n",
       "| <!--/--> | code &lt;fct&gt; | novelty &lt;chr&gt; | age_group &lt;chr&gt; | s_pl &lt;chr&gt; | count &lt;int&gt; | child_count &lt;int&gt; | label &lt;chr&gt; |\n",
       "|---|---|---|---|---|---|---|---|\n",
       "| 1 | No Data | Familiar Object Words | 24-28 | Plural Trials   | 4 | 4 | 4 (4) |\n",
       "| 2 | No Data | Familiar Object Words | 24-28 | Singular Trials | 2 | 2 | 2 (2) |\n",
       "| 3 | No Data | Familiar Object Words | 28-32 | Plural Trials   | 6 | 2 | 6 (2) |\n",
       "| 4 | No Data | Familiar Object Words | 28-32 | Singular Trials | 5 | 2 | 5 (2) |\n",
       "| 5 | No Data | Familiar Object Words | 32-36 | Plural Trials   | 5 | 5 | 5 (5) |\n",
       "| 6 | No Data | Familiar Object Words | 32-36 | Singular Trials | 1 | 1 | 1 (1) |\n",
       "\n"
      ],
      "text/plain": [
       "  code    novelty               age_group s_pl            count child_count\n",
       "1 No Data Familiar Object Words 24-28     Plural Trials   4     4          \n",
       "2 No Data Familiar Object Words 24-28     Singular Trials 2     2          \n",
       "3 No Data Familiar Object Words 28-32     Plural Trials   6     2          \n",
       "4 No Data Familiar Object Words 28-32     Singular Trials 5     2          \n",
       "5 No Data Familiar Object Words 32-36     Plural Trials   5     5          \n",
       "6 No Data Familiar Object Words 32-36     Singular Trials 1     1          \n",
       "  label\n",
       "1 4 (4)\n",
       "2 2 (2)\n",
       "3 6 (2)\n",
       "4 5 (2)\n",
       "5 5 (5)\n",
       "6 1 (1)"
      ]
     },
     "metadata": {},
     "output_type": "display_data"
    }
   ],
   "source": [
    "both_code_counts = merge(code_counts, child_code_counts, all=T)\n",
    "both_code_counts[is.na(both_code_counts)] = 0\n",
    "both_code_counts$label = paste0(both_code_counts$count,' (',both_code_counts$child_count,')')\n",
    "head(both_code_counts)"
   ]
  },
  {
   "cell_type": "code",
   "execution_count": 128,
   "id": "135dcd93-9fef-4616-b9d4-47f47a686205",
   "metadata": {},
   "outputs": [
    {
     "data": {
      "text/html": [
       "<table class=\"dataframe\">\n",
       "<caption>A data.frame: 12 × 4</caption>\n",
       "<thead>\n",
       "\t<tr><th scope=col>novelty</th><th scope=col>age_group</th><th scope=col>children_per_interval</th><th scope=col>s_pl</th></tr>\n",
       "\t<tr><th scope=col>&lt;chr&gt;</th><th scope=col>&lt;chr&gt;</th><th scope=col>&lt;int&gt;</th><th scope=col>&lt;chr&gt;</th></tr>\n",
       "</thead>\n",
       "<tbody>\n",
       "\t<tr><td>Familiar Object Words</td><td>24-28</td><td>46</td><td>Plural Trials  </td></tr>\n",
       "\t<tr><td>Novel Object Words   </td><td>24-28</td><td>46</td><td>Plural Trials  </td></tr>\n",
       "\t<tr><td>Familiar Object Words</td><td>28-32</td><td>34</td><td>Plural Trials  </td></tr>\n",
       "\t<tr><td>Novel Object Words   </td><td>28-32</td><td>34</td><td>Plural Trials  </td></tr>\n",
       "\t<tr><td>Familiar Object Words</td><td>32-36</td><td>41</td><td>Plural Trials  </td></tr>\n",
       "\t<tr><td>Novel Object Words   </td><td>32-36</td><td>41</td><td>Plural Trials  </td></tr>\n",
       "\t<tr><td>Familiar Object Words</td><td>24-28</td><td>46</td><td>Singular Trials</td></tr>\n",
       "\t<tr><td>Novel Object Words   </td><td>24-28</td><td>46</td><td>Singular Trials</td></tr>\n",
       "\t<tr><td>Familiar Object Words</td><td>28-32</td><td>34</td><td>Singular Trials</td></tr>\n",
       "\t<tr><td>Novel Object Words   </td><td>28-32</td><td>34</td><td>Singular Trials</td></tr>\n",
       "\t<tr><td>Familiar Object Words</td><td>32-36</td><td>41</td><td>Singular Trials</td></tr>\n",
       "\t<tr><td>Novel Object Words   </td><td>32-36</td><td>41</td><td>Singular Trials</td></tr>\n",
       "</tbody>\n",
       "</table>\n"
      ],
      "text/latex": [
       "A data.frame: 12 × 4\n",
       "\\begin{tabular}{llll}\n",
       " novelty & age\\_group & children\\_per\\_interval & s\\_pl\\\\\n",
       " <chr> & <chr> & <int> & <chr>\\\\\n",
       "\\hline\n",
       "\t Familiar Object Words & 24-28 & 46 & Plural Trials  \\\\\n",
       "\t Novel Object Words    & 24-28 & 46 & Plural Trials  \\\\\n",
       "\t Familiar Object Words & 28-32 & 34 & Plural Trials  \\\\\n",
       "\t Novel Object Words    & 28-32 & 34 & Plural Trials  \\\\\n",
       "\t Familiar Object Words & 32-36 & 41 & Plural Trials  \\\\\n",
       "\t Novel Object Words    & 32-36 & 41 & Plural Trials  \\\\\n",
       "\t Familiar Object Words & 24-28 & 46 & Singular Trials\\\\\n",
       "\t Novel Object Words    & 24-28 & 46 & Singular Trials\\\\\n",
       "\t Familiar Object Words & 28-32 & 34 & Singular Trials\\\\\n",
       "\t Novel Object Words    & 28-32 & 34 & Singular Trials\\\\\n",
       "\t Familiar Object Words & 32-36 & 41 & Singular Trials\\\\\n",
       "\t Novel Object Words    & 32-36 & 41 & Singular Trials\\\\\n",
       "\\end{tabular}\n"
      ],
      "text/markdown": [
       "\n",
       "A data.frame: 12 × 4\n",
       "\n",
       "| novelty &lt;chr&gt; | age_group &lt;chr&gt; | children_per_interval &lt;int&gt; | s_pl &lt;chr&gt; |\n",
       "|---|---|---|---|\n",
       "| Familiar Object Words | 24-28 | 46 | Plural Trials   |\n",
       "| Novel Object Words    | 24-28 | 46 | Plural Trials   |\n",
       "| Familiar Object Words | 28-32 | 34 | Plural Trials   |\n",
       "| Novel Object Words    | 28-32 | 34 | Plural Trials   |\n",
       "| Familiar Object Words | 32-36 | 41 | Plural Trials   |\n",
       "| Novel Object Words    | 32-36 | 41 | Plural Trials   |\n",
       "| Familiar Object Words | 24-28 | 46 | Singular Trials |\n",
       "| Novel Object Words    | 24-28 | 46 | Singular Trials |\n",
       "| Familiar Object Words | 28-32 | 34 | Singular Trials |\n",
       "| Novel Object Words    | 28-32 | 34 | Singular Trials |\n",
       "| Familiar Object Words | 32-36 | 41 | Singular Trials |\n",
       "| Novel Object Words    | 32-36 | 41 | Singular Trials |\n",
       "\n"
      ],
      "text/plain": [
       "   novelty               age_group children_per_interval s_pl           \n",
       "1  Familiar Object Words 24-28     46                    Plural Trials  \n",
       "2  Novel Object Words    24-28     46                    Plural Trials  \n",
       "3  Familiar Object Words 28-32     34                    Plural Trials  \n",
       "4  Novel Object Words    28-32     34                    Plural Trials  \n",
       "5  Familiar Object Words 32-36     41                    Plural Trials  \n",
       "6  Novel Object Words    32-36     41                    Plural Trials  \n",
       "7  Familiar Object Words 24-28     46                    Singular Trials\n",
       "8  Novel Object Words    24-28     46                    Singular Trials\n",
       "9  Familiar Object Words 28-32     34                    Singular Trials\n",
       "10 Novel Object Words    28-32     34                    Singular Trials\n",
       "11 Familiar Object Words 32-36     41                    Singular Trials\n",
       "12 Novel Object Words    32-36     41                    Singular Trials"
      ]
     },
     "metadata": {},
     "output_type": "display_data"
    }
   ],
   "source": [
    "# total child counts per time interval\n",
    "interval_child_counts = aggregate(child ~ novelty  + age_group, p_coded_aug, \n",
    "    function(x){length(unique(x))})\n",
    "interval_child_counts = rbind(interval_child_counts, interval_child_counts)\n",
    "interval_child_counts$s_pl = c(rep('Plural Trials', 6), rep('Singular Trials', 6)) \n",
    "names(interval_child_counts)[names(interval_child_counts) == 'child'] = 'children_per_interval'\n",
    "interval_child_counts$novelty = as.character(interval_child_counts$novelty)\n",
    "interval_child_counts$novelty[interval_child_counts$novelty == 'familiar'] = 'Familiar Object Words'\n",
    "interval_child_counts$novelty[interval_child_counts$novelty == 'novel'] = 'Novel Object Words'\n",
    "interval_child_counts"
   ]
  },
  {
   "cell_type": "code",
   "execution_count": 129,
   "id": "60465a89-c0f4-4b60-8f6c-ab3e67ab693e",
   "metadata": {},
   "outputs": [],
   "source": [
    "both_code_counts = merge(both_code_counts, interval_child_counts)"
   ]
  },
  {
   "cell_type": "code",
   "execution_count": 130,
   "id": "94d531de-62ad-4f57-9a4d-76abe7c9855f",
   "metadata": {},
   "outputs": [],
   "source": [
    "both_code_counts$age_group_label = paste0(both_code_counts$age_group, '\\n(n = ',\n",
    "    both_code_counts$children_per_interval,')')"
   ]
  },
  {
   "cell_type": "code",
   "execution_count": 131,
   "id": "9217c4f1-2678-4751-a063-5582f6803202",
   "metadata": {},
   "outputs": [
    {
     "data": {
      "text/html": [
       "<table class=\"dataframe\">\n",
       "<caption>A data.frame: 4 × 10</caption>\n",
       "<thead>\n",
       "\t<tr><th></th><th scope=col>novelty</th><th scope=col>age_group</th><th scope=col>s_pl</th><th scope=col>code</th><th scope=col>count</th><th scope=col>child_count</th><th scope=col>label</th><th scope=col>children_per_interval</th><th scope=col>age_group_label</th><th scope=col>prop</th></tr>\n",
       "\t<tr><th></th><th scope=col>&lt;chr&gt;</th><th scope=col>&lt;chr&gt;</th><th scope=col>&lt;chr&gt;</th><th scope=col>&lt;fct&gt;</th><th scope=col>&lt;int&gt;</th><th scope=col>&lt;int&gt;</th><th scope=col>&lt;chr&gt;</th><th scope=col>&lt;int&gt;</th><th scope=col>&lt;chr&gt;</th><th scope=col>&lt;dbl&gt;</th></tr>\n",
       "</thead>\n",
       "<tbody>\n",
       "\t<tr><th scope=row>Novel Object Words.24-28.Plural Trials.29</th><td>Novel Object Words</td><td>24-28</td><td>Plural Trials</td><td>Plural                    </td><td> 34</td><td> 9</td><td>34 (9)  </td><td>46</td><td>24-28\n",
       "(n = 46)</td><td>0.09392265</td></tr>\n",
       "\t<tr><th scope=row>Novel Object Words.24-28.Plural Trials.30</th><td>Novel Object Words</td><td>24-28</td><td>Plural Trials</td><td>Singular                  </td><td>180</td><td>38</td><td>180 (38)</td><td>46</td><td>24-28\n",
       "(n = 46)</td><td>0.49723757</td></tr>\n",
       "\t<tr><th scope=row>Novel Object Words.24-28.Plural Trials.31</th><td>Novel Object Words</td><td>24-28</td><td>Plural Trials</td><td>Non-Conventional Plural   </td><td> 21</td><td> 7</td><td>21 (7)  </td><td>46</td><td>24-28\n",
       "(n = 46)</td><td>0.05801105</td></tr>\n",
       "\t<tr><th scope=row>Novel Object Words.24-28.Plural Trials.33</th><td>Novel Object Words</td><td>24-28</td><td>Plural Trials</td><td>No Response / Not Relevant</td><td>127</td><td>35</td><td>127 (35)</td><td>46</td><td>24-28\n",
       "(n = 46)</td><td>0.35082873</td></tr>\n",
       "</tbody>\n",
       "</table>\n"
      ],
      "text/latex": [
       "A data.frame: 4 × 10\n",
       "\\begin{tabular}{r|llllllllll}\n",
       "  & novelty & age\\_group & s\\_pl & code & count & child\\_count & label & children\\_per\\_interval & age\\_group\\_label & prop\\\\\n",
       "  & <chr> & <chr> & <chr> & <fct> & <int> & <int> & <chr> & <int> & <chr> & <dbl>\\\\\n",
       "\\hline\n",
       "\tNovel Object Words.24-28.Plural Trials.29 & Novel Object Words & 24-28 & Plural Trials & Plural                     &  34 &  9 & 34 (9)   & 46 & 24-28\n",
       "(n = 46) & 0.09392265\\\\\n",
       "\tNovel Object Words.24-28.Plural Trials.30 & Novel Object Words & 24-28 & Plural Trials & Singular                   & 180 & 38 & 180 (38) & 46 & 24-28\n",
       "(n = 46) & 0.49723757\\\\\n",
       "\tNovel Object Words.24-28.Plural Trials.31 & Novel Object Words & 24-28 & Plural Trials & Non-Conventional Plural    &  21 &  7 & 21 (7)   & 46 & 24-28\n",
       "(n = 46) & 0.05801105\\\\\n",
       "\tNovel Object Words.24-28.Plural Trials.33 & Novel Object Words & 24-28 & Plural Trials & No Response / Not Relevant & 127 & 35 & 127 (35) & 46 & 24-28\n",
       "(n = 46) & 0.35082873\\\\\n",
       "\\end{tabular}\n"
      ],
      "text/markdown": [
       "\n",
       "A data.frame: 4 × 10\n",
       "\n",
       "| <!--/--> | novelty &lt;chr&gt; | age_group &lt;chr&gt; | s_pl &lt;chr&gt; | code &lt;fct&gt; | count &lt;int&gt; | child_count &lt;int&gt; | label &lt;chr&gt; | children_per_interval &lt;int&gt; | age_group_label &lt;chr&gt; | prop &lt;dbl&gt; |\n",
       "|---|---|---|---|---|---|---|---|---|---|---|\n",
       "| Novel Object Words.24-28.Plural Trials.29 | Novel Object Words | 24-28 | Plural Trials | Plural                     |  34 |  9 | 34 (9)   | 46 | 24-28\n",
       "(n = 46) | 0.09392265 |\n",
       "| Novel Object Words.24-28.Plural Trials.30 | Novel Object Words | 24-28 | Plural Trials | Singular                   | 180 | 38 | 180 (38) | 46 | 24-28\n",
       "(n = 46) | 0.49723757 |\n",
       "| Novel Object Words.24-28.Plural Trials.31 | Novel Object Words | 24-28 | Plural Trials | Non-Conventional Plural    |  21 |  7 | 21 (7)   | 46 | 24-28\n",
       "(n = 46) | 0.05801105 |\n",
       "| Novel Object Words.24-28.Plural Trials.33 | Novel Object Words | 24-28 | Plural Trials | No Response / Not Relevant | 127 | 35 | 127 (35) | 46 | 24-28\n",
       "(n = 46) | 0.35082873 |\n",
       "\n"
      ],
      "text/plain": [
       "                                          novelty            age_group\n",
       "Novel Object Words.24-28.Plural Trials.29 Novel Object Words 24-28    \n",
       "Novel Object Words.24-28.Plural Trials.30 Novel Object Words 24-28    \n",
       "Novel Object Words.24-28.Plural Trials.31 Novel Object Words 24-28    \n",
       "Novel Object Words.24-28.Plural Trials.33 Novel Object Words 24-28    \n",
       "                                          s_pl         \n",
       "Novel Object Words.24-28.Plural Trials.29 Plural Trials\n",
       "Novel Object Words.24-28.Plural Trials.30 Plural Trials\n",
       "Novel Object Words.24-28.Plural Trials.31 Plural Trials\n",
       "Novel Object Words.24-28.Plural Trials.33 Plural Trials\n",
       "                                          code                       count\n",
       "Novel Object Words.24-28.Plural Trials.29 Plural                      34  \n",
       "Novel Object Words.24-28.Plural Trials.30 Singular                   180  \n",
       "Novel Object Words.24-28.Plural Trials.31 Non-Conventional Plural     21  \n",
       "Novel Object Words.24-28.Plural Trials.33 No Response / Not Relevant 127  \n",
       "                                          child_count label   \n",
       "Novel Object Words.24-28.Plural Trials.29  9          34 (9)  \n",
       "Novel Object Words.24-28.Plural Trials.30 38          180 (38)\n",
       "Novel Object Words.24-28.Plural Trials.31  7          21 (7)  \n",
       "Novel Object Words.24-28.Plural Trials.33 35          127 (35)\n",
       "                                          children_per_interval age_group_label\n",
       "Novel Object Words.24-28.Plural Trials.29 46                    24-28\\n(n = 46)\n",
       "Novel Object Words.24-28.Plural Trials.30 46                    24-28\\n(n = 46)\n",
       "Novel Object Words.24-28.Plural Trials.31 46                    24-28\\n(n = 46)\n",
       "Novel Object Words.24-28.Plural Trials.33 46                    24-28\\n(n = 46)\n",
       "                                          prop      \n",
       "Novel Object Words.24-28.Plural Trials.29 0.09392265\n",
       "Novel Object Words.24-28.Plural Trials.30 0.49723757\n",
       "Novel Object Words.24-28.Plural Trials.31 0.05801105\n",
       "Novel Object Words.24-28.Plural Trials.33 0.35082873"
      ]
     },
     "metadata": {},
     "output_type": "display_data"
    }
   ],
   "source": [
    "# recompute these as proportions\n",
    "non_missing_code_counts = subset(both_code_counts, code != 'No Data')\n",
    "\n",
    "code_props = do.call('rbind', lapply(split(non_missing_code_counts, list(non_missing_code_counts$novelty,\n",
    "    non_missing_code_counts$age_group, non_missing_code_counts$s_pl)), function(df){\n",
    "    total = sum(df$count)\n",
    "    df$prop = df$count / total\n",
    "    return(df)\n",
    "}))\n",
    "subset(code_props, s_pl == 'Plural Trials' & novelty == 'Novel Object Words' & age_group == '24-28')"
   ]
  },
  {
   "cell_type": "code",
   "execution_count": 132,
   "id": "0e3cce32-1df1-42c4-8d51-0cef6d8ed911",
   "metadata": {},
   "outputs": [
    {
     "name": "stderr",
     "output_type": "stream",
     "text": [
      "Warning message:\n",
      "“Ignoring unknown aesthetics: label”\n",
      "Warning message:\n",
      "“Ignoring unknown aesthetics: fill”\n"
     ]
    },
    {
     "data": {
      "image/png": "[encoded data removed]",
      "text/plain": [
       "plot without title"
      ]
     },
     "metadata": {
      "image/png": {
       "height": 180,
       "width": 480
      }
     },
     "output_type": "display_data"
    }
   ],
   "source": [
    "code_props$s_pl_by_novelty = paste0(code_props$s_pl,\":\\n \", code_props$novelty)\n",
    "code_props$s_pl_by_novelty = factor(code_props$s_pl_by_novelty)\n",
    "code_props$s_pl_by_novelty = factor(code_props$s_pl_by_novelty, levels = rev(levels(code_props$s_pl_by_novelty)))\n",
    "\n",
    "options(repr.plot.width=8, repr.plot.height=3)\n",
    "ggplot(code_props) + geom_bar(\n",
    "aes(x=age_group_label, y=prop, fill=code, label=count),\n",
    "stat=\"identity\", position=\"stack\"\n",
    ") + facet_wrap(~s_pl_by_novelty, nrow=1) + xlab('Age Group (Months)') + ylab('Proportion of Responses'\n",
    ") + theme_classic() + scale_fill_manual(values = rep(c(\"palegreen2\", \n",
    " \"salmon1\", \"peachpuff2\",\"steelblue1\"), 2)\n",
    ") + geom_text(size=3, aes(x=age_group_label, y=prop, fill=code, label=label),\n",
    "          position = position_stack(vjust = 0.5)) + theme(legend.position=\"bottom\",\n",
    "    legend.title = element_blank(), legend.direction='vertical', legend.margin=margin(0,0,0,0),\n",
    "        legend.box.margin=margin(-10,-5,-5,-5)) + guides(fill=guide_legend(ncol=4))\n",
    "ggsave('figures/production_props.pdf', height=2.5, width=8)"
   ]
  },
  {
   "cell_type": "code",
   "execution_count": 133,
   "id": "09d85c26-2497-4f7e-88df-eeaf1a3d0a46",
   "metadata": {},
   "outputs": [
    {
     "data": {
      "text/html": [
       "<style>\n",
       ".list-inline {list-style: none; margin:0; padding: 0}\n",
       ".list-inline>li {display: inline-block}\n",
       ".list-inline>li:not(:last-child)::after {content: \"\\00b7\"; padding: 0 .5ex}\n",
       "</style>\n",
       "<ol class=list-inline><li>'child'</li><li>'Lemma'</li><li>'itemId'</li><li>'Singular.description'</li><li>'Singular.Code'</li><li>'Plural.Description'</li><li>'Plural.Code'</li><li>'Comments'</li><li>'X'</li><li>'novel_id'</li><li>'background_context'</li><li>'vowel_carrier'</li><li>'full_carrier'</li><li>'s_carrier'</li><li>'s_punct'</li><li>'s_wav_index'</li><li>'s_sentence'</li><li>'pl_form'</li><li>'pl_carrier'</li><li>'pl_punct'</li><li>'pl_wav_index'</li><li>'pl_sentence'</li><li>'novelty'</li><li>'voicing'</li><li>'simple_pl_stim'</li><li>'simple_s_stim'</li><li>'animacyStatus'</li><li>'test_index'</li><li>'trial_index'</li><li>'Trial'</li><li>'Practice'</li><li>'NovelColor'</li><li>'book'</li><li>'Singular.Code.Downsampled'</li><li>'Plural.Code.Downsampled'</li><li>'age_in_months'</li><li>'include_storybook'</li><li>'s_success'</li><li>'pl_success'</li><li>'age_in_months_c'</li><li>'expt_version'</li></ol>\n"
      ],
      "text/latex": [
       "\\begin{enumerate*}\n",
       "\\item 'child'\n",
       "\\item 'Lemma'\n",
       "\\item 'itemId'\n",
       "\\item 'Singular.description'\n",
       "\\item 'Singular.Code'\n",
       "\\item 'Plural.Description'\n",
       "\\item 'Plural.Code'\n",
       "\\item 'Comments'\n",
       "\\item 'X'\n",
       "\\item 'novel\\_id'\n",
       "\\item 'background\\_context'\n",
       "\\item 'vowel\\_carrier'\n",
       "\\item 'full\\_carrier'\n",
       "\\item 's\\_carrier'\n",
       "\\item 's\\_punct'\n",
       "\\item 's\\_wav\\_index'\n",
       "\\item 's\\_sentence'\n",
       "\\item 'pl\\_form'\n",
       "\\item 'pl\\_carrier'\n",
       "\\item 'pl\\_punct'\n",
       "\\item 'pl\\_wav\\_index'\n",
       "\\item 'pl\\_sentence'\n",
       "\\item 'novelty'\n",
       "\\item 'voicing'\n",
       "\\item 'simple\\_pl\\_stim'\n",
       "\\item 'simple\\_s\\_stim'\n",
       "\\item 'animacyStatus'\n",
       "\\item 'test\\_index'\n",
       "\\item 'trial\\_index'\n",
       "\\item 'Trial'\n",
       "\\item 'Practice'\n",
       "\\item 'NovelColor'\n",
       "\\item 'book'\n",
       "\\item 'Singular.Code.Downsampled'\n",
       "\\item 'Plural.Code.Downsampled'\n",
       "\\item 'age\\_in\\_months'\n",
       "\\item 'include\\_storybook'\n",
       "\\item 's\\_success'\n",
       "\\item 'pl\\_success'\n",
       "\\item 'age\\_in\\_months\\_c'\n",
       "\\item 'expt\\_version'\n",
       "\\end{enumerate*}\n"
      ],
      "text/markdown": [
       "1. 'child'\n",
       "2. 'Lemma'\n",
       "3. 'itemId'\n",
       "4. 'Singular.description'\n",
       "5. 'Singular.Code'\n",
       "6. 'Plural.Description'\n",
       "7. 'Plural.Code'\n",
       "8. 'Comments'\n",
       "9. 'X'\n",
       "10. 'novel_id'\n",
       "11. 'background_context'\n",
       "12. 'vowel_carrier'\n",
       "13. 'full_carrier'\n",
       "14. 's_carrier'\n",
       "15. 's_punct'\n",
       "16. 's_wav_index'\n",
       "17. 's_sentence'\n",
       "18. 'pl_form'\n",
       "19. 'pl_carrier'\n",
       "20. 'pl_punct'\n",
       "21. 'pl_wav_index'\n",
       "22. 'pl_sentence'\n",
       "23. 'novelty'\n",
       "24. 'voicing'\n",
       "25. 'simple_pl_stim'\n",
       "26. 'simple_s_stim'\n",
       "27. 'animacyStatus'\n",
       "28. 'test_index'\n",
       "29. 'trial_index'\n",
       "30. 'Trial'\n",
       "31. 'Practice'\n",
       "32. 'NovelColor'\n",
       "33. 'book'\n",
       "34. 'Singular.Code.Downsampled'\n",
       "35. 'Plural.Code.Downsampled'\n",
       "36. 'age_in_months'\n",
       "37. 'include_storybook'\n",
       "38. 's_success'\n",
       "39. 'pl_success'\n",
       "40. 'age_in_months_c'\n",
       "41. 'expt_version'\n",
       "\n",
       "\n"
      ],
      "text/plain": [
       " [1] \"child\"                     \"Lemma\"                    \n",
       " [3] \"itemId\"                    \"Singular.description\"     \n",
       " [5] \"Singular.Code\"             \"Plural.Description\"       \n",
       " [7] \"Plural.Code\"               \"Comments\"                 \n",
       " [9] \"X\"                         \"novel_id\"                 \n",
       "[11] \"background_context\"        \"vowel_carrier\"            \n",
       "[13] \"full_carrier\"              \"s_carrier\"                \n",
       "[15] \"s_punct\"                   \"s_wav_index\"              \n",
       "[17] \"s_sentence\"                \"pl_form\"                  \n",
       "[19] \"pl_carrier\"                \"pl_punct\"                 \n",
       "[21] \"pl_wav_index\"              \"pl_sentence\"              \n",
       "[23] \"novelty\"                   \"voicing\"                  \n",
       "[25] \"simple_pl_stim\"            \"simple_s_stim\"            \n",
       "[27] \"animacyStatus\"             \"test_index\"               \n",
       "[29] \"trial_index\"               \"Trial\"                    \n",
       "[31] \"Practice\"                  \"NovelColor\"               \n",
       "[33] \"book\"                      \"Singular.Code.Downsampled\"\n",
       "[35] \"Plural.Code.Downsampled\"   \"age_in_months\"            \n",
       "[37] \"include_storybook\"         \"s_success\"                \n",
       "[39] \"pl_success\"                \"age_in_months_c\"          \n",
       "[41] \"expt_version\"             "
      ]
     },
     "metadata": {},
     "output_type": "display_data"
    }
   ],
   "source": [
    "p_coded_incl = subset(p_coded, child %in% subset(subject_info, child_in_study)$participant_name)\n",
    "p_coded_incl = merge(p_coded_incl, subject_info[,c('participant_name','expt_version')], by.x='child',by.y=\"participant_name\")\n",
    "p_coded_incl = subset(p_coded_incl, expt_version != 'agreement-lookit')\n",
    "names(p_coded_incl)"
   ]
  },
  {
   "cell_type": "code",
   "execution_count": 134,
   "id": "a809a8c2-144c-46cd-b5da-35d2ef0df950",
   "metadata": {},
   "outputs": [
    {
     "data": {
      "text/html": [
       "73"
      ],
      "text/latex": [
       "73"
      ],
      "text/markdown": [
       "73"
      ],
      "text/plain": [
       "[1] 73"
      ]
     },
     "metadata": {},
     "output_type": "display_data"
    }
   ],
   "source": [
    "nProducingAPlural = length(unique(subset(p_coded_incl, Plural.Code %in% c(7,8))$child))\n",
    "nProducingAPlural\n",
    "tvc = update_texvar_cache(tvc, 'nProducingAPlural', nProducingAPlural)"
   ]
  },
  {
   "cell_type": "code",
   "execution_count": 135,
   "id": "6bc044c6-9ec4-4668-8fdf-958ee715d1d2",
   "metadata": {},
   "outputs": [
    {
     "data": {
      "text/html": [
       "118"
      ],
      "text/latex": [
       "118"
      ],
      "text/markdown": [
       "118"
      ],
      "text/plain": [
       "[1] 118"
      ]
     },
     "metadata": {},
     "output_type": "display_data"
    }
   ],
   "source": [
    "# Number of participants with production data\n",
    "storybookNwithProductions = length(unique(p_coded_incl$child))\n",
    "storybookNwithProductions\n",
    "tvc = update_texvar_cache(tvc, 'storybookNwithProductions', storybookNwithProductions)"
   ]
  },
  {
   "cell_type": "code",
   "execution_count": 136,
   "id": "58b26686-bb19-4273-88f0-6f34e7a5afd1",
   "metadata": {},
   "outputs": [
    {
     "data": {
      "text/html": [
       "48"
      ],
      "text/latex": [
       "48"
      ],
      "text/markdown": [
       "48"
      ],
      "text/plain": [
       "[1] 48"
      ]
     },
     "metadata": {},
     "output_type": "display_data"
    }
   ],
   "source": [
    "# Number that produced one or more novel plurals\n",
    "nProducingNovelPlurals = length(unique(subset(p_coded_incl, Plural.Code %in% c(7,8) & novelty == 'novel' )$child))\n",
    "tvc = update_texvar_cache(tvc, 'nProducingNovelPlurals', nProducingNovelPlurals)\n",
    "nProducingNovelPlurals"
   ]
  },
  {
   "cell_type": "code",
   "execution_count": 137,
   "id": "dfe86f87-477e-4494-be69-d20d6575c321",
   "metadata": {},
   "outputs": [
    {
     "data": {
      "text/html": [
       "116"
      ],
      "text/latex": [
       "116"
      ],
      "text/markdown": [
       "116"
      ],
      "text/plain": [
       "[1] 116"
      ]
     },
     "metadata": {},
     "output_type": "display_data"
    }
   ],
   "source": [
    "# Number that produced one or more novel singulars\n",
    "nNovelSingulars = length(unique(subset(p_coded_incl, Singular.Code %in% c(5) & novelty == 'novel' )$child))\n",
    "tvc = update_texvar_cache(tvc, 'nNovelSingulars', nNovelSingulars)\n",
    "nNovelSingulars"
   ]
  },
  {
   "cell_type": "code",
   "execution_count": 78,
   "id": "3f72a032-cd66-4dcd-9bc7-815181156f61",
   "metadata": {},
   "outputs": [
    {
     "data": {
      "text/html": [
       "16"
      ],
      "text/latex": [
       "16"
      ],
      "text/markdown": [
       "16"
      ],
      "text/plain": [
       "[1] 16"
      ]
     },
     "metadata": {},
     "output_type": "display_data"
    }
   ],
   "source": [
    "# Number that produced non-conventional plurals\n",
    "nNonconventionalPlurals = length(unique(subset(p_coded_incl, Plural.Code %in% c(6) & novelty == 'novel' )$child))\n",
    "tvc = update_texvar_cache(tvc, 'nNonconventionalPlurals', nNonconventionalPlurals)\n",
    "nNonconventionalPlurals"
   ]
  },
  {
   "cell_type": "markdown",
   "id": "cb6fb46c-da84-49da-960d-18aa197bb928",
   "metadata": {},
   "source": [
    "# Familiar vs. Novel Plurals"
   ]
  },
  {
   "cell_type": "code",
   "execution_count": 79,
   "id": "b68d33f6-99ce-4340-83ea-1d0e6fa40855",
   "metadata": {},
   "outputs": [],
   "source": [
    "kids_with_production_data = data.frame(child= unique(p_coded_incl$child))"
   ]
  },
  {
   "cell_type": "code",
   "execution_count": 80,
   "id": "251bd81c-354c-412d-80ac-fcd8ede54272",
   "metadata": {},
   "outputs": [
    {
     "data": {
      "text/html": [
       "118"
      ],
      "text/latex": [
       "118"
      ],
      "text/markdown": [
       "118"
      ],
      "text/plain": [
       "[1] 118"
      ]
     },
     "metadata": {},
     "output_type": "display_data"
    }
   ],
   "source": [
    "fam = aggregate(Plural.Code ~ child, subset(p_coded_incl, Plural.Code %in% c(7,8) & novelty == 'familiar'),\n",
    "          length)\n",
    "fam = merge(kids_with_production_data, fam, all = T)\n",
    "fam[is.na(fam)] = 0\n",
    "names(fam) = c('child','fam_pl')\n",
    "\n",
    "nov = aggregate(Plural.Code ~ child, subset(p_coded_incl, Plural.Code %in% c(7,8) & novelty == 'novel'),\n",
    "          length)\n",
    "nov = merge(kids_with_production_data, nov, all =T)\n",
    "nov[is.na(nov)] = 0\n",
    "names(nov) = c('child','nov_pl')\n",
    "\n",
    "\n",
    "combined = merge(fam, nov, all=T)\n",
    "combined[is.na(combined)] = 0\n",
    "combined = merge(combined, subject_info[,c('participant_name','age_in_months','age_group')],\n",
    "     by.x='child', by.y='participant_name')\n",
    "nrow(combined)\n"
   ]
  },
  {
   "cell_type": "code",
   "execution_count": 81,
   "id": "85c463a6-ed93-461f-9c8a-ecb45653d8d5",
   "metadata": {},
   "outputs": [
    {
     "data": {
      "text/html": [
       "'~~italic(R)^2 ~ \"=\" ~ \"0.696\" * \",\" ~ ~italic(p) ~ \"=\" ~ \"4.68e-20\"'"
      ],
      "text/latex": [
       "'\\textasciitilde{}\\textasciitilde{}italic(R)\\textasciicircum{}2 \\textasciitilde{} \"=\" \\textasciitilde{} \"0.696\" * \",\" \\textasciitilde{} \\textasciitilde{}italic(p) \\textasciitilde{} \"=\" \\textasciitilde{} \"4.68e-20\"'"
      ],
      "text/markdown": [
       "'~~italic(R)^2 ~ \"=\" ~ \"0.696\" * \",\" ~ ~italic(p) ~ \"=\" ~ \"4.68e-20\"'"
      ],
      "text/plain": [
       "[1] \"~~italic(R)^2 ~ \\\"=\\\" ~ \\\"0.696\\\" * \\\",\\\" ~ ~italic(p) ~ \\\"=\\\" ~ \\\"4.68e-20\\\"\""
      ]
     },
     "metadata": {},
     "output_type": "display_data"
    }
   ],
   "source": [
    "lm_eqn(subset(combined, fam_pl > 0 | nov_pl > 0), 'nov_pl ~ fam_pl')"
   ]
  },
  {
   "cell_type": "code",
   "execution_count": 162,
   "id": "cb41b17a-b2fb-4c8b-b81f-62e35be4d6df",
   "metadata": {},
   "outputs": [
    {
     "name": "stderr",
     "output_type": "stream",
     "text": [
      "Warning message:\n",
      "“Ignoring unknown parameters: yintercept”\n",
      "`geom_smooth()` using formula 'y ~ x'\n",
      "\n",
      "`geom_smooth()` using formula 'y ~ x'\n",
      "\n"
     ]
    },
    {
     "data": {
      "image/png": "[encoded data removed]",
      "text/plain": [
       "plot without title"
      ]
     },
     "metadata": {
      "image/png": {
       "height": 480,
       "width": 480
      }
     },
     "output_type": "display_data"
    }
   ],
   "source": [
    "\n",
    "options(repr.plot.width=8, repr.plot.height=8)\n",
    "ggplot(subset(combined, fam_pl > 0 | nov_pl > 0)) + geom_jitter(aes(x=fam_pl, y=nov_pl, color=factor(age_group), shape=factor(age_group)\n",
    "), width=.25, height=.25, size=4) + theme_classic(base_size=16\n",
    ") + xlab('# Familiar Plurals') + ylab('# Novel Plurals') + coord_cartesian(xlim=c(-1,8.5),\n",
    "    ylim=c(-1,8.5)) + geom_abline(yintercept=0, slope=1, linetype = 'dashed', alpha=.5\n",
    ") + theme(\n",
    "    legend.key.size = unit(.4, \"cm\"),\n",
    "    legend.position = c(.2,.9), \n",
    "    legend.background = element_rect(fill=\"white\", linetype=\"solid\", \n",
    "                                  colour =\"white\"),\n",
    "    legend.title=element_blank()\n",
    ") + annotate(\"text\", x = 2, y = 6,\n",
    "    label = lm_eqn(subset(combined, fam_pl > 0 | nov_pl > 0), 'nov_pl ~ fam_pl'), parse=T, size = 6, color='red'\n",
    ") + geom_smooth(aes(x=fam_pl, y=nov_pl), method='lm',\n",
    "    color='red', alpha=.25)\n",
    "ggsave('figures/familiar_vs_novel_plurals.pdf', width = 6, height=6)"
   ]
  },
  {
   "cell_type": "code",
   "execution_count": 163,
   "id": "a2257307-5c54-490c-b23b-14e528747d4a",
   "metadata": {},
   "outputs": [
    {
     "data": {
      "text/html": [
       "<style>\n",
       ".list-inline {list-style: none; margin:0; padding: 0}\n",
       ".list-inline>li {display: inline-block}\n",
       ".list-inline>li:not(:last-child)::after {content: \"\\00b7\"; padding: 0 .5ex}\n",
       "</style>\n",
       "<ol class=list-inline><li>'nov_pl'</li><li>'fam_pl'</li><li>'child'</li></ol>\n"
      ],
      "text/latex": [
       "\\begin{enumerate*}\n",
       "\\item 'nov\\_pl'\n",
       "\\item 'fam\\_pl'\n",
       "\\item 'child'\n",
       "\\end{enumerate*}\n"
      ],
      "text/markdown": [
       "1. 'nov_pl'\n",
       "2. 'fam_pl'\n",
       "3. 'child'\n",
       "\n",
       "\n"
      ],
      "text/plain": [
       "[1] \"nov_pl\" \"fam_pl\" \"child\" "
      ]
     },
     "metadata": {},
     "output_type": "display_data"
    }
   ],
   "source": [
    "combined_counts = aggregate(child ~ nov_pl + fam_pl, subset(combined, fam_pl > 0 | nov_pl > 0), length)\n",
    "names(combined_counts)"
   ]
  },
  {
   "cell_type": "code",
   "execution_count": 164,
   "id": "00052d38-5cb8-4195-86a2-d637f1d60d9c",
   "metadata": {},
   "outputs": [
    {
     "data": {
      "image/png": "[encoded data removed]",
      "text/plain": [
       "plot without title"
      ]
     },
     "metadata": {
      "image/png": {
       "height": 480,
       "width": 480
      }
     },
     "output_type": "display_data"
    }
   ],
   "source": [
    "ggplot(subset(combined_counts, nov_pl > 0 | fam_pl > 0)) + geom_tile(aes(fam_pl, nov_pl, fill=child)) +\n",
    "  scale_fill_gradient(low = \"white\", high = \"black\") + xlab('Familiar Plural') + ylab('Novel Plural')"
   ]
  },
  {
   "cell_type": "code",
   "execution_count": 165,
   "id": "4c65fd61-0ea2-4ff6-bbb2-cb9f2c85b23d",
   "metadata": {},
   "outputs": [],
   "source": [
    "numChildrenWithSingPl = nrow(combined)\n",
    "tvc = update_texvar_cache(tvc, 'numChildrenWithSingPl', numChildrenWithSingPl)"
   ]
  },
  {
   "cell_type": "code",
   "execution_count": 167,
   "id": "74e33373-07cb-461e-94ef-160f6653f7c3",
   "metadata": {},
   "outputs": [
    {
     "name": "stderr",
     "output_type": "stream",
     "text": [
      "Warning message in cor.test.default(combined$fam_pl, combined$nov_pl, method = \"spearman\"):\n",
      "“Cannot compute exact p-value with ties”\n"
     ]
    },
    {
     "data": {
      "text/plain": [
       "\n",
       "\tSpearman's rank correlation rho\n",
       "\n",
       "data:  combined$fam_pl and combined$nov_pl\n",
       "S = 49994, p-value < 2.2e-16\n",
       "alternative hypothesis: true rho is not equal to 0\n",
       "sample estimates:\n",
       "      rho \n",
       "0.8174198 \n"
      ]
     },
     "metadata": {},
     "output_type": "display_data"
    }
   ],
   "source": [
    "fam_nov_cor = cor.test(combined$fam_pl, combined$nov_pl, method='spearman')\n",
    "fam_nov_cor"
   ]
  },
  {
   "cell_type": "code",
   "execution_count": 168,
   "id": "0bd92de4-ae4c-4713-8e19-152c7093faea",
   "metadata": {},
   "outputs": [
    {
     "data": {
      "image/png": "[encoded data removed]",
      "text/plain": [
       "plot without title"
      ]
     },
     "metadata": {
      "image/png": {
       "height": 480,
       "width": 480
      }
     },
     "output_type": "display_data"
    }
   ],
   "source": [
    "fam_nov = spearboot(combined, 'fam_pl', 'nov_pl', cor_method='spearman' )\n",
    "ggplot(data.frame(fam_nov= t(fam_nov))) + geom_density(aes(x=fam_nov))"
   ]
  },
  {
   "cell_type": "code",
   "execution_count": 169,
   "id": "bd98ab0f-abb8-472e-a627-da4a29a15718",
   "metadata": {},
   "outputs": [
    {
     "data": {
      "text/html": [
       "0.73017635070696"
      ],
      "text/latex": [
       "0.73017635070696"
      ],
      "text/markdown": [
       "0.73017635070696"
      ],
      "text/plain": [
       "[1] 0.7301764"
      ]
     },
     "metadata": {},
     "output_type": "display_data"
    },
    {
     "data": {
      "text/html": [
       "0.880603095356274"
      ],
      "text/latex": [
       "0.880603095356274"
      ],
      "text/markdown": [
       "0.880603095356274"
      ],
      "text/plain": [
       "[1] 0.8806031"
      ]
     },
     "metadata": {},
     "output_type": "display_data"
    }
   ],
   "source": [
    "fam_nov_cor_boot_ci = quantile(t(fam_nov), c(0.025, 0.975))\n",
    "fam_nov_cor_boot_ci[['2.5%']]\n",
    "fam_nov_cor_boot_ci[['97.5%']]"
   ]
  },
  {
   "cell_type": "code",
   "execution_count": 170,
   "id": "dc763783-d314-4ad2-9b2e-d5b1ca7f5dca",
   "metadata": {},
   "outputs": [],
   "source": [
    "tvc = update_texvar_cache(tvc, 'famNovCor', fam_nov_cor$estimate, digits=3)\n",
    "tvc = update_texvar_cache(tvc, 'famNovCorP', fam_nov_cor$p.value, digits=3)\n",
    "tvc = update_texvar_cache(tvc, 'famNovCorUpper', fam_nov_cor_boot_ci[['97.5%']], digits=3)\n",
    "tvc = update_texvar_cache(tvc, 'famNovCorLower', fam_nov_cor_boot_ci[['2.5%']], digits=3)"
   ]
  },
  {
   "cell_type": "code",
   "execution_count": 171,
   "id": "e9548885-9046-4342-abda-600af7329046",
   "metadata": {},
   "outputs": [],
   "source": [
    "numProducingHalfNovelPlurals = nrow(subset(nov, nov_pl >= 4))\n",
    "tvc = update_texvar_cache(tvc, 'numProducingHalfNovelPlurals', numProducingHalfNovelPlurals)\n",
    "numProducingHalfFamiliarPlurals= nrow(subset(fam, fam_pl>= 4))\n",
    "tvc = update_texvar_cache(tvc, 'numProducingHalfFamiliarPlurals', numProducingHalfFamiliarPlurals)\n",
    "combined$total_pl = combined$nov_pl + combined$fam_pl"
   ]
  },
  {
   "cell_type": "code",
   "execution_count": 172,
   "id": "26fbfd49-093a-449f-9f46-0f6c78076dbb",
   "metadata": {},
   "outputs": [
    {
     "data": {
      "text/html": [
       "0.406779661016949"
      ],
      "text/latex": [
       "0.406779661016949"
      ],
      "text/markdown": [
       "0.406779661016949"
      ],
      "text/plain": [
       "[1] 0.4067797"
      ]
     },
     "metadata": {},
     "output_type": "display_data"
    }
   ],
   "source": [
    "nrow(subset(combined, nov_pl > 0)) / nrow(combined)\n"
   ]
  },
  {
   "cell_type": "code",
   "execution_count": 173,
   "id": "8635aabd-7d1b-45d5-b553-ab7d42286246",
   "metadata": {},
   "outputs": [
    {
     "data": {
      "text/html": [
       "<style>\n",
       ".list-inline {list-style: none; margin:0; padding: 0}\n",
       ".list-inline>li {display: inline-block}\n",
       ".list-inline>li:not(:last-child)::after {content: \"\\00b7\"; padding: 0 .5ex}\n",
       "</style>\n",
       "<ol class=list-inline><li>'child'</li><li>'fam_pl'</li><li>'nov_pl'</li><li>'age_in_months'</li><li>'age_group'</li><li>'total_pl'</li></ol>\n"
      ],
      "text/latex": [
       "\\begin{enumerate*}\n",
       "\\item 'child'\n",
       "\\item 'fam\\_pl'\n",
       "\\item 'nov\\_pl'\n",
       "\\item 'age\\_in\\_months'\n",
       "\\item 'age\\_group'\n",
       "\\item 'total\\_pl'\n",
       "\\end{enumerate*}\n"
      ],
      "text/markdown": [
       "1. 'child'\n",
       "2. 'fam_pl'\n",
       "3. 'nov_pl'\n",
       "4. 'age_in_months'\n",
       "5. 'age_group'\n",
       "6. 'total_pl'\n",
       "\n",
       "\n"
      ],
      "text/plain": [
       "[1] \"child\"         \"fam_pl\"        \"nov_pl\"        \"age_in_months\"\n",
       "[5] \"age_group\"     \"total_pl\"     "
      ]
     },
     "metadata": {},
     "output_type": "display_data"
    }
   ],
   "source": [
    "names(combined)"
   ]
  },
  {
   "cell_type": "code",
   "execution_count": 174,
   "id": "0d36c4ca-3185-4545-8ca9-7588711cf791",
   "metadata": {},
   "outputs": [],
   "source": [
    "subject_info_with_pl_scores = merge(subject_info_with_broad_scores, \n",
    "                                   combined[,c('child','fam_pl', 'nov_pl','total_pl')],\n",
    "                                            by.x='participant_name',\n",
    "                                            by.y=\"child\",\n",
    "                                   all.x=T, all.y=T)\n",
    "subject_info_with_pl_scores = subset(subject_info_with_pl_scores, !is.na(id))"
   ]
  },
  {
   "cell_type": "markdown",
   "id": "3a2a78f8-f7ff-4c3b-83aa-be03e0208e11",
   "metadata": {},
   "source": [
    "# Write out TexVars"
   ]
  },
  {
   "cell_type": "code",
   "execution_count": 94,
   "id": "ca910901-46b2-44e2-a1a5-dedaaef6dfa4",
   "metadata": {},
   "outputs": [],
   "source": [
    "writeout_texvar_cache(tvc, 'texvars/plearn_analysis_02.tex',appendDate=T)"
   ]
  },
  {
   "cell_type": "markdown",
   "id": "d12b5dee-e05f-4ecf-9ec2-d5f9797eb397",
   "metadata": {},
   "source": [
    "# Save the R objects for loading in the other notebooks"
   ]
  },
  {
   "cell_type": "code",
   "execution_count": 95,
   "id": "6096ef2e-8003-4596-84d1-09045597b300",
   "metadata": {},
   "outputs": [],
   "source": [
    "saveRDS(subject_info_with_pl_scores, file='intermediate_data/subject_info.RData')"
   ]
  }
 ],
 "metadata": {
  "kernelspec": {
   "display_name": "R 4.1.2",
   "language": "R",
   "name": "ir4.1.2"
  },
  "language_info": {
   "codemirror_mode": "r",
   "file_extension": ".r",
   "mimetype": "text/x-r-source",
   "name": "R",
   "pygments_lexer": "r",
   "version": "4.3.1"
  }
 },
 "nbformat": 4,
 "nbformat_minor": 5
}
