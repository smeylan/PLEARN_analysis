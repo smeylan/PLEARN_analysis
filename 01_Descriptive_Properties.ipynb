{
 "cells": [
  {
   "cell_type": "markdown",
   "id": "d9ada88d-80a3-433c-926e-a5024982a7f1",
   "metadata": {},
   "source": [
    "# Load Libraries and Resources"
   ]
  },
  {
   "cell_type": "code",
   "execution_count": 1,
   "id": "f91fa71f-9134-45f7-a84e-47f3965c7f4b",
   "metadata": {},
   "outputs": [
    {
     "name": "stderr",
     "output_type": "stream",
     "text": [
      "\n",
      "Attaching package: ‘dplyr’\n",
      "\n",
      "\n",
      "The following objects are masked from ‘package:plyr’:\n",
      "\n",
      "    arrange, count, desc, failwith, id, mutate, rename, summarise,\n",
      "    summarize\n",
      "\n",
      "\n",
      "The following objects are masked from ‘package:stats’:\n",
      "\n",
      "    filter, lag\n",
      "\n",
      "\n",
      "The following objects are masked from ‘package:base’:\n",
      "\n",
      "    intersect, setdiff, setequal, union\n",
      "\n",
      "\n",
      "Loading required package: Matrix\n",
      "\n",
      "Loading required package: lpSolve\n",
      "\n",
      "Loading required package: Rcpp\n",
      "\n",
      "Loading 'brms' package (version 2.17.0). Useful instructions\n",
      "can be found by typing help('brms'). A more detailed introduction\n",
      "to the package is available through vignette('brms_overview').\n",
      "\n",
      "\n",
      "Attaching package: ‘brms’\n",
      "\n",
      "\n",
      "The following object is masked from ‘package:lme4’:\n",
      "\n",
      "    ngrps\n",
      "\n",
      "\n",
      "The following object is masked from ‘package:stats’:\n",
      "\n",
      "    ar\n",
      "\n",
      "\n",
      "\n",
      "Attaching package: ‘ggstance’\n",
      "\n",
      "\n",
      "The following objects are masked from ‘package:ggplot2’:\n",
      "\n",
      "    geom_errorbarh, GeomErrorbarh\n",
      "\n",
      "\n"
     ]
    }
   ],
   "source": [
    "library('readr')\n",
    "library('blabr')\n",
    "library('plyr')\n",
    "library('dplyr')\n",
    "library('ggplot2')\n",
    "library('rjson')\n",
    "library('parallel')\n",
    "library(\"readxl\")\n",
    "library('dotwhisker')\n",
    "library('broom')\n",
    "library('lme4')\n",
    "library('irr')\n",
    "library('tuneR')\n",
    "library('ggExtra')\n",
    "library('brms')\n",
    "library('ggstance')\n",
    "source('PLEARN_analysis_helper.R')\n",
    "source('texvars.R')\n"
   ]
  },
  {
   "cell_type": "markdown",
   "id": "19f7fde1-1e28-4024-b3c6-54795927f6fb",
   "metadata": {},
   "source": [
    "# Load Objects from Data Preparation"
   ]
  },
  {
   "cell_type": "code",
   "execution_count": 2,
   "id": "839d5d4a-291b-4019-91ef-3f667e2f8ba9",
   "metadata": {},
   "outputs": [],
   "source": [
    "subject_info = readRDS(file='intermediate_data/subject_info.RData')"
   ]
  },
  {
   "cell_type": "markdown",
   "id": "e26ec274-07ee-4ed5-8677-a7fc6b25a857",
   "metadata": {},
   "source": [
    "# Participant Properties"
   ]
  },
  {
   "cell_type": "code",
   "execution_count": 3,
   "id": "6c715f14-05f0-4d83-8b6d-65e6cac2233c",
   "metadata": {},
   "outputs": [],
   "source": [
    "tvc = initialize_texvar_cache()"
   ]
  },
  {
   "cell_type": "code",
   "execution_count": 4,
   "id": "c3a4ab72-1a38-4369-8622-62a4ed418d07",
   "metadata": {},
   "outputs": [
    {
     "data": {
      "text/html": [
       "150"
      ],
      "text/latex": [
       "150"
      ],
      "text/markdown": [
       "150"
      ],
      "text/plain": [
       "[1] 150"
      ]
     },
     "metadata": {},
     "output_type": "display_data"
    }
   ],
   "source": [
    "ranN = nrow(subset(subject_info, type == 'child' & ran_participant)) \n",
    "tvc = update_texvar_cache(tvc, 'ranN', ranN)\n",
    "ranN"
   ]
  },
  {
   "cell_type": "code",
   "execution_count": 5,
   "id": "7b21e5f2-468b-4849-b2d0-a3c59fa9b354",
   "metadata": {},
   "outputs": [
    {
     "data": {
      "text/html": [
       "42"
      ],
      "text/latex": [
       "42"
      ],
      "text/markdown": [
       "42"
      ],
      "text/plain": [
       "[1] 42"
      ]
     },
     "metadata": {},
     "output_type": "display_data"
    },
    {
     "data": {
      "text/html": [
       "41"
      ],
      "text/latex": [
       "41"
      ],
      "text/markdown": [
       "41"
      ],
      "text/plain": [
       "[1] 41"
      ]
     },
     "metadata": {},
     "output_type": "display_data"
    },
    {
     "data": {
      "text/html": [
       "45"
      ],
      "text/latex": [
       "45"
      ],
      "text/markdown": [
       "45"
      ],
      "text/plain": [
       "[1] 45"
      ]
     },
     "metadata": {},
     "output_type": "display_data"
    },
    {
     "data": {
      "text/html": [
       "22"
      ],
      "text/latex": [
       "22"
      ],
      "text/markdown": [
       "22"
      ],
      "text/plain": [
       "[1] 22"
      ]
     },
     "metadata": {},
     "output_type": "display_data"
    }
   ],
   "source": [
    "ranNScene = nrow(subset(subject_info, type == 'child' & ran_participant & expt_version == 'scene')) \n",
    "ranNScene\n",
    "tvc = update_texvar_cache(tvc, 'ranNScene', ranNScene)\n",
    "ranNRedBlue = nrow(subset(subject_info, type == 'child' & ran_participant & expt_version == 'redblue')) \n",
    "ranNRedBlue\n",
    "tvc = update_texvar_cache(tvc, 'ranNRedBlue', ranNRedBlue)\n",
    "\n",
    "ranNAgreement = nrow(subset(subject_info, type == 'child' & ran_participant & expt_version == 'agreement')) \n",
    "ranNAgreement\n",
    "tvc = update_texvar_cache(tvc, 'ranNAgreement', ranNAgreement)\n",
    "\n",
    "ranNAgreementLookit = nrow(subset(subject_info, type == 'child' & ran_participant & expt_version == 'agreement-lookit')) \n",
    "ranNAgreementLookit\n",
    "tvc = update_texvar_cache(tvc, 'ranNAgreementLookit', ranNAgreementLookit)"
   ]
  },
  {
   "cell_type": "code",
   "execution_count": 6,
   "id": "be7f2258-ab49-44ff-a974-64fd2b4c4eb7",
   "metadata": {},
   "outputs": [],
   "source": [
    "subject_info$child_in_study = subject_info$expt_version %in% c('redblue', 'scene','agreement') &\n",
    "    subject_info$type == 'child' &\n",
    "    (subject_info$include_storybook | subject_info$include_eyetracking)\n",
    "# mark which of the participants are children and have usable data in at least one of the tasks\n",
    "# we are excluding LookIt participants at this point as it isn't one of the three main studies"
   ]
  },
  {
   "cell_type": "code",
   "execution_count": 7,
   "id": "d27006ff-a4ee-4266-93bd-34890b697b8c",
   "metadata": {},
   "outputs": [],
   "source": [
    "if (length(subset(subject_info, filename != '')$filename) !=\n",
    "length(unique(subset(subject_info, filename != '')$filename))){\n",
    "    stop('Repeated filenames in the subject info file; look for repeats')\n",
    "}"
   ]
  },
  {
   "cell_type": "code",
   "execution_count": 8,
   "id": "a2ad2101-3acd-4426-afb8-38bd89b2a801",
   "metadata": {},
   "outputs": [
    {
     "data": {
      "text/html": [
       "150"
      ],
      "text/latex": [
       "150"
      ],
      "text/markdown": [
       "150"
      ],
      "text/plain": [
       "[1] 150"
      ]
     },
     "metadata": {},
     "output_type": "display_data"
    }
   ],
   "source": [
    "#number of total kids tested, before exclusions \n",
    "totalN = nrow(subset(subject_info, type == 'child' & ran_participant))\n",
    "tvc = update_texvar_cache(tvc, 'totalN', totalN)\n",
    "totalN"
   ]
  },
  {
   "cell_type": "code",
   "execution_count": 9,
   "id": "f50c6f03-26e5-46c0-935d-c1a7f29a9469",
   "metadata": {},
   "outputs": [
    {
     "data": {
      "text/html": [
       "121"
      ],
      "text/latex": [
       "121"
      ],
      "text/markdown": [
       "121"
      ],
      "text/plain": [
       "[1] 121"
      ]
     },
     "metadata": {},
     "output_type": "display_data"
    }
   ],
   "source": [
    "#number of children with some amount of usable study\n",
    "studyN = nrow(subset(subject_info, type == 'child' & child_in_study))\n",
    "tvc = update_texvar_cache(tvc, 'studyN', studyN)\n",
    "studyN"
   ]
  },
  {
   "cell_type": "code",
   "execution_count": 10,
   "id": "89936c24-36ff-4e1c-9030-23337d4076de",
   "metadata": {},
   "outputs": [
    {
     "data": {
      "text/html": [
       "39"
      ],
      "text/latex": [
       "39"
      ],
      "text/markdown": [
       "39"
      ],
      "text/plain": [
       "[1] 39"
      ]
     },
     "metadata": {},
     "output_type": "display_data"
    }
   ],
   "source": [
    "# number of kids in study 1\n",
    "sceneN = nrow(subset(subject_info, expt_version == 'scene' & type == 'child' & child_in_study))\n",
    "sceneN\n",
    "tvc = update_texvar_cache(tvc, 'sceneN', sceneN)"
   ]
  },
  {
   "cell_type": "code",
   "execution_count": 11,
   "id": "f58d07f0-f891-4cdb-af40-c58af3e6e727",
   "metadata": {},
   "outputs": [
    {
     "data": {
      "text/html": [
       "40"
      ],
      "text/latex": [
       "40"
      ],
      "text/markdown": [
       "40"
      ],
      "text/plain": [
       "[1] 40"
      ]
     },
     "metadata": {},
     "output_type": "display_data"
    }
   ],
   "source": [
    "# of kids in study 2\n",
    "redblueN =  nrow(subset(subject_info, expt_version == 'redblue' & type == 'child' & child_in_study))\n",
    "redblueN\n",
    "tvc = update_texvar_cache(tvc, 'redblueN', redblueN)"
   ]
  },
  {
   "cell_type": "code",
   "execution_count": 12,
   "id": "afdd3a5f-2345-4789-bf1e-68470bb05a9c",
   "metadata": {},
   "outputs": [
    {
     "data": {
      "text/html": [
       "42"
      ],
      "text/latex": [
       "42"
      ],
      "text/markdown": [
       "42"
      ],
      "text/plain": [
       "[1] 42"
      ]
     },
     "metadata": {},
     "output_type": "display_data"
    }
   ],
   "source": [
    "# of kids in study 3 -- in the lab\n",
    "agreementN =  nrow(subset(subject_info, expt_version == 'agreement' & type == 'child' & child_in_study))\n",
    "agreementN\n",
    "tvc = update_texvar_cache(tvc, 'agreementN', agreementN)"
   ]
  },
  {
   "cell_type": "code",
   "execution_count": 13,
   "id": "8f9f8b81-3d73-4dc0-9ade-7fe94803766a",
   "metadata": {},
   "outputs": [],
   "source": [
    "# of adultss\n",
    "redBlueAdultN = nrow(subset(subject_info, type == 'adult' & expt_version == 'redblue'))\n",
    "tvc = update_texvar_cache(tvc, 'redBlueAdultN', redBlueAdultN)\n",
    "sceneAdultN = nrow(subset(subject_info, type == 'adult' & expt_version == 'scene'))\n",
    "tvc = update_texvar_cache(tvc, 'sceneAdultN', sceneAdultN)"
   ]
  },
  {
   "cell_type": "markdown",
   "id": "12d704cc-13a6-4b65-8739-a1f6fabbb7e5",
   "metadata": {},
   "source": [
    "# Eyetracking Exclusions"
   ]
  },
  {
   "cell_type": "markdown",
   "id": "849a2285-6141-41bb-9d4e-b4fa92e095ed",
   "metadata": {},
   "source": [
    "These are **manual exclusions**, noted by the experimenter. Automated exclusion filters are enforced in notebook 03"
   ]
  },
  {
   "cell_type": "code",
   "execution_count": 14,
   "id": "da03ab7f-826a-460e-b1af-0a0a19dcdfee",
   "metadata": {},
   "outputs": [
    {
     "data": {
      "text/html": [
       "<style>\n",
       ".list-inline {list-style: none; margin:0; padding: 0}\n",
       ".list-inline>li {display: inline-block}\n",
       ".list-inline>li:not(:last-child)::after {content: \"\\00b7\"; padding: 0 .5ex}\n",
       "</style>\n",
       "<ol class=list-inline><li>'fussiness; production task but no receptive task'</li><li>'eyetracker problem'</li><li>'eyetracking problem'</li></ol>\n"
      ],
      "text/latex": [
       "\\begin{enumerate*}\n",
       "\\item 'fussiness; production task but no receptive task'\n",
       "\\item 'eyetracker problem'\n",
       "\\item 'eyetracking problem'\n",
       "\\end{enumerate*}\n"
      ],
      "text/markdown": [
       "1. 'fussiness; production task but no receptive task'\n",
       "2. 'eyetracker problem'\n",
       "3. 'eyetracking problem'\n",
       "\n",
       "\n"
      ],
      "text/plain": [
       "[1] \"fussiness; production task but no receptive task\"\n",
       "[2] \"eyetracker problem\"                              \n",
       "[3] \"eyetracking problem\"                             "
      ]
     },
     "metadata": {},
     "output_type": "display_data"
    }
   ],
   "source": [
    "# usable eyetracking\n",
    "redblue_eyetracking_exclusions = subset(subject_info, type == 'child' & \n",
    "        expt_version == 'redblue' & !include_eyetracking & child_in_study)\n",
    "redblueNExclusions = nrow(redblue_eyetracking_exclusions)\n",
    "tvc = update_texvar_cache(tvc, 'redblueNExclusions', redblueNExclusions)\n",
    "redblue_eyetracking_exclusions$comment"
   ]
  },
  {
   "cell_type": "code",
   "execution_count": 15,
   "id": "f9ecfa2f-2495-4e5f-a255-bf7b31216aa9",
   "metadata": {},
   "outputs": [
    {
     "data": {
      "text/html": [
       "<style>\n",
       ".list-inline {list-style: none; margin:0; padding: 0}\n",
       ".list-inline>li {display: inline-block}\n",
       ".list-inline>li:not(:last-child)::after {content: \"\\00b7\"; padding: 0 .5ex}\n",
       "</style>\n",
       "<ol class=list-inline><li>'Fussiness; Production task but no receptive task'</li><li>'Fussiness; Production task but no receptive task'</li><li>'Fussiness; Production task but no receptive task'</li><li>'Squirminess; Production task but no receptive task'</li><li>'eyetracking problem'</li></ol>\n"
      ],
      "text/latex": [
       "\\begin{enumerate*}\n",
       "\\item 'Fussiness; Production task but no receptive task'\n",
       "\\item 'Fussiness; Production task but no receptive task'\n",
       "\\item 'Fussiness; Production task but no receptive task'\n",
       "\\item 'Squirminess; Production task but no receptive task'\n",
       "\\item 'eyetracking problem'\n",
       "\\end{enumerate*}\n"
      ],
      "text/markdown": [
       "1. 'Fussiness; Production task but no receptive task'\n",
       "2. 'Fussiness; Production task but no receptive task'\n",
       "3. 'Fussiness; Production task but no receptive task'\n",
       "4. 'Squirminess; Production task but no receptive task'\n",
       "5. 'eyetracking problem'\n",
       "\n",
       "\n"
      ],
      "text/plain": [
       "[1] \"Fussiness; Production task but no receptive task\"  \n",
       "[2] \"Fussiness; Production task but no receptive task\"  \n",
       "[3] \"Fussiness; Production task but no receptive task\"  \n",
       "[4] \"Squirminess; Production task but no receptive task\"\n",
       "[5] \"eyetracking problem\"                               "
      ]
     },
     "metadata": {},
     "output_type": "display_data"
    }
   ],
   "source": [
    "scene_eyetracking_exclusions = subset(subject_info, type == 'child' & expt_version == 'scene'\n",
    "                                      & !include_eyetracking & child_in_study)\n",
    "sceneNExclusions = nrow(scene_eyetracking_exclusions)\n",
    "tvc = update_texvar_cache(tvc, 'sceneNExclusions', sceneNExclusions)\n",
    "scene_eyetracking_exclusions$comment"
   ]
  },
  {
   "cell_type": "code",
   "execution_count": 16,
   "id": "acbb068f-b09f-440d-a8e6-e1fe1875b410",
   "metadata": {},
   "outputs": [
    {
     "data": {
      "text/html": [
       "<style>\n",
       ".list-inline {list-style: none; margin:0; padding: 0}\n",
       ".list-inline>li {display: inline-block}\n",
       ".list-inline>li:not(:last-child)::after {content: \"\\00b7\"; padding: 0 .5ex}\n",
       "</style>\n",
       "<ol class=list-inline><li>'child kept playing with sticker'</li><li>'fussiness in eyetracking'</li><li>'Squirminess; Production task but no receptive task'</li><li>'eyetrracking problem'</li></ol>\n"
      ],
      "text/latex": [
       "\\begin{enumerate*}\n",
       "\\item 'child kept playing with sticker'\n",
       "\\item 'fussiness in eyetracking'\n",
       "\\item 'Squirminess; Production task but no receptive task'\n",
       "\\item 'eyetrracking problem'\n",
       "\\end{enumerate*}\n"
      ],
      "text/markdown": [
       "1. 'child kept playing with sticker'\n",
       "2. 'fussiness in eyetracking'\n",
       "3. 'Squirminess; Production task but no receptive task'\n",
       "4. 'eyetrracking problem'\n",
       "\n",
       "\n"
      ],
      "text/plain": [
       "[1] \"child kept playing with sticker\"                   \n",
       "[2] \"fussiness in eyetracking\"                          \n",
       "[3] \"Squirminess; Production task but no receptive task\"\n",
       "[4] \"eyetrracking problem\"                              "
      ]
     },
     "metadata": {},
     "output_type": "display_data"
    }
   ],
   "source": [
    "agreement_eyetracking_exclusions = subset(subject_info, type == 'child' & expt_version == 'agreement'\n",
    "                                      & !include_eyetracking & child_in_study)\n",
    "agreementNExclusions = nrow(agreement_eyetracking_exclusions)\n",
    "tvc = update_texvar_cache(tvc, 'agreementNExclusions', agreementNExclusions)\n",
    "agreement_eyetracking_exclusions$comment"
   ]
  },
  {
   "cell_type": "code",
   "execution_count": 17,
   "id": "1707d52d-4bb8-4f08-9bbb-5a4821cee423",
   "metadata": {},
   "outputs": [
    {
     "data": {
      "text/html": [],
      "text/latex": [],
      "text/markdown": [],
      "text/plain": [
       "character(0)"
      ]
     },
     "metadata": {},
     "output_type": "display_data"
    }
   ],
   "source": [
    "agreementLookit_eyetracking_exclusions = subset(subject_info, type == 'child' & expt_version == 'agreement-lookit'\n",
    "                                      & !include_eyetracking & child_in_study)\n",
    "agreementLookitNExclusions = nrow(agreementLookit_eyetracking_exclusions)\n",
    "tvc = update_texvar_cache(tvc, 'agreementLookitNExclusions', agreementLookitNExclusions)\n",
    "agreementLookit_eyetracking_exclusions$comment"
   ]
  },
  {
   "cell_type": "markdown",
   "id": "38e4e671-af8b-4f02-af77-e8ffc020c28a",
   "metadata": {},
   "source": [
    "# Storybook Exclusions"
   ]
  },
  {
   "cell_type": "code",
   "execution_count": 18,
   "id": "3cc56218-371f-4b5b-ab9b-a6c2faee9664",
   "metadata": {},
   "outputs": [
    {
     "data": {
      "text/html": [
       "1"
      ],
      "text/latex": [
       "1"
      ],
      "text/markdown": [
       "1"
      ],
      "text/plain": [
       "[1] 1"
      ]
     },
     "metadata": {},
     "output_type": "display_data"
    },
    {
     "data": {
      "text/html": [
       "'fussiness in production'"
      ],
      "text/latex": [
       "'fussiness in production'"
      ],
      "text/markdown": [
       "'fussiness in production'"
      ],
      "text/plain": [
       "[1] \"fussiness in production\""
      ]
     },
     "metadata": {},
     "output_type": "display_data"
    }
   ],
   "source": [
    "redblue_storybook_exclusions = subset(subject_info, type == 'child' & expt_version %in% \n",
    "                                      c('redblue') & !include_storybook & child_in_study)\n",
    "redblue_storybook_exclusionN = nrow(redblue_storybook_exclusions)\n",
    "redblue_storybook_exclusionN\n",
    "tvc = update_texvar_cache(tvc, 'nRedBlueStorybookExclusions', redblue_storybook_exclusionN)\n",
    "redblue_storybook_exclusions$comment"
   ]
  },
  {
   "cell_type": "code",
   "execution_count": 19,
   "id": "bbddf2db-5fde-4efa-8538-aefa65c16486",
   "metadata": {},
   "outputs": [
    {
     "data": {
      "text/html": [
       "2"
      ],
      "text/latex": [
       "2"
      ],
      "text/markdown": [
       "2"
      ],
      "text/plain": [
       "[1] 2"
      ]
     },
     "metadata": {},
     "output_type": "display_data"
    },
    {
     "data": {
      "text/html": [
       "<style>\n",
       ".list-inline {list-style: none; margin:0; padding: 0}\n",
       ".list-inline>li {display: inline-block}\n",
       ".list-inline>li:not(:last-child)::after {content: \"\\00b7\"; padding: 0 .5ex}\n",
       "</style>\n",
       "<ol class=list-inline><li>'Fussiness; Receptive but not productive task'</li><li>'too quiet in the production task; increased the gain but hard to hear'</li></ol>\n"
      ],
      "text/latex": [
       "\\begin{enumerate*}\n",
       "\\item 'Fussiness; Receptive but not productive task'\n",
       "\\item 'too quiet in the production task; increased the gain but hard to hear'\n",
       "\\end{enumerate*}\n"
      ],
      "text/markdown": [
       "1. 'Fussiness; Receptive but not productive task'\n",
       "2. 'too quiet in the production task; increased the gain but hard to hear'\n",
       "\n",
       "\n"
      ],
      "text/plain": [
       "[1] \"Fussiness; Receptive but not productive task\"                         \n",
       "[2] \"too quiet in the production task; increased the gain but hard to hear\""
      ]
     },
     "metadata": {},
     "output_type": "display_data"
    }
   ],
   "source": [
    "scene_storybook_exclusions = subset(subject_info, type == 'child' & expt_version %in% \n",
    "                                      c('scene') & !include_storybook & child_in_study)\n",
    "scene_storybook_exclusionN = nrow(scene_storybook_exclusions)\n",
    "scene_storybook_exclusionN\n",
    "tvc = update_texvar_cache(tvc, 'nSceneStorybookExclusions', scene_storybook_exclusionN)\n",
    "scene_storybook_exclusions$comment"
   ]
  },
  {
   "cell_type": "code",
   "execution_count": 20,
   "id": "abe7506b-99ef-4687-9461-c3066bd851ce",
   "metadata": {},
   "outputs": [
    {
     "data": {
      "text/html": [
       "2"
      ],
      "text/latex": [
       "2"
      ],
      "text/markdown": [
       "2"
      ],
      "text/plain": [
       "[1] 2"
      ]
     },
     "metadata": {},
     "output_type": "display_data"
    },
    {
     "data": {
      "text/html": [
       "<style>\n",
       ".list-inline {list-style: none; margin:0; padding: 0}\n",
       ".list-inline>li {display: inline-block}\n",
       ".list-inline>li:not(:last-child)::after {content: \"\\00b7\"; padding: 0 .5ex}\n",
       "</style>\n",
       "<ol class=list-inline><li>'parent disclosed speech delays'</li><li>'sleepiness'</li></ol>\n"
      ],
      "text/latex": [
       "\\begin{enumerate*}\n",
       "\\item 'parent disclosed speech delays'\n",
       "\\item 'sleepiness'\n",
       "\\end{enumerate*}\n"
      ],
      "text/markdown": [
       "1. 'parent disclosed speech delays'\n",
       "2. 'sleepiness'\n",
       "\n",
       "\n"
      ],
      "text/plain": [
       "[1] \"parent disclosed speech delays\" \"sleepiness\"                    "
      ]
     },
     "metadata": {},
     "output_type": "display_data"
    }
   ],
   "source": [
    "agreement_storybook_exclusions = subset(subject_info, type == 'child' & expt_version %in% \n",
    "                                      c('agreement') & !include_storybook & child_in_study)\n",
    "agreement_storybook_exclusionN = nrow(agreement_storybook_exclusions)\n",
    "agreement_storybook_exclusionN\n",
    "tvc = update_texvar_cache(tvc, 'nAgreementStorybookExclusions', agreement_storybook_exclusionN)\n",
    "agreement_storybook_exclusions$comment"
   ]
  },
  {
   "cell_type": "code",
   "execution_count": 21,
   "id": "ed79a219-bb55-4582-af2c-0ba1627f1b5d",
   "metadata": {},
   "outputs": [
    {
     "data": {
      "text/html": [
       "0"
      ],
      "text/latex": [
       "0"
      ],
      "text/markdown": [
       "0"
      ],
      "text/plain": [
       "[1] 0"
      ]
     },
     "metadata": {},
     "output_type": "display_data"
    },
    {
     "data": {
      "text/html": [],
      "text/latex": [],
      "text/markdown": [],
      "text/plain": [
       "character(0)"
      ]
     },
     "metadata": {},
     "output_type": "display_data"
    }
   ],
   "source": [
    "agreementLookit_storybook_exclusions = subset(subject_info, type == 'child' & expt_version %in% \n",
    "                                      c('agreement-lookit') & !include_storybook & child_in_study)\n",
    "agreementLookit_storybook_exclusionN = nrow(agreementLookit_storybook_exclusions)\n",
    "agreementLookit_storybook_exclusionN\n",
    "tvc = update_texvar_cache(tvc, 'nAgreementLookitStorybookExclusions', agreementLookit_storybook_exclusionN)\n",
    "agreementLookit_storybook_exclusions$comment"
   ]
  },
  {
   "cell_type": "markdown",
   "id": "3f14d148-4ea1-4e97-95ba-49357c2204a0",
   "metadata": {},
   "source": [
    "# Demographic Properties"
   ]
  },
  {
   "cell_type": "code",
   "execution_count": 22,
   "id": "3ecfb86a-6f2d-4f0d-a6dd-e47d43ac3511",
   "metadata": {},
   "outputs": [],
   "source": [
    "non_lookit_subjects = subset(subject_info, \n",
    "    expt_version  %in% c('redblue','scene','agreement') & child_in_study)\n",
    "\n",
    "percentFem = 100 * mean(subset(non_lookit_subjects, !is.na(gender) & gender != ''\n",
    "        & type == 'child')$gender == 'F', na.rm=T)\n",
    "tvc = update_texvar_cache(tvc, 'percentFem', percentFem)\n",
    "\n",
    "numFem = sum(subset(non_lookit_subjects, !is.na(gender) & gender != ''\n",
    "        & type == 'child' )$gender == 'F')\n",
    "tvc = update_texvar_cache(tvc, 'numFem', numFem)\n",
    "\n",
    "meanAge = mean(subset(non_lookit_subjects, type == 'child' & type == 'child' )$age_in_months, na.rm=T)\n",
    "tvc = update_texvar_cache(tvc, 'meanAge', meanAge)\n",
    "\n",
    "sdAge = sd(subset(non_lookit_subjects, type == 'child' & type == 'child')$age_in_months, na.rm=T)\n",
    "tvc = update_texvar_cache(tvc, 'sdAge', sdAge)"
   ]
  },
  {
   "cell_type": "markdown",
   "id": "10f56e6c-8d13-4995-8bbb-ea459fcb4116",
   "metadata": {},
   "source": [
    "# Write Out TexVars"
   ]
  },
  {
   "cell_type": "code",
   "execution_count": 23,
   "id": "d6764e20-e454-46fb-a0b2-9bb23e1669cf",
   "metadata": {},
   "outputs": [],
   "source": [
    "writeout_texvar_cache(tvc, 'texvars/plearn_analysis_01.tex',appendDate=T)"
   ]
  },
  {
   "cell_type": "markdown",
   "id": "5f9a004d-52fc-4529-9cc9-f37656aae3bd",
   "metadata": {},
   "source": [
    "# Select Storybook Participants for Recoding"
   ]
  },
  {
   "cell_type": "code",
   "execution_count": 24,
   "id": "1324d85b-5d4e-4705-b0e4-e53661d8104c",
   "metadata": {},
   "outputs": [],
   "source": [
    "# storbybook_kids = subset(subject_info, type == 'child' & include_storybook & in_study)"
   ]
  },
  {
   "cell_type": "code",
   "execution_count": 25,
   "id": "e30bb4dd-b2af-4a56-8a66-15c47ec388d2",
   "metadata": {},
   "outputs": [],
   "source": [
    "# recode_df = data.frame(sample(storbybook_kids$participant_name, length(storbybook_kids$participant_name),\n",
    "#       replace = F))\n",
    "# names(recode_df) = 'participant_name'\n",
    "# write.csv(recode_df, 'storybook_participants_for_recoding.csv', row.names=F)"
   ]
  },
  {
   "cell_type": "code",
   "execution_count": 26,
   "id": "e676627a-f8c2-434f-a7aa-a45e1736b6f0",
   "metadata": {},
   "outputs": [],
   "source": [
    "# file_len <- function(fil) {\n",
    "#   if (file.info(fil)$size != 0) {\n",
    "#     wavHeader <- readWave(fil, header = TRUE)\n",
    "#     wavHeader$samples / wavHeader$sample.rate\n",
    "#   } else {\n",
    "#     0\n",
    "#   }\n",
    "# }\n",
    "\n",
    "# file_len('audio/pl52.wav')"
   ]
  },
  {
   "cell_type": "code",
   "execution_count": 27,
   "id": "824a2135-67e2-4b9c-a90b-4f418885308a",
   "metadata": {},
   "outputs": [],
   "source": [
    "# storybook_df = data.frame(file = list.files('audio'))\n",
    "# storybook_df$duration = sapply(storybook_df$file,\n",
    "#                                function(x){\n",
    "#                                    file_len(paste('audio',x, sep='/'))\n",
    "#                                    })\n",
    "# storybook_df$duration_in_minutes = storybook_df$duration / 60"
   ]
  },
  {
   "cell_type": "code",
   "execution_count": 28,
   "id": "d0558a10-7b1c-4af0-8d98-61a85a977514",
   "metadata": {},
   "outputs": [],
   "source": [
    "# storybook_df[order(storybook_df$duration_in_minutes),]"
   ]
  },
  {
   "cell_type": "code",
   "execution_count": 29,
   "id": "01e420f7-5145-4ecd-89e2-8afc978ca0fa",
   "metadata": {},
   "outputs": [],
   "source": [
    "# sum(storybook_df$duration_in_minutes) / 60"
   ]
  },
  {
   "cell_type": "markdown",
   "id": "beece94c-f85d-4766-8d8a-e04b8ea0005c",
   "metadata": {},
   "source": [
    "# Save the R objects for loading in later notebooks"
   ]
  },
  {
   "cell_type": "code",
   "execution_count": 30,
   "id": "74dfbdad-d07e-4ce0-b3bc-908622587bcc",
   "metadata": {},
   "outputs": [],
   "source": [
    "saveRDS(subject_info, file='intermediate_data/subject_info.RData')"
   ]
  },
  {
   "cell_type": "code",
   "execution_count": 31,
   "id": "7b3e10e7-eb45-4ceb-8cd8-875da7106a68",
   "metadata": {},
   "outputs": [
    {
     "data": {
      "text/html": [
       "176"
      ],
      "text/latex": [
       "176"
      ],
      "text/markdown": [
       "176"
      ],
      "text/plain": [
       "[1] 176"
      ]
     },
     "metadata": {},
     "output_type": "display_data"
    }
   ],
   "source": [
    "nrow(subject_info)"
   ]
  }
 ],
 "metadata": {
  "kernelspec": {
   "display_name": "R 4.1.2",
   "language": "R",
   "name": "ir4.1.2"
  },
  "language_info": {
   "codemirror_mode": "r",
   "file_extension": ".r",
   "mimetype": "text/x-r-source",
   "name": "R",
   "pygments_lexer": "r",
   "version": "4.3.1"
  }
 },
 "nbformat": 4,
 "nbformat_minor": 5
}
